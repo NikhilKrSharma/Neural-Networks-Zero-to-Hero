{
 "cells": [
  {
   "cell_type": "markdown",
   "id": "4ab24a36-9a22-4fce-8da8-3a53554c12c0",
   "metadata": {},
   "source": [
    "# [Character Level - Multi Layer Perceptron (MLP) Model](https://youtu.be/TCH_1BHY58I?list=PLAqhIrjkxbuWI23v9cThsA9GvCAUhRvKZ)"
   ]
  },
  {
   "cell_type": "code",
   "execution_count": 7,
   "id": "38033188-482b-4313-b0ab-66f684d6486a",
   "metadata": {
    "execution": {
     "iopub.execute_input": "2024-04-12T11:34:44.277693Z",
     "iopub.status.busy": "2024-04-12T11:34:44.277379Z",
     "iopub.status.idle": "2024-04-12T11:34:44.413704Z",
     "shell.execute_reply": "2024-04-12T11:34:44.412567Z",
     "shell.execute_reply.started": "2024-04-12T11:34:44.277668Z"
    }
   },
   "outputs": [],
   "source": [
    "bigram_frequency = {}\n",
    "\n",
    "for word in words:\n",
    "    chars = ['<S>'] + list(word) + ['<E>']\n",
    "    for char1, char2 in zip(chars, chars[1:]):\n",
    "        bigram = (char1, char2)\n",
    "        bigram_frequency[bigram] = bigram_frequency.get(bigram, 0) + 1"
   ]
  },
  {
   "cell_type": "code",
   "execution_count": 9,
   "id": "37af7703-a8a4-4bb6-98b2-5b620bdbac8a",
   "metadata": {
    "execution": {
     "iopub.execute_input": "2024-04-12T11:43:09.992441Z",
     "iopub.status.busy": "2024-04-12T11:43:09.991764Z",
     "iopub.status.idle": "2024-04-12T11:43:10.025126Z",
     "shell.execute_reply": "2024-04-12T11:43:10.024535Z",
     "shell.execute_reply.started": "2024-04-12T11:43:09.992412Z"
    },
    "scrolled": true
   },
   "outputs": [
    {
     "data": {
      "text/plain": [
       "[(('n', '<E>'), 6763),\n",
       " (('a', '<E>'), 6640),\n",
       " (('a', 'n'), 5438),\n",
       " (('<S>', 'a'), 4410),\n",
       " (('e', '<E>'), 3983),\n",
       " (('a', 'r'), 3264),\n",
       " (('e', 'l'), 3248),\n",
       " (('r', 'i'), 3033),\n",
       " (('n', 'a'), 2977),\n",
       " (('<S>', 'k'), 2963),\n",
       " (('l', 'e'), 2921),\n",
       " (('e', 'n'), 2675),\n",
       " (('l', 'a'), 2623),\n",
       " (('m', 'a'), 2590),\n",
       " (('<S>', 'm'), 2538),\n",
       " (('a', 'l'), 2528),\n",
       " (('i', '<E>'), 2489),\n",
       " (('l', 'i'), 2480),\n",
       " (('i', 'a'), 2445),\n",
       " (('<S>', 'j'), 2422),\n",
       " (('o', 'n'), 2411),\n",
       " (('h', '<E>'), 2409),\n",
       " (('r', 'a'), 2356),\n",
       " (('a', 'h'), 2332),\n",
       " (('h', 'a'), 2244),\n",
       " (('y', 'a'), 2143),\n",
       " (('i', 'n'), 2126),\n",
       " (('<S>', 's'), 2055),\n",
       " (('a', 'y'), 2050),\n",
       " (('y', '<E>'), 2007),\n",
       " (('e', 'r'), 1958),\n",
       " (('n', 'n'), 1906),\n",
       " (('y', 'n'), 1826),\n",
       " (('k', 'a'), 1731),\n",
       " (('n', 'i'), 1725),\n",
       " (('r', 'e'), 1697),\n",
       " (('<S>', 'd'), 1690),\n",
       " (('i', 'e'), 1653),\n",
       " (('a', 'i'), 1650),\n",
       " (('<S>', 'r'), 1639),\n",
       " (('a', 'm'), 1634),\n",
       " (('l', 'y'), 1588),\n",
       " (('<S>', 'l'), 1572),\n",
       " (('<S>', 'c'), 1542),\n",
       " (('<S>', 'e'), 1531),\n",
       " (('j', 'a'), 1473),\n",
       " (('r', '<E>'), 1377),\n",
       " (('n', 'e'), 1359),\n",
       " (('l', 'l'), 1345),\n",
       " (('i', 'l'), 1345),\n",
       " (('i', 's'), 1316),\n",
       " (('l', '<E>'), 1314),\n",
       " (('<S>', 't'), 1308),\n",
       " (('<S>', 'b'), 1306),\n",
       " (('d', 'a'), 1303),\n",
       " (('s', 'h'), 1285),\n",
       " (('d', 'e'), 1283),\n",
       " (('e', 'e'), 1271),\n",
       " (('m', 'i'), 1256),\n",
       " (('s', 'a'), 1201),\n",
       " (('s', '<E>'), 1169),\n",
       " (('<S>', 'n'), 1146),\n",
       " (('a', 's'), 1118),\n",
       " (('y', 'l'), 1104),\n",
       " (('e', 'y'), 1070),\n",
       " (('o', 'r'), 1059),\n",
       " (('a', 'd'), 1042),\n",
       " (('t', 'a'), 1027),\n",
       " (('<S>', 'z'), 929),\n",
       " (('v', 'i'), 911),\n",
       " (('k', 'e'), 895),\n",
       " (('s', 'e'), 884),\n",
       " (('<S>', 'h'), 874),\n",
       " (('r', 'o'), 869),\n",
       " (('e', 's'), 861),\n",
       " (('z', 'a'), 860),\n",
       " (('o', '<E>'), 855),\n",
       " (('i', 'r'), 849),\n",
       " (('b', 'r'), 842),\n",
       " (('a', 'v'), 834),\n",
       " (('m', 'e'), 818),\n",
       " (('e', 'i'), 818),\n",
       " (('c', 'a'), 815),\n",
       " (('i', 'y'), 779),\n",
       " (('r', 'y'), 773),\n",
       " (('e', 'm'), 769),\n",
       " (('s', 't'), 765),\n",
       " (('h', 'i'), 729),\n",
       " (('t', 'e'), 716),\n",
       " (('n', 'd'), 704),\n",
       " (('l', 'o'), 692),\n",
       " (('a', 'e'), 692),\n",
       " (('a', 't'), 687),\n",
       " (('s', 'i'), 684),\n",
       " (('e', 'a'), 679),\n",
       " (('d', 'i'), 674),\n",
       " (('h', 'e'), 674),\n",
       " (('<S>', 'g'), 669),\n",
       " (('t', 'o'), 667),\n",
       " (('c', 'h'), 664),\n",
       " (('b', 'e'), 655),\n",
       " (('t', 'h'), 647),\n",
       " (('v', 'a'), 642),\n",
       " (('o', 'l'), 619),\n",
       " (('<S>', 'i'), 591),\n",
       " (('i', 'o'), 588),\n",
       " (('e', 't'), 580),\n",
       " (('v', 'e'), 568),\n",
       " (('a', 'k'), 568),\n",
       " (('a', 'a'), 556),\n",
       " (('c', 'e'), 551),\n",
       " (('a', 'b'), 541),\n",
       " (('i', 't'), 541),\n",
       " (('<S>', 'y'), 535),\n",
       " (('t', 'i'), 532),\n",
       " (('s', 'o'), 531),\n",
       " (('m', '<E>'), 516),\n",
       " (('d', '<E>'), 516),\n",
       " (('<S>', 'p'), 515),\n",
       " (('i', 'c'), 509),\n",
       " (('k', 'i'), 509),\n",
       " (('o', 's'), 504),\n",
       " (('n', 'o'), 496),\n",
       " (('t', '<E>'), 483),\n",
       " (('j', 'o'), 479),\n",
       " (('u', 's'), 474),\n",
       " (('a', 'c'), 470),\n",
       " (('n', 'y'), 465),\n",
       " (('e', 'v'), 463),\n",
       " (('s', 's'), 461),\n",
       " (('m', 'o'), 452),\n",
       " (('i', 'k'), 445),\n",
       " (('n', 't'), 443),\n",
       " (('i', 'd'), 440),\n",
       " (('j', 'e'), 440),\n",
       " (('a', 'z'), 435),\n",
       " (('i', 'g'), 428),\n",
       " (('i', 'm'), 427),\n",
       " (('r', 'r'), 425),\n",
       " (('d', 'r'), 424),\n",
       " (('<S>', 'f'), 417),\n",
       " (('u', 'r'), 414),\n",
       " (('r', 'l'), 413),\n",
       " (('y', 's'), 401),\n",
       " (('<S>', 'o'), 394),\n",
       " (('e', 'd'), 384),\n",
       " (('a', 'u'), 381),\n",
       " (('c', 'o'), 380),\n",
       " (('k', 'y'), 379),\n",
       " (('d', 'o'), 378),\n",
       " (('<S>', 'v'), 376),\n",
       " (('t', 't'), 374),\n",
       " (('z', 'e'), 373),\n",
       " (('z', 'i'), 364),\n",
       " (('k', '<E>'), 363),\n",
       " (('g', 'h'), 360),\n",
       " (('t', 'r'), 352),\n",
       " (('k', 'o'), 344),\n",
       " (('t', 'y'), 341),\n",
       " (('g', 'e'), 334),\n",
       " (('g', 'a'), 330),\n",
       " (('l', 'u'), 324),\n",
       " (('b', 'a'), 321),\n",
       " (('d', 'y'), 317),\n",
       " (('c', 'k'), 316),\n",
       " (('<S>', 'w'), 307),\n",
       " (('k', 'h'), 307),\n",
       " (('u', 'l'), 301),\n",
       " (('y', 'e'), 301),\n",
       " (('y', 'r'), 291),\n",
       " (('m', 'y'), 287),\n",
       " (('h', 'o'), 287),\n",
       " (('w', 'a'), 280),\n",
       " (('s', 'l'), 279),\n",
       " (('n', 's'), 278),\n",
       " (('i', 'z'), 277),\n",
       " (('u', 'n'), 275),\n",
       " (('o', 'u'), 275),\n",
       " (('n', 'g'), 273),\n",
       " (('y', 'd'), 272),\n",
       " (('c', 'i'), 271),\n",
       " (('y', 'o'), 271),\n",
       " (('i', 'v'), 269),\n",
       " (('e', 'o'), 269),\n",
       " (('o', 'm'), 261),\n",
       " (('r', 'u'), 252),\n",
       " (('f', 'a'), 242),\n",
       " (('b', 'i'), 217),\n",
       " (('s', 'y'), 215),\n",
       " (('n', 'c'), 213),\n",
       " (('h', 'y'), 213),\n",
       " (('p', 'a'), 209),\n",
       " (('r', 't'), 208),\n",
       " (('q', 'u'), 206),\n",
       " (('p', 'h'), 204),\n",
       " (('h', 'r'), 204),\n",
       " (('j', 'u'), 202),\n",
       " (('g', 'r'), 201),\n",
       " (('p', 'e'), 197),\n",
       " (('n', 'l'), 195),\n",
       " (('y', 'i'), 192),\n",
       " (('g', 'i'), 190),\n",
       " (('o', 'd'), 190),\n",
       " (('r', 's'), 190),\n",
       " (('r', 'd'), 187),\n",
       " (('h', 'l'), 185),\n",
       " (('s', 'u'), 185),\n",
       " (('a', 'x'), 182),\n",
       " (('e', 'z'), 181),\n",
       " (('e', 'k'), 178),\n",
       " (('o', 'v'), 176),\n",
       " (('a', 'j'), 175),\n",
       " (('o', 'h'), 171),\n",
       " (('u', 'e'), 169),\n",
       " (('m', 'm'), 168),\n",
       " (('a', 'g'), 168),\n",
       " (('h', 'u'), 166),\n",
       " (('x', '<E>'), 164),\n",
       " (('u', 'a'), 163),\n",
       " (('r', 'm'), 162),\n",
       " (('a', 'w'), 161),\n",
       " (('f', 'i'), 160),\n",
       " (('z', '<E>'), 160),\n",
       " (('u', '<E>'), 155),\n",
       " (('u', 'm'), 154),\n",
       " (('e', 'c'), 153),\n",
       " (('v', 'o'), 153),\n",
       " (('e', 'h'), 152),\n",
       " (('p', 'r'), 151),\n",
       " (('d', 'd'), 149),\n",
       " (('o', 'a'), 149),\n",
       " (('w', 'e'), 149),\n",
       " (('w', 'i'), 148),\n",
       " (('y', 'm'), 148),\n",
       " (('z', 'y'), 147),\n",
       " (('n', 'z'), 145),\n",
       " (('y', 'u'), 141),\n",
       " (('r', 'n'), 140),\n",
       " (('o', 'b'), 140),\n",
       " (('k', 'l'), 139),\n",
       " (('m', 'u'), 139),\n",
       " (('l', 'd'), 138),\n",
       " (('h', 'n'), 138),\n",
       " (('u', 'd'), 136),\n",
       " (('<S>', 'x'), 134),\n",
       " (('t', 'l'), 134),\n",
       " (('a', 'f'), 134),\n",
       " (('o', 'e'), 132),\n",
       " (('e', 'x'), 132),\n",
       " (('e', 'g'), 125),\n",
       " (('f', 'e'), 123),\n",
       " (('z', 'l'), 123),\n",
       " (('u', 'i'), 121),\n",
       " (('v', 'y'), 121),\n",
       " (('e', 'b'), 121),\n",
       " (('r', 'h'), 121),\n",
       " (('j', 'i'), 119),\n",
       " (('o', 't'), 118),\n",
       " (('d', 'h'), 118),\n",
       " (('h', 'm'), 117),\n",
       " (('c', 'l'), 116),\n",
       " (('o', 'o'), 115),\n",
       " (('y', 'c'), 115),\n",
       " (('o', 'w'), 114),\n",
       " (('o', 'c'), 114),\n",
       " (('f', 'r'), 114),\n",
       " (('b', '<E>'), 114),\n",
       " (('m', 'b'), 112),\n",
       " (('z', 'o'), 110),\n",
       " (('i', 'b'), 110),\n",
       " (('i', 'u'), 109),\n",
       " (('k', 'r'), 109),\n",
       " (('g', '<E>'), 108),\n",
       " (('y', 'v'), 106),\n",
       " (('t', 'z'), 105),\n",
       " (('b', 'o'), 105),\n",
       " (('c', 'y'), 104),\n",
       " (('y', 't'), 104),\n",
       " (('u', 'b'), 103),\n",
       " (('u', 'c'), 103),\n",
       " (('x', 'a'), 103),\n",
       " (('b', 'l'), 103),\n",
       " (('o', 'y'), 103),\n",
       " (('x', 'i'), 102),\n",
       " (('i', 'f'), 101),\n",
       " (('r', 'c'), 99),\n",
       " (('c', '<E>'), 97),\n",
       " (('m', 'r'), 97),\n",
       " (('n', 'u'), 96),\n",
       " (('o', 'p'), 95),\n",
       " (('i', 'h'), 95),\n",
       " (('k', 's'), 95),\n",
       " (('l', 's'), 94),\n",
       " (('u', 'k'), 93),\n",
       " (('<S>', 'q'), 92),\n",
       " (('d', 'u'), 92),\n",
       " (('s', 'm'), 90),\n",
       " (('r', 'k'), 90),\n",
       " (('i', 'x'), 89),\n",
       " (('v', '<E>'), 88),\n",
       " (('y', 'k'), 86),\n",
       " (('u', 'w'), 86),\n",
       " (('g', 'u'), 85),\n",
       " (('b', 'y'), 83),\n",
       " (('e', 'p'), 83),\n",
       " (('g', 'o'), 83),\n",
       " (('s', 'k'), 82),\n",
       " (('u', 't'), 82),\n",
       " (('a', 'p'), 82),\n",
       " (('e', 'f'), 82),\n",
       " (('i', 'i'), 82),\n",
       " (('r', 'v'), 80),\n",
       " (('f', '<E>'), 80),\n",
       " (('t', 'u'), 78),\n",
       " (('y', 'z'), 78),\n",
       " (('<S>', 'u'), 78),\n",
       " (('l', 't'), 77),\n",
       " (('r', 'g'), 76),\n",
       " (('c', 'r'), 76),\n",
       " (('i', 'j'), 76),\n",
       " (('w', 'y'), 73),\n",
       " (('z', 'u'), 73),\n",
       " (('l', 'v'), 72),\n",
       " (('h', 't'), 71),\n",
       " (('j', '<E>'), 71),\n",
       " (('x', 't'), 70),\n",
       " (('o', 'i'), 69),\n",
       " (('e', 'u'), 69),\n",
       " (('o', 'k'), 68),\n",
       " (('b', 'd'), 65),\n",
       " (('a', 'o'), 63),\n",
       " (('p', 'i'), 61),\n",
       " (('s', 'c'), 60),\n",
       " (('d', 'l'), 60),\n",
       " (('l', 'm'), 60),\n",
       " (('a', 'q'), 60),\n",
       " (('f', 'o'), 60),\n",
       " (('p', 'o'), 59),\n",
       " (('n', 'k'), 58),\n",
       " (('w', 'n'), 58),\n",
       " (('u', 'h'), 58),\n",
       " (('e', 'j'), 55),\n",
       " (('n', 'v'), 55),\n",
       " (('s', 'r'), 55),\n",
       " (('o', 'z'), 54),\n",
       " (('i', 'p'), 53),\n",
       " (('l', 'b'), 52),\n",
       " (('i', 'q'), 52),\n",
       " (('w', '<E>'), 51),\n",
       " (('m', 'c'), 51),\n",
       " (('s', 'p'), 51),\n",
       " (('e', 'w'), 50),\n",
       " (('k', 'u'), 50),\n",
       " (('v', 'r'), 48),\n",
       " (('u', 'g'), 47),\n",
       " (('o', 'x'), 45),\n",
       " (('u', 'z'), 45),\n",
       " (('z', 'z'), 45),\n",
       " (('j', 'h'), 45),\n",
       " (('b', 'u'), 45),\n",
       " (('o', 'g'), 44),\n",
       " (('n', 'r'), 44),\n",
       " (('f', 'f'), 44),\n",
       " (('n', 'j'), 44),\n",
       " (('z', 'h'), 43),\n",
       " (('c', 'c'), 42),\n",
       " (('r', 'b'), 41),\n",
       " (('x', 'o'), 41),\n",
       " (('b', 'h'), 41),\n",
       " (('p', 'p'), 39),\n",
       " (('x', 'l'), 39),\n",
       " (('h', 'v'), 39),\n",
       " (('b', 'b'), 38),\n",
       " (('m', 'p'), 38),\n",
       " (('x', 'x'), 38),\n",
       " (('u', 'v'), 37),\n",
       " (('x', 'e'), 36),\n",
       " (('w', 'o'), 36),\n",
       " (('c', 't'), 35),\n",
       " (('z', 'm'), 35),\n",
       " (('t', 's'), 35),\n",
       " (('m', 's'), 35),\n",
       " (('c', 'u'), 35),\n",
       " (('o', 'f'), 34),\n",
       " (('u', 'x'), 34),\n",
       " (('k', 'w'), 34),\n",
       " (('p', '<E>'), 33),\n",
       " (('g', 'l'), 32),\n",
       " (('z', 'r'), 32),\n",
       " (('d', 'n'), 31),\n",
       " (('g', 't'), 31),\n",
       " (('g', 'y'), 31),\n",
       " (('h', 's'), 31),\n",
       " (('x', 's'), 31),\n",
       " (('g', 's'), 30),\n",
       " (('x', 'y'), 30),\n",
       " (('y', 'g'), 30),\n",
       " (('d', 'm'), 30),\n",
       " (('d', 's'), 29),\n",
       " (('h', 'k'), 29),\n",
       " (('y', 'x'), 28),\n",
       " (('q', '<E>'), 28),\n",
       " (('g', 'n'), 27),\n",
       " (('y', 'b'), 27),\n",
       " (('g', 'w'), 26),\n",
       " (('n', 'h'), 26),\n",
       " (('k', 'n'), 26),\n",
       " (('g', 'g'), 25),\n",
       " (('d', 'g'), 25),\n",
       " (('l', 'c'), 25),\n",
       " (('r', 'j'), 25),\n",
       " (('w', 'u'), 25),\n",
       " (('l', 'k'), 24),\n",
       " (('m', 'd'), 24),\n",
       " (('s', 'w'), 24),\n",
       " (('s', 'n'), 24),\n",
       " (('h', 'd'), 24),\n",
       " (('w', 'h'), 23),\n",
       " (('y', 'j'), 23),\n",
       " (('y', 'y'), 23),\n",
       " (('r', 'z'), 23),\n",
       " (('d', 'w'), 23),\n",
       " (('w', 'r'), 22),\n",
       " (('t', 'n'), 22),\n",
       " (('l', 'f'), 22),\n",
       " (('y', 'h'), 22),\n",
       " (('r', 'w'), 21),\n",
       " (('s', 'b'), 21),\n",
       " (('m', 'n'), 20),\n",
       " (('f', 'l'), 20),\n",
       " (('w', 's'), 20),\n",
       " (('k', 'k'), 20),\n",
       " (('h', 'z'), 20),\n",
       " (('g', 'd'), 19),\n",
       " (('l', 'h'), 19),\n",
       " (('n', 'm'), 19),\n",
       " (('x', 'z'), 19),\n",
       " (('u', 'f'), 19),\n",
       " (('f', 't'), 18),\n",
       " (('l', 'r'), 18),\n",
       " (('p', 't'), 17),\n",
       " (('t', 'c'), 17),\n",
       " (('k', 't'), 17),\n",
       " (('d', 'v'), 17),\n",
       " (('u', 'p'), 16),\n",
       " (('p', 'l'), 16),\n",
       " (('l', 'w'), 16),\n",
       " (('p', 's'), 16),\n",
       " (('o', 'j'), 16),\n",
       " (('r', 'q'), 16),\n",
       " (('y', 'p'), 15),\n",
       " (('l', 'p'), 15),\n",
       " (('t', 'v'), 15),\n",
       " (('r', 'p'), 14),\n",
       " (('l', 'n'), 14),\n",
       " (('e', 'q'), 14),\n",
       " (('f', 'y'), 14),\n",
       " (('s', 'v'), 14),\n",
       " (('u', 'j'), 14),\n",
       " (('v', 'l'), 14),\n",
       " (('q', 'a'), 13),\n",
       " (('u', 'y'), 13),\n",
       " (('q', 'i'), 13),\n",
       " (('w', 'l'), 13),\n",
       " (('p', 'y'), 12),\n",
       " (('y', 'f'), 12),\n",
       " (('c', 'q'), 11),\n",
       " (('j', 'r'), 11),\n",
       " (('n', 'w'), 11),\n",
       " (('n', 'f'), 11),\n",
       " (('t', 'w'), 11),\n",
       " (('m', 'z'), 11),\n",
       " (('u', 'o'), 10),\n",
       " (('f', 'u'), 10),\n",
       " (('l', 'z'), 10),\n",
       " (('h', 'w'), 10),\n",
       " (('u', 'q'), 10),\n",
       " (('j', 'y'), 10),\n",
       " (('s', 'z'), 10),\n",
       " (('s', 'd'), 9),\n",
       " (('j', 'l'), 9),\n",
       " (('d', 'j'), 9),\n",
       " (('k', 'm'), 9),\n",
       " (('r', 'f'), 9),\n",
       " (('h', 'j'), 9),\n",
       " (('v', 'n'), 8),\n",
       " (('n', 'b'), 8),\n",
       " (('i', 'w'), 8),\n",
       " (('h', 'b'), 8),\n",
       " (('b', 's'), 8),\n",
       " (('w', 't'), 8),\n",
       " (('w', 'd'), 8),\n",
       " (('v', 'v'), 7),\n",
       " (('v', 'u'), 7),\n",
       " (('j', 's'), 7),\n",
       " (('m', 'j'), 7),\n",
       " (('f', 's'), 6),\n",
       " (('l', 'g'), 6),\n",
       " (('l', 'j'), 6),\n",
       " (('j', 'w'), 6),\n",
       " (('n', 'x'), 6),\n",
       " (('y', 'q'), 6),\n",
       " (('w', 'k'), 6),\n",
       " (('g', 'm'), 6),\n",
       " (('x', 'u'), 5),\n",
       " (('m', 'h'), 5),\n",
       " (('m', 'l'), 5),\n",
       " (('j', 'm'), 5),\n",
       " (('c', 's'), 5),\n",
       " (('j', 'v'), 5),\n",
       " (('n', 'p'), 5),\n",
       " (('d', 'f'), 5),\n",
       " (('x', 'd'), 5),\n",
       " (('z', 'b'), 4),\n",
       " (('f', 'n'), 4),\n",
       " (('x', 'c'), 4),\n",
       " (('m', 't'), 4),\n",
       " (('t', 'm'), 4),\n",
       " (('z', 'n'), 4),\n",
       " (('z', 't'), 4),\n",
       " (('p', 'u'), 4),\n",
       " (('c', 'z'), 4),\n",
       " (('b', 'n'), 4),\n",
       " (('z', 's'), 4),\n",
       " (('f', 'w'), 4),\n",
       " (('d', 't'), 4),\n",
       " (('j', 'd'), 4),\n",
       " (('j', 'c'), 4),\n",
       " (('y', 'w'), 4),\n",
       " (('v', 'k'), 3),\n",
       " (('x', 'w'), 3),\n",
       " (('t', 'j'), 3),\n",
       " (('c', 'j'), 3),\n",
       " (('q', 'w'), 3),\n",
       " (('g', 'b'), 3),\n",
       " (('o', 'q'), 3),\n",
       " (('r', 'x'), 3),\n",
       " (('d', 'c'), 3),\n",
       " (('g', 'j'), 3),\n",
       " (('x', 'f'), 3),\n",
       " (('z', 'w'), 3),\n",
       " (('d', 'k'), 3),\n",
       " (('u', 'u'), 3),\n",
       " (('m', 'v'), 3),\n",
       " (('c', 'x'), 3),\n",
       " (('l', 'q'), 3),\n",
       " (('p', 'b'), 2),\n",
       " (('t', 'g'), 2),\n",
       " (('q', 's'), 2),\n",
       " (('t', 'x'), 2),\n",
       " (('f', 'k'), 2),\n",
       " (('b', 't'), 2),\n",
       " (('j', 'n'), 2),\n",
       " (('k', 'c'), 2),\n",
       " (('z', 'k'), 2),\n",
       " (('s', 'j'), 2),\n",
       " (('s', 'f'), 2),\n",
       " (('z', 'j'), 2),\n",
       " (('n', 'q'), 2),\n",
       " (('f', 'z'), 2),\n",
       " (('h', 'g'), 2),\n",
       " (('w', 'w'), 2),\n",
       " (('k', 'j'), 2),\n",
       " (('j', 'k'), 2),\n",
       " (('w', 'm'), 2),\n",
       " (('z', 'c'), 2),\n",
       " (('z', 'v'), 2),\n",
       " (('w', 'f'), 2),\n",
       " (('q', 'm'), 2),\n",
       " (('k', 'z'), 2),\n",
       " (('j', 'j'), 2),\n",
       " (('z', 'p'), 2),\n",
       " (('j', 't'), 2),\n",
       " (('k', 'b'), 2),\n",
       " (('m', 'w'), 2),\n",
       " (('h', 'f'), 2),\n",
       " (('c', 'g'), 2),\n",
       " (('t', 'f'), 2),\n",
       " (('h', 'c'), 2),\n",
       " (('q', 'o'), 2),\n",
       " (('k', 'd'), 2),\n",
       " (('k', 'v'), 2),\n",
       " (('s', 'g'), 2),\n",
       " (('z', 'd'), 2),\n",
       " (('q', 'r'), 1),\n",
       " (('d', 'z'), 1),\n",
       " (('p', 'j'), 1),\n",
       " (('q', 'l'), 1),\n",
       " (('p', 'f'), 1),\n",
       " (('q', 'e'), 1),\n",
       " (('b', 'c'), 1),\n",
       " (('c', 'd'), 1),\n",
       " (('m', 'f'), 1),\n",
       " (('p', 'n'), 1),\n",
       " (('w', 'b'), 1),\n",
       " (('p', 'c'), 1),\n",
       " (('h', 'p'), 1),\n",
       " (('f', 'h'), 1),\n",
       " (('b', 'j'), 1),\n",
       " (('f', 'g'), 1),\n",
       " (('z', 'g'), 1),\n",
       " (('c', 'p'), 1),\n",
       " (('p', 'k'), 1),\n",
       " (('p', 'm'), 1),\n",
       " (('x', 'n'), 1),\n",
       " (('s', 'q'), 1),\n",
       " (('k', 'f'), 1),\n",
       " (('m', 'k'), 1),\n",
       " (('x', 'h'), 1),\n",
       " (('g', 'f'), 1),\n",
       " (('v', 'b'), 1),\n",
       " (('j', 'p'), 1),\n",
       " (('g', 'z'), 1),\n",
       " (('v', 'd'), 1),\n",
       " (('d', 'b'), 1),\n",
       " (('v', 'h'), 1),\n",
       " (('h', 'h'), 1),\n",
       " (('g', 'v'), 1),\n",
       " (('d', 'q'), 1),\n",
       " (('x', 'b'), 1),\n",
       " (('w', 'z'), 1),\n",
       " (('h', 'q'), 1),\n",
       " (('j', 'b'), 1),\n",
       " (('x', 'm'), 1),\n",
       " (('w', 'g'), 1),\n",
       " (('t', 'b'), 1),\n",
       " (('z', 'x'), 1)]"
      ]
     },
     "execution_count": 9,
     "metadata": {},
     "output_type": "execute_result"
    }
   ],
   "source": [
    "sorted(bigram_frequency.items(), key=lambda kv:kv[1], reverse=True)"
   ]
  },
  {
   "cell_type": "code",
   "execution_count": 10,
   "id": "2ecef422-27ad-4018-be1f-63fcec2d02df",
   "metadata": {
    "execution": {
     "iopub.execute_input": "2024-04-12T11:43:50.684961Z",
     "iopub.status.busy": "2024-04-12T11:43:50.684646Z",
     "iopub.status.idle": "2024-04-12T11:43:50.688938Z",
     "shell.execute_reply": "2024-04-12T11:43:50.688251Z",
     "shell.execute_reply.started": "2024-04-12T11:43:50.684937Z"
    }
   },
   "outputs": [],
   "source": [
    "dim1 = set([x[0] for x in bigram_frequency.keys()])\n",
    "dim2 = set([x[1] for x in bigram_frequency.keys()])\n",
    "dim = len(dim1.union(dim2))\n",
    "del dim1, dim2"
   ]
  },
  {
   "cell_type": "code",
   "execution_count": 11,
   "id": "9aaa08bf-af8a-45d6-ac43-bccd17beb152",
   "metadata": {
    "execution": {
     "iopub.execute_input": "2024-04-12T11:43:52.094388Z",
     "iopub.status.busy": "2024-04-12T11:43:52.094088Z",
     "iopub.status.idle": "2024-04-12T11:43:52.098883Z",
     "shell.execute_reply": "2024-04-12T11:43:52.098138Z",
     "shell.execute_reply.started": "2024-04-12T11:43:52.094367Z"
    }
   },
   "outputs": [
    {
     "data": {
      "text/plain": [
       "28"
      ]
     },
     "execution_count": 11,
     "metadata": {},
     "output_type": "execute_result"
    }
   ],
   "source": [
    "dim"
   ]
  },
  {
   "cell_type": "code",
   "execution_count": 12,
   "id": "815a1e93-10f6-4eb0-ba22-2dd5ce830802",
   "metadata": {
    "execution": {
     "iopub.execute_input": "2024-04-12T11:44:33.166538Z",
     "iopub.status.busy": "2024-04-12T11:44:33.166231Z",
     "iopub.status.idle": "2024-04-12T11:44:33.174093Z",
     "shell.execute_reply": "2024-04-12T11:44:33.173335Z",
     "shell.execute_reply.started": "2024-04-12T11:44:33.166502Z"
    }
   },
   "outputs": [],
   "source": [
    "vocab = sorted(set(''.join(words)))\n",
    "\n",
    "string_to_int = {s:i for i, s in enumerate(vocab)}\n",
    "string_to_int['<S>'] = 26 \n",
    "string_to_int['<E>'] = 27\n",
    "\n",
    "int_to_string = {i:s for s, i in string_to_int.items()}"
   ]
  },
  {
   "cell_type": "code",
   "execution_count": 13,
   "id": "897299b5-a29d-499e-81b1-b219b16dbaa8",
   "metadata": {
    "execution": {
     "iopub.execute_input": "2024-04-12T11:44:36.275945Z",
     "iopub.status.busy": "2024-04-12T11:44:36.275642Z",
     "iopub.status.idle": "2024-04-12T11:44:36.281051Z",
     "shell.execute_reply": "2024-04-12T11:44:36.280359Z",
     "shell.execute_reply.started": "2024-04-12T11:44:36.275923Z"
    },
    "scrolled": true
   },
   "outputs": [
    {
     "name": "stdout",
     "output_type": "stream",
     "text": [
      "{'a': 0, 'b': 1, 'c': 2, 'd': 3, 'e': 4, 'f': 5, 'g': 6, 'h': 7, 'i': 8, 'j': 9, 'k': 10, 'l': 11, 'm': 12, 'n': 13, 'o': 14, 'p': 15, 'q': 16, 'r': 17, 's': 18, 't': 19, 'u': 20, 'v': 21, 'w': 22, 'x': 23, 'y': 24, 'z': 25, '<S>': 26, '<E>': 27}\n"
     ]
    }
   ],
   "source": [
    "print(string_to_int)"
   ]
  },
  {
   "cell_type": "code",
   "execution_count": 14,
   "id": "c27d64cb-b4d2-405d-af7e-67152ba5246b",
   "metadata": {
    "execution": {
     "iopub.execute_input": "2024-04-12T11:44:37.435935Z",
     "iopub.status.busy": "2024-04-12T11:44:37.435621Z",
     "iopub.status.idle": "2024-04-12T11:44:37.439499Z",
     "shell.execute_reply": "2024-04-12T11:44:37.438861Z",
     "shell.execute_reply.started": "2024-04-12T11:44:37.435912Z"
    }
   },
   "outputs": [
    {
     "name": "stdout",
     "output_type": "stream",
     "text": [
      "{0: 'a', 1: 'b', 2: 'c', 3: 'd', 4: 'e', 5: 'f', 6: 'g', 7: 'h', 8: 'i', 9: 'j', 10: 'k', 11: 'l', 12: 'm', 13: 'n', 14: 'o', 15: 'p', 16: 'q', 17: 'r', 18: 's', 19: 't', 20: 'u', 21: 'v', 22: 'w', 23: 'x', 24: 'y', 25: 'z', 26: '<S>', 27: '<E>'}\n"
     ]
    }
   ],
   "source": [
    "print(int_to_string)"
   ]
  },
  {
   "cell_type": "code",
   "execution_count": 15,
   "id": "e29a5d89-19a6-4564-881c-a6a0a4df6a22",
   "metadata": {
    "execution": {
     "iopub.execute_input": "2024-04-12T11:44:44.646601Z",
     "iopub.status.busy": "2024-04-12T11:44:44.646177Z",
     "iopub.status.idle": "2024-04-12T11:44:44.652335Z",
     "shell.execute_reply": "2024-04-12T11:44:44.651602Z",
     "shell.execute_reply.started": "2024-04-12T11:44:44.646577Z"
    }
   },
   "outputs": [],
   "source": [
    "N = torch.zeros((dim, dim), dtype=torch.int32)"
   ]
  },
  {
   "cell_type": "code",
   "execution_count": 16,
   "id": "2dfa19d1-8eb8-4a58-aa38-9f3e8f8af35a",
   "metadata": {
    "execution": {
     "iopub.execute_input": "2024-04-12T11:45:13.778935Z",
     "iopub.status.busy": "2024-04-12T11:45:13.778585Z",
     "iopub.status.idle": "2024-04-12T11:45:16.386317Z",
     "shell.execute_reply": "2024-04-12T11:45:16.385804Z",
     "shell.execute_reply.started": "2024-04-12T11:45:13.778861Z"
    }
   },
   "outputs": [],
   "source": [
    "for word in words:\n",
    "    chars = ['<S>'] + list(word) + ['<E>']\n",
    "    for char1, char2 in zip(chars, chars[1:]):\n",
    "        index_of_char1 = string_to_int[char1]\n",
    "        index_of_char2 = string_to_int[char2]\n",
    "\n",
    "        N[index_of_char1, index_of_char2] += 1"
   ]
  },
  {
   "cell_type": "code",
   "execution_count": 246,
   "id": "afcd6138-5484-470c-b0b8-a7dce527e1e0",
   "metadata": {
    "execution": {
     "iopub.execute_input": "2024-04-13T18:18:40.024994Z",
     "iopub.status.busy": "2024-04-13T18:18:40.024694Z",
     "iopub.status.idle": "2024-04-13T18:18:40.032522Z",
     "shell.execute_reply": "2024-04-13T18:18:40.031313Z",
     "shell.execute_reply.started": "2024-04-13T18:18:40.024971Z"
    }
   },
   "outputs": [],
   "source": [
    "import torch\n",
    "import torch.nn.functional as F\n",
    "\n",
    "import random\n",
    "\n",
    "import matplotlib.pyplot as plt\n",
    "%matplotlib inline"
   ]
  },
  {
   "cell_type": "markdown",
   "id": "c49c02e5-b45c-4cfd-8537-f07de0422d35",
   "metadata": {},
   "source": [
    "## Reading the data & character lookup tables"
   ]
  },
  {
   "cell_type": "code",
   "execution_count": 7,
   "id": "68e3cbd8-085b-445b-9133-e3bccb040645",
   "metadata": {
    "execution": {
     "iopub.execute_input": "2024-04-12T14:24:09.439252Z",
     "iopub.status.busy": "2024-04-12T14:24:09.438950Z",
     "iopub.status.idle": "2024-04-12T14:24:09.466383Z",
     "shell.execute_reply": "2024-04-12T14:24:09.465666Z",
     "shell.execute_reply.started": "2024-04-12T14:24:09.439229Z"
    }
   },
   "outputs": [
    {
     "name": "stdout",
     "output_type": "stream",
     "text": [
      "[+] Sample words: ['emma', 'olivia', 'ava']\n",
      "\n",
      "[+] Count of names : 32033\n",
      "[+] Minimum num of letter in a name [an] : 2\n",
      "[+] Maximum num of letter in a name [muhammadibrahim] : 15\n"
     ]
    }
   ],
   "source": [
    "with open('./data/names_makemore.txt', 'r') as f:\n",
    "    words = f.readlines()\n",
    "    words = [name.strip() for name in words]\n",
    "\n",
    "print(f'[+] Sample words: {words[:3]}')\n",
    "print(f'''\n",
    "[+] Count of names : {len(words)}\n",
    "[+] Minimum num of letter in a name [{words[[len(w) for w in words].index(min([len(w) for w in words]))]}] : {min(len(w) for w in words)}\n",
    "[+] Maximum num of letter in a name [{words[[len(w) for w in words].index(max([len(w) for w in words]))]}] : {max(len(w) for w in words)}''')"
   ]
  },
  {
   "cell_type": "code",
   "execution_count": 9,
   "id": "620989e0-a9c6-486f-bc83-de0718ced2d7",
   "metadata": {
    "execution": {
     "iopub.execute_input": "2024-04-12T14:28:17.012166Z",
     "iopub.status.busy": "2024-04-12T14:28:17.011871Z",
     "iopub.status.idle": "2024-04-12T14:28:17.021003Z",
     "shell.execute_reply": "2024-04-12T14:28:17.019976Z",
     "shell.execute_reply.started": "2024-04-12T14:28:17.012142Z"
    }
   },
   "outputs": [
    {
     "name": "stdout",
     "output_type": "stream",
     "text": [
      "char_to_index={'a': 1, 'b': 2, 'c': 3, 'd': 4, 'e': 5, 'f': 6, 'g': 7, 'h': 8, 'i': 9, 'j': 10, 'k': 11, 'l': 12, 'm': 13, 'n': 14, 'o': 15, 'p': 16, 'q': 17, 'r': 18, 's': 19, 't': 20, 'u': 21, 'v': 22, 'w': 23, 'x': 24, 'y': 25, 'z': 26, '.': 0}\n",
      "\n",
      "index_to_char={1: 'a', 2: 'b', 3: 'c', 4: 'd', 5: 'e', 6: 'f', 7: 'g', 8: 'h', 9: 'i', 10: 'j', 11: 'k', 12: 'l', 13: 'm', 14: 'n', 15: 'o', 16: 'p', 17: 'q', 18: 'r', 19: 's', 20: 't', 21: 'u', 22: 'v', 23: 'w', 24: 'x', 25: 'y', 26: 'z', 0: '.'}\n"
     ]
    }
   ],
   "source": [
    "chars = sorted(list(set(''.join(words))))\n",
    "\n",
    "char_to_index = {s:i+1 for i, s in enumerate(chars)}\n",
    "char_to_index['.'] = 0\n",
    "\n",
    "index_to_char = {i:s for s, i in char_to_index.items()}\n",
    "\n",
    "print(f'{char_to_index=}')\n",
    "print()\n",
    "print(f'{index_to_char=}')"
   ]
  },
  {
   "cell_type": "markdown",
   "id": "3eacf853-caa5-4b67-ae7c-8cdd03b99c32",
   "metadata": {},
   "source": [
    "## Create dataset "
   ]
  },
  {
   "cell_type": "code",
   "execution_count": 31,
   "id": "b20ae8e4-0a6e-4e95-a24c-0c070e3c6c52",
   "metadata": {
    "execution": {
     "iopub.execute_input": "2024-04-13T07:14:14.079883Z",
     "iopub.status.busy": "2024-04-13T07:14:14.079233Z",
     "iopub.status.idle": "2024-04-13T07:14:14.105664Z",
     "shell.execute_reply": "2024-04-13T07:14:14.104815Z",
     "shell.execute_reply.started": "2024-04-13T07:14:14.079865Z"
    }
   },
   "outputs": [
    {
     "data": {
      "text/plain": [
       "['emma', 'olivia', 'ava']"
      ]
     },
     "execution_count": 31,
     "metadata": {},
     "output_type": "execute_result"
    }
   ],
   "source": [
    "words[:3]"
   ]
  },
  {
   "cell_type": "code",
   "execution_count": 201,
   "id": "0bffb757-54fd-4239-aa3f-4b7a7d7b50b5",
   "metadata": {
    "execution": {
     "iopub.execute_input": "2024-04-13T17:35:48.313947Z",
     "iopub.status.busy": "2024-04-13T17:35:48.313650Z",
     "iopub.status.idle": "2024-04-13T17:35:49.148057Z",
     "shell.execute_reply": "2024-04-13T17:35:49.147480Z",
     "shell.execute_reply.started": "2024-04-13T17:35:48.313924Z"
    }
   },
   "outputs": [],
   "source": [
    "# Context length: How many characters do we take to predict the next one?\n",
    "block_size = 3\n",
    "\n",
    "X, Y = [], []\n",
    "\n",
    "verbose = False\n",
    "for word in words:\n",
    "\n",
    "    context = [0] * block_size\n",
    "\n",
    "    if verbose: print(f'\\n[+] Target word: {word} | Context: {context}')\n",
    "\n",
    "    # print(f'\\n[+] Target word: {word}')\n",
    "\n",
    "    for char in word + '.':\n",
    "        ix = char_to_index[char]\n",
    "        X.append(context)\n",
    "        Y.append(ix)\n",
    "        \n",
    "        \n",
    "        # print('\\t', ''.join(index_to_char[i] for i in context), '--->', index_to_char[ix])\n",
    "\n",
    "        if verbose: \n",
    "            print('\\t', ''.join(index_to_char[i] for i in context), '--->', index_to_char[ix], f' [{ix=}] ', f'\\tNew Context: {context}')\n",
    "\n",
    "        context = context[1:] + [ix]  # crop and append\n",
    "\n",
    "X = torch.tensor(X)\n",
    "Y = torch.tensor(Y)"
   ]
  },
  {
   "cell_type": "code",
   "execution_count": 202,
   "id": "dc4e2de0-c960-43d1-ae2d-662246b6493d",
   "metadata": {
    "execution": {
     "iopub.execute_input": "2024-04-13T17:35:50.594159Z",
     "iopub.status.busy": "2024-04-13T17:35:50.593874Z",
     "iopub.status.idle": "2024-04-13T17:35:50.599429Z",
     "shell.execute_reply": "2024-04-13T17:35:50.598627Z",
     "shell.execute_reply.started": "2024-04-13T17:35:50.594138Z"
    }
   },
   "outputs": [
    {
     "data": {
      "text/plain": [
       "(torch.Size([228146, 3]), torch.Size([228146]))"
      ]
     },
     "execution_count": 202,
     "metadata": {},
     "output_type": "execute_result"
    }
   ],
   "source": [
    "X.shape, Y.shape"
   ]
  },
  {
   "cell_type": "code",
   "execution_count": 118,
   "id": "4483b5f4-1603-4a3d-9b57-08596dda5c85",
   "metadata": {
    "execution": {
     "iopub.execute_input": "2024-04-13T15:51:36.855938Z",
     "iopub.status.busy": "2024-04-13T15:51:36.855646Z",
     "iopub.status.idle": "2024-04-13T15:51:36.862577Z",
     "shell.execute_reply": "2024-04-13T15:51:36.861913Z",
     "shell.execute_reply.started": "2024-04-13T15:51:36.855915Z"
    },
    "scrolled": true
   },
   "outputs": [
    {
     "data": {
      "text/plain": [
       "tensor([[ 0,  0,  0],\n",
       "        [ 0,  0,  5],\n",
       "        [ 0,  5, 13],\n",
       "        [ 5, 13, 13],\n",
       "        [13, 13,  1],\n",
       "        [ 0,  0,  0],\n",
       "        [ 0,  0, 15],\n",
       "        [ 0, 15, 12],\n",
       "        [15, 12,  9],\n",
       "        [12,  9, 22],\n",
       "        [ 9, 22,  9],\n",
       "        [22,  9,  1],\n",
       "        [ 0,  0,  0],\n",
       "        [ 0,  0,  1],\n",
       "        [ 0,  1, 22],\n",
       "        [ 1, 22,  1],\n",
       "        [ 0,  0,  0],\n",
       "        [ 0,  0,  9],\n",
       "        [ 0,  9, 19],\n",
       "        [ 9, 19,  1],\n",
       "        [19,  1,  2],\n",
       "        [ 1,  2,  5],\n",
       "        [ 2,  5, 12],\n",
       "        [ 5, 12, 12],\n",
       "        [12, 12,  1],\n",
       "        [ 0,  0,  0],\n",
       "        [ 0,  0, 19],\n",
       "        [ 0, 19, 15],\n",
       "        [19, 15, 16],\n",
       "        [15, 16,  8],\n",
       "        [16,  8,  9],\n",
       "        [ 8,  9,  1]])"
      ]
     },
     "execution_count": 118,
     "metadata": {},
     "output_type": "execute_result"
    }
   ],
   "source": [
    "X"
   ]
  },
  {
   "cell_type": "code",
   "execution_count": 119,
   "id": "ba0904c4-0dc0-421b-9cb5-5d872c2875ad",
   "metadata": {
    "execution": {
     "iopub.execute_input": "2024-04-13T15:51:39.190205Z",
     "iopub.status.busy": "2024-04-13T15:51:39.189908Z",
     "iopub.status.idle": "2024-04-13T15:51:39.195823Z",
     "shell.execute_reply": "2024-04-13T15:51:39.194950Z",
     "shell.execute_reply.started": "2024-04-13T15:51:39.190183Z"
    }
   },
   "outputs": [
    {
     "data": {
      "text/plain": [
       "tensor([ 5, 13, 13,  1,  0, 15, 12,  9, 22,  9,  1,  0,  1, 22,  1,  0,  9, 19,\n",
       "         1,  2,  5, 12, 12,  1,  0, 19, 15, 16,  8,  9,  1,  0])"
      ]
     },
     "execution_count": 119,
     "metadata": {},
     "output_type": "execute_result"
    }
   ],
   "source": [
    "Y"
   ]
  },
  {
   "cell_type": "code",
   "execution_count": 203,
   "id": "d3381149-83c6-4785-a285-acb879f6a472",
   "metadata": {
    "execution": {
     "iopub.execute_input": "2024-04-13T17:35:59.717279Z",
     "iopub.status.busy": "2024-04-13T17:35:59.716986Z",
     "iopub.status.idle": "2024-04-13T17:35:59.721525Z",
     "shell.execute_reply": "2024-04-13T17:35:59.720462Z",
     "shell.execute_reply.started": "2024-04-13T17:35:59.717257Z"
    }
   },
   "outputs": [
    {
     "name": "stdout",
     "output_type": "stream",
     "text": [
      "[+] Number of training samples: 228146\n"
     ]
    }
   ],
   "source": [
    "number_of_training_samples = X.shape[0]\n",
    "print(f'[+] Number of training samples: {number_of_training_samples}')"
   ]
  },
  {
   "cell_type": "code",
   "execution_count": 121,
   "id": "29d5df1b-cd65-44e4-9af4-ea9404136f60",
   "metadata": {
    "execution": {
     "iopub.execute_input": "2024-04-13T15:52:40.915602Z",
     "iopub.status.busy": "2024-04-13T15:52:40.915314Z",
     "iopub.status.idle": "2024-04-13T15:52:40.926274Z",
     "shell.execute_reply": "2024-04-13T15:52:40.925380Z",
     "shell.execute_reply.started": "2024-04-13T15:52:40.915579Z"
    }
   },
   "outputs": [
    {
     "name": "stdout",
     "output_type": "stream",
     "text": [
      "[+] Count of all the characters in our dataset: 27\n"
     ]
    }
   ],
   "source": [
    "# Lookup Table [Embedding] for our 27 characters in the dataset\n",
    "# 2 dimentional Embedding\n",
    "\n",
    "universe_of_dataset = len(char_to_index.keys())\n",
    "print(f'[+] Count of all the characters in our dataset: {universe_of_dataset}')\n",
    "\n",
    "C =  torch.randn((universe_of_dataset, 2))"
   ]
  },
  {
   "cell_type": "code",
   "execution_count": 122,
   "id": "04fed47b-39eb-4f2b-9973-17b1e4dd283c",
   "metadata": {
    "execution": {
     "iopub.execute_input": "2024-04-13T15:52:53.380739Z",
     "iopub.status.busy": "2024-04-13T15:52:53.380178Z",
     "iopub.status.idle": "2024-04-13T15:52:53.385928Z",
     "shell.execute_reply": "2024-04-13T15:52:53.385074Z",
     "shell.execute_reply.started": "2024-04-13T15:52:53.380709Z"
    },
    "scrolled": true
   },
   "outputs": [
    {
     "data": {
      "text/plain": [
       "torch.Size([27, 2])"
      ]
     },
     "execution_count": 122,
     "metadata": {},
     "output_type": "execute_result"
    }
   ],
   "source": [
    "C.shape"
   ]
  },
  {
   "cell_type": "code",
   "execution_count": 123,
   "id": "4c025d40-360f-4893-8570-315ff36506f7",
   "metadata": {
    "execution": {
     "iopub.execute_input": "2024-04-13T15:52:55.703293Z",
     "iopub.status.busy": "2024-04-13T15:52:55.703058Z",
     "iopub.status.idle": "2024-04-13T15:52:55.707941Z",
     "shell.execute_reply": "2024-04-13T15:52:55.707339Z",
     "shell.execute_reply.started": "2024-04-13T15:52:55.703274Z"
    },
    "scrolled": true
   },
   "outputs": [
    {
     "data": {
      "text/plain": [
       "tensor([[ 5.1774e-04, -1.5856e+00],\n",
       "        [ 1.1861e+00, -1.2945e+00],\n",
       "        [ 7.6653e-01, -8.1116e-01],\n",
       "        [ 1.8389e-02,  7.0081e-01],\n",
       "        [-1.4267e+00, -5.5904e-02],\n",
       "        [ 1.3632e+00,  5.7042e-01],\n",
       "        [-2.2796e-02, -5.6205e-01],\n",
       "        [-1.4391e+00,  6.9616e-01],\n",
       "        [ 3.1499e-01, -2.9157e-01],\n",
       "        [ 2.1127e+00, -1.6139e-01],\n",
       "        [-5.8898e-02, -2.8160e-01],\n",
       "        [-4.8319e-01, -5.3754e-01],\n",
       "        [-4.0792e-01,  1.4956e-01],\n",
       "        [ 1.0442e+00,  1.9311e-02],\n",
       "        [-3.9864e-01, -2.1955e+00],\n",
       "        [ 1.0596e+00, -1.1798e-01],\n",
       "        [ 1.0881e+00, -1.0571e+00],\n",
       "        [ 1.0291e+00, -7.3887e-01],\n",
       "        [-5.4022e-01, -1.6297e+00],\n",
       "        [ 7.9206e-01, -1.1254e+00],\n",
       "        [ 1.0578e+00,  1.2989e+00],\n",
       "        [ 1.4321e+00, -8.4257e-01],\n",
       "        [-1.1204e+00, -1.0580e+00],\n",
       "        [ 1.8601e-01, -1.6432e+00],\n",
       "        [-8.3020e-01, -9.3834e-01],\n",
       "        [ 6.4253e-01, -2.2739e-01],\n",
       "        [ 1.6735e+00, -1.6576e+00]])"
      ]
     },
     "execution_count": 123,
     "metadata": {},
     "output_type": "execute_result"
    }
   ],
   "source": [
    "C"
   ]
  },
  {
   "cell_type": "code",
   "execution_count": null,
   "id": "68ef1afc-52d2-44a7-812b-e76d092e496a",
   "metadata": {},
   "outputs": [],
   "source": [
    "embedding = C[X]"
   ]
  },
  {
   "cell_type": "markdown",
   "id": "a85419c6-ae47-49e0-8a91-0fad7e28f86d",
   "metadata": {},
   "source": [
    "## Scratchpad"
   ]
  },
  {
   "cell_type": "code",
   "execution_count": 124,
   "id": "4e85fd11-1401-4343-a61a-8b9765e1ea15",
   "metadata": {
    "execution": {
     "iopub.execute_input": "2024-04-13T15:53:19.803637Z",
     "iopub.status.busy": "2024-04-13T15:53:19.803346Z",
     "iopub.status.idle": "2024-04-13T15:53:19.809214Z",
     "shell.execute_reply": "2024-04-13T15:53:19.808118Z",
     "shell.execute_reply.started": "2024-04-13T15:53:19.803615Z"
    }
   },
   "outputs": [
    {
     "data": {
      "text/plain": [
       "torch.Size([2, 3])"
      ]
     },
     "execution_count": 124,
     "metadata": {},
     "output_type": "execute_result"
    }
   ],
   "source": [
    "indexing = torch.tensor([\n",
    "    [0,0,0],\n",
    "    [0,0,5]\n",
    "])\n",
    "indexing.shape"
   ]
  },
  {
   "cell_type": "code",
   "execution_count": 125,
   "id": "4f8aebee-4937-416b-82dd-3c7886c4eff6",
   "metadata": {
    "execution": {
     "iopub.execute_input": "2024-04-13T15:53:21.325936Z",
     "iopub.status.busy": "2024-04-13T15:53:21.325636Z",
     "iopub.status.idle": "2024-04-13T15:53:21.335277Z",
     "shell.execute_reply": "2024-04-13T15:53:21.334645Z",
     "shell.execute_reply.started": "2024-04-13T15:53:21.325913Z"
    }
   },
   "outputs": [
    {
     "data": {
      "text/plain": [
       "tensor([[[ 5.1774e-04, -1.5856e+00],\n",
       "         [ 5.1774e-04, -1.5856e+00],\n",
       "         [ 5.1774e-04, -1.5856e+00]],\n",
       "\n",
       "        [[ 5.1774e-04, -1.5856e+00],\n",
       "         [ 5.1774e-04, -1.5856e+00],\n",
       "         [ 1.3632e+00,  5.7042e-01]]])"
      ]
     },
     "execution_count": 125,
     "metadata": {},
     "output_type": "execute_result"
    }
   ],
   "source": [
    "C[indexing]"
   ]
  },
  {
   "cell_type": "code",
   "execution_count": 126,
   "id": "6b2681ad-266d-4d84-a6d4-046208405de0",
   "metadata": {
    "execution": {
     "iopub.execute_input": "2024-04-13T15:53:29.515216Z",
     "iopub.status.busy": "2024-04-13T15:53:29.514916Z",
     "iopub.status.idle": "2024-04-13T15:53:29.520123Z",
     "shell.execute_reply": "2024-04-13T15:53:29.519439Z",
     "shell.execute_reply.started": "2024-04-13T15:53:29.515193Z"
    }
   },
   "outputs": [
    {
     "data": {
      "text/plain": [
       "torch.Size([32, 3, 2])"
      ]
     },
     "execution_count": 126,
     "metadata": {},
     "output_type": "execute_result"
    }
   ],
   "source": [
    "embedding.shape"
   ]
  },
  {
   "cell_type": "code",
   "execution_count": 129,
   "id": "a6cc3371-4ebc-4f67-b39c-506d62f9b179",
   "metadata": {
    "execution": {
     "iopub.execute_input": "2024-04-13T15:53:57.426603Z",
     "iopub.status.busy": "2024-04-13T15:53:57.426253Z",
     "iopub.status.idle": "2024-04-13T15:53:57.432638Z",
     "shell.execute_reply": "2024-04-13T15:53:57.431879Z",
     "shell.execute_reply.started": "2024-04-13T15:53:57.426581Z"
    }
   },
   "outputs": [
    {
     "data": {
      "text/plain": [
       "tensor([[[ 5.1774e-04, -1.5856e+00],\n",
       "         [ 5.1774e-04, -1.5856e+00],\n",
       "         [ 5.1774e-04, -1.5856e+00]],\n",
       "\n",
       "        [[ 5.1774e-04, -1.5856e+00],\n",
       "         [ 5.1774e-04, -1.5856e+00],\n",
       "         [ 1.3632e+00,  5.7042e-01]],\n",
       "\n",
       "        [[ 5.1774e-04, -1.5856e+00],\n",
       "         [ 1.3632e+00,  5.7042e-01],\n",
       "         [ 1.0442e+00,  1.9311e-02]]])"
      ]
     },
     "execution_count": 129,
     "metadata": {},
     "output_type": "execute_result"
    }
   ],
   "source": [
    "embedding[:3, :, :]"
   ]
  },
  {
   "cell_type": "code",
   "execution_count": 130,
   "id": "05e8c26e-3073-4146-8208-b738b9cf1469",
   "metadata": {
    "execution": {
     "iopub.execute_input": "2024-04-13T15:54:04.573024Z",
     "iopub.status.busy": "2024-04-13T15:54:04.572741Z",
     "iopub.status.idle": "2024-04-13T15:54:04.579092Z",
     "shell.execute_reply": "2024-04-13T15:54:04.578393Z",
     "shell.execute_reply.started": "2024-04-13T15:54:04.573002Z"
    },
    "scrolled": true
   },
   "outputs": [
    {
     "data": {
      "text/plain": [
       "tensor([[ 5.1774e-04, -1.5856e+00,  5.1774e-04, -1.5856e+00,  5.1774e-04,\n",
       "         -1.5856e+00],\n",
       "        [ 5.1774e-04, -1.5856e+00,  5.1774e-04, -1.5856e+00,  1.3632e+00,\n",
       "          5.7042e-01],\n",
       "        [ 5.1774e-04, -1.5856e+00,  1.3632e+00,  5.7042e-01,  1.0442e+00,\n",
       "          1.9311e-02]])"
      ]
     },
     "execution_count": 130,
     "metadata": {},
     "output_type": "execute_result"
    }
   ],
   "source": [
    "embedding[:3].reshape(-1, 6)"
   ]
  },
  {
   "cell_type": "code",
   "execution_count": 136,
   "id": "b0e5aced-765f-49c4-9678-aef00540b1b1",
   "metadata": {
    "execution": {
     "iopub.execute_input": "2024-04-13T15:56:04.503211Z",
     "iopub.status.busy": "2024-04-13T15:56:04.502909Z",
     "iopub.status.idle": "2024-04-13T15:56:04.509227Z",
     "shell.execute_reply": "2024-04-13T15:56:04.508506Z",
     "shell.execute_reply.started": "2024-04-13T15:56:04.503187Z"
    }
   },
   "outputs": [
    {
     "data": {
      "text/plain": [
       "tensor([[ 5.1774e-04, -1.5856e+00,  5.1774e-04, -1.5856e+00,  5.1774e-04,\n",
       "         -1.5856e+00],\n",
       "        [ 5.1774e-04, -1.5856e+00,  5.1774e-04, -1.5856e+00,  1.3632e+00,\n",
       "          5.7042e-01],\n",
       "        [ 5.1774e-04, -1.5856e+00,  1.3632e+00,  5.7042e-01,  1.0442e+00,\n",
       "          1.9311e-02]])"
      ]
     },
     "execution_count": 136,
     "metadata": {},
     "output_type": "execute_result"
    }
   ],
   "source": [
    "torch.cat(torch.unbind(embedding[:3], 1), 1)"
   ]
  },
  {
   "cell_type": "code",
   "execution_count": 138,
   "id": "facdcba8-ed61-45cc-8349-52637dc8e791",
   "metadata": {
    "execution": {
     "iopub.execute_input": "2024-04-13T15:56:31.713569Z",
     "iopub.status.busy": "2024-04-13T15:56:31.713217Z",
     "iopub.status.idle": "2024-04-13T15:56:31.718609Z",
     "shell.execute_reply": "2024-04-13T15:56:31.718092Z",
     "shell.execute_reply.started": "2024-04-13T15:56:31.713552Z"
    }
   },
   "outputs": [
    {
     "data": {
      "text/plain": [
       "tensor([[ 5.1774e-04, -1.5856e+00,  5.1774e-04, -1.5856e+00,  5.1774e-04,\n",
       "         -1.5856e+00],\n",
       "        [ 5.1774e-04, -1.5856e+00,  5.1774e-04, -1.5856e+00,  1.3632e+00,\n",
       "          5.7042e-01],\n",
       "        [ 5.1774e-04, -1.5856e+00,  1.3632e+00,  5.7042e-01,  1.0442e+00,\n",
       "          1.9311e-02]])"
      ]
     },
     "execution_count": 138,
     "metadata": {},
     "output_type": "execute_result"
    }
   ],
   "source": [
    "embedding[:3].view(3, input_layer_nodes)"
   ]
  },
  {
   "cell_type": "markdown",
   "id": "11656280-e711-441b-9774-766c8c48dcda",
   "metadata": {},
   "source": [
    "## Cont..."
   ]
  },
  {
   "cell_type": "code",
   "execution_count": 132,
   "id": "7624883a-1994-407f-ad89-e4b4c0038f94",
   "metadata": {
    "execution": {
     "iopub.execute_input": "2024-04-13T15:54:50.282012Z",
     "iopub.status.busy": "2024-04-13T15:54:50.281724Z",
     "iopub.status.idle": "2024-04-13T15:54:50.287036Z",
     "shell.execute_reply": "2024-04-13T15:54:50.286206Z",
     "shell.execute_reply.started": "2024-04-13T15:54:50.281991Z"
    }
   },
   "outputs": [],
   "source": [
    "input_characters = 3\n",
    "dim_of_each_character = embedding.shape[-1]\n",
    "input_layer_nodes = input_characters * dim_of_each_character\n",
    "W1_neuron_count = 100\n",
    "b1_count = W1_neuron_count"
   ]
  },
  {
   "cell_type": "code",
   "execution_count": 133,
   "id": "c807ede5-a7f6-406c-9892-26259f9b6286",
   "metadata": {
    "execution": {
     "iopub.execute_input": "2024-04-13T15:54:53.901525Z",
     "iopub.status.busy": "2024-04-13T15:54:53.901226Z",
     "iopub.status.idle": "2024-04-13T15:54:53.905298Z",
     "shell.execute_reply": "2024-04-13T15:54:53.904650Z",
     "shell.execute_reply.started": "2024-04-13T15:54:53.901501Z"
    }
   },
   "outputs": [],
   "source": [
    "W1 = torch.randn((input_layer_nodes, W1_neuron_count))\n",
    "b1 = torch.randn(b1_count)"
   ]
  },
  {
   "cell_type": "code",
   "execution_count": 134,
   "id": "2b24f3a9-7632-466d-9d3b-fad032553433",
   "metadata": {
    "execution": {
     "iopub.execute_input": "2024-04-13T15:54:54.581728Z",
     "iopub.status.busy": "2024-04-13T15:54:54.581426Z",
     "iopub.status.idle": "2024-04-13T15:54:54.585738Z",
     "shell.execute_reply": "2024-04-13T15:54:54.584639Z",
     "shell.execute_reply.started": "2024-04-13T15:54:54.581705Z"
    }
   },
   "outputs": [
    {
     "name": "stdout",
     "output_type": "stream",
     "text": [
      "torch.Size([6, 100]) torch.Size([100])\n"
     ]
    }
   ],
   "source": [
    "print(W1.shape, b1.shape)"
   ]
  },
  {
   "cell_type": "code",
   "execution_count": 144,
   "id": "8895bcca-9ebe-4fda-8eb4-14d62192637c",
   "metadata": {
    "execution": {
     "iopub.execute_input": "2024-04-13T16:02:54.547571Z",
     "iopub.status.busy": "2024-04-13T16:02:54.547268Z",
     "iopub.status.idle": "2024-04-13T16:02:54.550909Z",
     "shell.execute_reply": "2024-04-13T16:02:54.550140Z",
     "shell.execute_reply.started": "2024-04-13T16:02:54.547548Z"
    }
   },
   "outputs": [],
   "source": [
    "# All the below results in the same output\n",
    "\n",
    "h = embedding.reshape(-1, input_layer_nodes)\n",
    "# h = embedding.view(number_of_training_samples, input_layer_nodes)\n",
    "# h = torch.cat(torch.unbind(embedding, 1), 1)  # Ineffecient, creates a new tensor "
   ]
  },
  {
   "cell_type": "code",
   "execution_count": 145,
   "id": "3cabc39f-65e6-4621-b4c1-e357ecea6e20",
   "metadata": {
    "execution": {
     "iopub.execute_input": "2024-04-13T16:02:56.943460Z",
     "iopub.status.busy": "2024-04-13T16:02:56.943152Z",
     "iopub.status.idle": "2024-04-13T16:02:56.949663Z",
     "shell.execute_reply": "2024-04-13T16:02:56.948389Z",
     "shell.execute_reply.started": "2024-04-13T16:02:56.943437Z"
    }
   },
   "outputs": [
    {
     "data": {
      "text/plain": [
       "torch.Size([32, 6])"
      ]
     },
     "execution_count": 145,
     "metadata": {},
     "output_type": "execute_result"
    }
   ],
   "source": [
    "h.shape"
   ]
  },
  {
   "cell_type": "code",
   "execution_count": 146,
   "id": "ad041b48-ca84-4398-80c7-aeb22e680f54",
   "metadata": {
    "execution": {
     "iopub.execute_input": "2024-04-13T16:02:59.841694Z",
     "iopub.status.busy": "2024-04-13T16:02:59.841399Z",
     "iopub.status.idle": "2024-04-13T16:02:59.847928Z",
     "shell.execute_reply": "2024-04-13T16:02:59.847256Z",
     "shell.execute_reply.started": "2024-04-13T16:02:59.841671Z"
    }
   },
   "outputs": [
    {
     "data": {
      "text/plain": [
       "tensor([[ 5.1774e-04, -1.5856e+00,  5.1774e-04, -1.5856e+00,  5.1774e-04,\n",
       "         -1.5856e+00],\n",
       "        [ 5.1774e-04, -1.5856e+00,  5.1774e-04, -1.5856e+00,  1.3632e+00,\n",
       "          5.7042e-01],\n",
       "        [ 5.1774e-04, -1.5856e+00,  1.3632e+00,  5.7042e-01,  1.0442e+00,\n",
       "          1.9311e-02]])"
      ]
     },
     "execution_count": 146,
     "metadata": {},
     "output_type": "execute_result"
    }
   ],
   "source": [
    "h[:3]"
   ]
  },
  {
   "cell_type": "code",
   "execution_count": 147,
   "id": "6ec11b62-14a9-4a9f-8990-cbf7b6aadaa3",
   "metadata": {
    "execution": {
     "iopub.execute_input": "2024-04-13T16:04:27.973783Z",
     "iopub.status.busy": "2024-04-13T16:04:27.973510Z",
     "iopub.status.idle": "2024-04-13T16:04:28.011336Z",
     "shell.execute_reply": "2024-04-13T16:04:28.010425Z",
     "shell.execute_reply.started": "2024-04-13T16:04:27.973761Z"
    }
   },
   "outputs": [],
   "source": [
    "h = torch.tanh(h @ W1 + b1)"
   ]
  },
  {
   "cell_type": "code",
   "execution_count": 148,
   "id": "ab23301a-35d4-4cda-bd58-fb941ef7cfc6",
   "metadata": {
    "execution": {
     "iopub.execute_input": "2024-04-13T16:04:32.697727Z",
     "iopub.status.busy": "2024-04-13T16:04:32.697440Z",
     "iopub.status.idle": "2024-04-13T16:04:32.702401Z",
     "shell.execute_reply": "2024-04-13T16:04:32.701553Z",
     "shell.execute_reply.started": "2024-04-13T16:04:32.697706Z"
    }
   },
   "outputs": [
    {
     "data": {
      "text/plain": [
       "torch.Size([32, 100])"
      ]
     },
     "execution_count": 148,
     "metadata": {},
     "output_type": "execute_result"
    }
   ],
   "source": [
    "h.shape"
   ]
  },
  {
   "cell_type": "code",
   "execution_count": 149,
   "id": "9f93d87b-9254-48f3-aef8-3fbda6da908e",
   "metadata": {
    "execution": {
     "iopub.execute_input": "2024-04-13T16:04:36.336945Z",
     "iopub.status.busy": "2024-04-13T16:04:36.336441Z",
     "iopub.status.idle": "2024-04-13T16:04:36.343865Z",
     "shell.execute_reply": "2024-04-13T16:04:36.343178Z",
     "shell.execute_reply.started": "2024-04-13T16:04:36.336920Z"
    },
    "scrolled": true
   },
   "outputs": [
    {
     "data": {
      "text/plain": [
       "tensor([[ 0.5841,  0.9558, -0.9977, -0.8406,  0.9524,  0.9989, -0.8731, -0.9998,\n",
       "          0.9445, -0.8187, -0.9987,  0.9995,  0.9956, -0.9999,  0.9917, -0.6946,\n",
       "          0.9791,  0.6187, -0.9533,  0.9993, -1.0000, -0.9996,  0.9777,  0.9698,\n",
       "          0.9997, -0.7256,  0.9166,  0.8952,  0.7544,  0.9973,  0.8283, -0.8851,\n",
       "         -0.8893, -0.8993,  0.9789, -0.9999,  0.9794, -0.9989,  0.9290,  0.9151,\n",
       "          0.8404, -0.7167, -1.0000, -0.9658, -1.0000, -0.9863, -0.9804, -0.9809,\n",
       "         -0.9652, -0.9999,  1.0000,  0.4824, -0.9997, -0.3055,  0.8562, -0.9491,\n",
       "          0.9944, -0.9916,  0.9674, -0.3194,  0.9989, -0.2103,  0.9987,  0.9813,\n",
       "          0.9428, -0.1953,  0.9982, -0.9908,  0.3620,  0.5408,  0.9669,  0.4096,\n",
       "         -0.6426,  0.8355, -0.9802,  0.9990,  0.9826, -0.9973,  0.2495,  0.6757,\n",
       "         -0.9401, -0.9994,  0.9881,  0.9016,  1.0000,  0.5494,  0.9997,  0.6626,\n",
       "         -0.9296,  0.8944,  0.9947,  0.9886,  0.9941, -0.9809, -0.1845, -0.9987,\n",
       "          0.4938,  0.9168,  0.6424, -0.9939],\n",
       "        [-0.9869,  0.8176, -0.9383, -0.8710,  0.9708,  0.7367, -0.9989, -0.9044,\n",
       "          0.9649, -0.7593,  0.9839,  0.9972, -0.7263, -0.9970,  0.9997,  0.6267,\n",
       "          0.9824,  1.0000, -0.9526,  0.9999, -0.4001, -0.9136,  0.8810,  0.9998,\n",
       "          0.9753, -0.6182,  0.9765, -0.9824,  0.9999, -0.6688,  0.9217,  0.9510,\n",
       "          0.1506, -0.2945, -0.9993, -0.9685,  0.9998, -0.5283, -0.1867,  0.5479,\n",
       "          0.0372, -0.9066, -0.9979, -0.5215, -0.9999, -0.3944, -0.9980, -0.9878,\n",
       "          0.9966, -0.9915,  1.0000,  0.9908, -0.6706,  1.0000, -0.5546, -0.8929,\n",
       "          0.9990, -0.9167, -0.6018, -0.9902,  0.9979,  0.0703,  0.9894,  0.3963,\n",
       "          0.4865, -0.4191, -0.2256,  0.8734,  0.3545,  0.9955, -0.6942, -0.8913,\n",
       "         -0.8538,  0.8676,  0.6182,  0.9783,  0.9993, -0.9983, -0.0584,  0.0160,\n",
       "          0.8605, -0.4164,  0.9718,  0.1421,  1.0000,  0.9967,  0.4120,  0.6085,\n",
       "         -0.9985,  0.7064,  0.2444,  0.8289,  0.9814, -0.9541,  0.9502, -0.9996,\n",
       "         -0.6381,  1.0000,  0.9560, -0.9668],\n",
       "        [ 0.9913,  0.9956, -0.9999, -0.8957,  0.9955,  1.0000, -0.9989,  0.3773,\n",
       "          0.9167,  0.7908,  0.5489, -0.8090, -0.9941, -0.9533,  0.9891,  0.9166,\n",
       "          0.9966,  0.9855, -0.9711,  0.8476,  0.4576,  0.3541, -0.9849,  0.9989,\n",
       "         -0.9770, -0.9924,  0.9914,  0.5875, -0.7359,  0.9948,  0.9985,  0.6728,\n",
       "         -0.9974, -0.9999, -0.9972, -0.9901,  0.9791, -0.9295,  0.9318, -0.9965,\n",
       "          0.9022, -0.8320, -0.6953, -0.8177, -0.9990, -0.7438, -0.2186, -0.9901,\n",
       "          0.9936,  0.5468, -0.8569,  0.6690,  0.7644,  0.8454,  0.8991,  0.8009,\n",
       "          0.9426, -0.5860,  0.9811,  0.0493,  0.9993, -0.9946,  0.8314,  0.7076,\n",
       "         -0.7407, -0.6043, -0.9481,  0.9990,  0.1509,  0.9434, -0.9619, -0.9437,\n",
       "         -0.4335,  0.9549, -0.2403, -0.9764, -0.9302, -0.8327, -0.9789,  0.9935,\n",
       "         -0.3184, -0.9301, -0.6602, -0.2177,  0.9944,  0.9913,  0.9997,  0.9988,\n",
       "         -0.9474,  0.7481, -0.9501,  0.9941,  0.9982,  0.5616, -0.9748,  0.2026,\n",
       "         -0.9985,  0.9919, -0.9540, -0.9984]])"
      ]
     },
     "execution_count": 149,
     "metadata": {},
     "output_type": "execute_result"
    }
   ],
   "source": [
    "h[:3]"
   ]
  },
  {
   "cell_type": "code",
   "execution_count": 150,
   "id": "2c37e1fc-093b-4519-9ee2-3b87c991c0b3",
   "metadata": {
    "execution": {
     "iopub.execute_input": "2024-04-13T16:07:01.670223Z",
     "iopub.status.busy": "2024-04-13T16:07:01.669920Z",
     "iopub.status.idle": "2024-04-13T16:07:01.676202Z",
     "shell.execute_reply": "2024-04-13T16:07:01.674921Z",
     "shell.execute_reply.started": "2024-04-13T16:07:01.670196Z"
    }
   },
   "outputs": [],
   "source": [
    "W2 = torch.randn((W1_neuron_count, universe_of_dataset))\n",
    "b2 = torch.randn(universe_of_dataset)"
   ]
  },
  {
   "cell_type": "code",
   "execution_count": 151,
   "id": "764f0759-20cf-4a34-801e-63acc92e4947",
   "metadata": {
    "execution": {
     "iopub.execute_input": "2024-04-13T16:07:09.383159Z",
     "iopub.status.busy": "2024-04-13T16:07:09.382855Z",
     "iopub.status.idle": "2024-04-13T16:07:09.388072Z",
     "shell.execute_reply": "2024-04-13T16:07:09.387165Z",
     "shell.execute_reply.started": "2024-04-13T16:07:09.383136Z"
    }
   },
   "outputs": [
    {
     "data": {
      "text/plain": [
       "(torch.Size([100, 27]), torch.Size([27]))"
      ]
     },
     "execution_count": 151,
     "metadata": {},
     "output_type": "execute_result"
    }
   ],
   "source": [
    "W2.shape, b2.shape"
   ]
  },
  {
   "cell_type": "code",
   "execution_count": 152,
   "id": "708dd4a8-c1aa-4bdd-9264-05c77f0a8b6b",
   "metadata": {
    "execution": {
     "iopub.execute_input": "2024-04-13T16:07:20.934856Z",
     "iopub.status.busy": "2024-04-13T16:07:20.934551Z",
     "iopub.status.idle": "2024-04-13T16:07:20.941300Z",
     "shell.execute_reply": "2024-04-13T16:07:20.940599Z",
     "shell.execute_reply.started": "2024-04-13T16:07:20.934832Z"
    }
   },
   "outputs": [
    {
     "data": {
      "text/plain": [
       "tensor([[ 0.1533, -1.4076,  0.6130,  0.3256,  1.1025,  0.9055, -0.2086, -0.3478,\n",
       "         -1.6699, -0.2052, -0.1088,  1.0358,  0.2905, -0.4403,  0.3645, -1.3251,\n",
       "          0.1059,  1.6745, -0.1166, -0.8332, -0.5927, -0.7017, -0.4203,  0.7602,\n",
       "         -1.4495,  0.3030, -0.1988],\n",
       "        [ 0.6893, -1.2841, -0.8280, -0.6584, -1.2056,  0.8156,  0.5980, -1.2890,\n",
       "          0.4058, -0.8934, -0.4999, -1.0624, -0.8563,  1.2330, -1.5288,  0.7924,\n",
       "          0.2550, -0.5486,  0.2767,  1.8486,  0.2061,  0.3098,  1.4978, -0.0370,\n",
       "          0.7024,  0.1295,  1.7809],\n",
       "        [ 1.0956,  0.5621,  0.6076,  2.1717, -1.3975, -0.3196, -0.4364, -1.5148,\n",
       "         -0.9825, -0.1574,  0.5972,  0.4130,  0.5125,  1.9912, -1.8553, -1.1776,\n",
       "         -0.7881, -0.0775, -1.1223, -1.1107,  0.0135, -0.2857,  0.0775, -0.4805,\n",
       "         -2.0693, -0.1507, -0.0413]])"
      ]
     },
     "execution_count": 152,
     "metadata": {},
     "output_type": "execute_result"
    }
   ],
   "source": [
    "W2[:3]"
   ]
  },
  {
   "cell_type": "code",
   "execution_count": 153,
   "id": "71a2aa77-8638-4844-9509-7a616e6b55bc",
   "metadata": {
    "execution": {
     "iopub.execute_input": "2024-04-13T16:07:38.135686Z",
     "iopub.status.busy": "2024-04-13T16:07:38.135378Z",
     "iopub.status.idle": "2024-04-13T16:07:38.142386Z",
     "shell.execute_reply": "2024-04-13T16:07:38.141466Z",
     "shell.execute_reply.started": "2024-04-13T16:07:38.135660Z"
    }
   },
   "outputs": [
    {
     "data": {
      "text/plain": [
       "tensor([-0.3075, -0.4620,  1.5089])"
      ]
     },
     "execution_count": 153,
     "metadata": {},
     "output_type": "execute_result"
    }
   ],
   "source": [
    "b2[:3]"
   ]
  },
  {
   "cell_type": "code",
   "execution_count": 154,
   "id": "ac636f8e-0e77-4f1a-808c-47a31f671922",
   "metadata": {
    "execution": {
     "iopub.execute_input": "2024-04-13T16:08:26.477316Z",
     "iopub.status.busy": "2024-04-13T16:08:26.477004Z",
     "iopub.status.idle": "2024-04-13T16:08:26.482072Z",
     "shell.execute_reply": "2024-04-13T16:08:26.481358Z",
     "shell.execute_reply.started": "2024-04-13T16:08:26.477292Z"
    }
   },
   "outputs": [],
   "source": [
    "logits = h @ W2 + b2 "
   ]
  },
  {
   "cell_type": "code",
   "execution_count": 155,
   "id": "722c6dd2-bded-4745-9d09-73e7b231ce55",
   "metadata": {
    "execution": {
     "iopub.execute_input": "2024-04-13T16:08:30.175698Z",
     "iopub.status.busy": "2024-04-13T16:08:30.175398Z",
     "iopub.status.idle": "2024-04-13T16:08:30.180428Z",
     "shell.execute_reply": "2024-04-13T16:08:30.179562Z",
     "shell.execute_reply.started": "2024-04-13T16:08:30.175674Z"
    }
   },
   "outputs": [
    {
     "data": {
      "text/plain": [
       "torch.Size([32, 27])"
      ]
     },
     "execution_count": 155,
     "metadata": {},
     "output_type": "execute_result"
    }
   ],
   "source": [
    "logits.shape"
   ]
  },
  {
   "cell_type": "code",
   "execution_count": 156,
   "id": "fe68c294-5bd6-4233-9efc-d81701aec0c0",
   "metadata": {
    "execution": {
     "iopub.execute_input": "2024-04-13T16:08:44.711891Z",
     "iopub.status.busy": "2024-04-13T16:08:44.711577Z",
     "iopub.status.idle": "2024-04-13T16:08:44.717395Z",
     "shell.execute_reply": "2024-04-13T16:08:44.716781Z",
     "shell.execute_reply.started": "2024-04-13T16:08:44.711867Z"
    }
   },
   "outputs": [
    {
     "data": {
      "text/plain": [
       "tensor([[ 6.9376e+00, -8.7784e+00, -5.7033e+00, -6.5346e+00, -1.8080e+01,\n",
       "         -1.4963e+00, -3.1099e+00,  5.3461e+00,  1.3374e+00, -9.2681e-01,\n",
       "          3.0379e+00, -3.1130e+00, -1.3213e+01,  9.7740e+00,  2.1620e-01,\n",
       "          6.8425e+00,  8.2634e+00,  1.6977e+01,  8.0083e+00,  4.0456e+00,\n",
       "         -1.5062e-02,  9.5005e+00,  5.7541e+00, -7.5671e+00,  1.5122e+01,\n",
       "         -9.7663e-01, -5.5226e-01],\n",
       "        [-3.7751e-01, -2.8677e+00,  6.9318e-01,  2.8065e+00,  3.7315e+00,\n",
       "          6.9475e+00, -8.5734e+00,  9.2024e+00,  4.5164e+00, -1.1663e+01,\n",
       "         -6.5291e+00,  3.0835e+00, -1.0916e+01,  7.2365e+00, -1.5268e+00,\n",
       "          6.8691e-01,  4.0278e+00,  1.2934e+01, -5.1158e+00,  1.1352e+01,\n",
       "         -3.6105e+00,  9.0208e+00,  1.0366e+00,  6.3214e-01,  9.9242e+00,\n",
       "         -7.3668e+00,  9.8220e+00],\n",
       "        [-1.7844e+01, -1.9184e+00,  1.6713e+00, -9.6620e-01,  2.8576e+00,\n",
       "         -1.4116e+01, -3.8384e+00,  1.3505e+01,  8.1813e+00,  2.4750e+00,\n",
       "         -2.2316e+00, -5.3189e+00, -9.5926e-01,  5.5521e+00,  8.0816e+00,\n",
       "         -2.8022e-01,  7.4844e+00,  7.5657e+00, -1.1925e+01,  2.6738e+00,\n",
       "          1.7259e+00,  4.3534e+00, -2.6457e+00, -5.2379e-01,  1.4265e+01,\n",
       "         -1.3549e+01, -1.1755e+00]])"
      ]
     },
     "execution_count": 156,
     "metadata": {},
     "output_type": "execute_result"
    }
   ],
   "source": [
    "logits[:3]"
   ]
  },
  {
   "cell_type": "code",
   "execution_count": 157,
   "id": "c809bcfb-1f2c-4dfa-9860-c9b8b4886dbd",
   "metadata": {
    "execution": {
     "iopub.execute_input": "2024-04-13T16:09:42.934844Z",
     "iopub.status.busy": "2024-04-13T16:09:42.934340Z",
     "iopub.status.idle": "2024-04-13T16:09:42.943511Z",
     "shell.execute_reply": "2024-04-13T16:09:42.942829Z",
     "shell.execute_reply.started": "2024-04-13T16:09:42.934820Z"
    }
   },
   "outputs": [],
   "source": [
    "counts = logits.exp()  # fake count"
   ]
  },
  {
   "cell_type": "code",
   "execution_count": 158,
   "id": "98834056-7309-4851-af1b-85d5d46bf700",
   "metadata": {
    "execution": {
     "iopub.execute_input": "2024-04-13T16:09:49.635580Z",
     "iopub.status.busy": "2024-04-13T16:09:49.635260Z",
     "iopub.status.idle": "2024-04-13T16:09:49.640587Z",
     "shell.execute_reply": "2024-04-13T16:09:49.639552Z",
     "shell.execute_reply.started": "2024-04-13T16:09:49.635555Z"
    }
   },
   "outputs": [
    {
     "data": {
      "text/plain": [
       "torch.Size([32, 27])"
      ]
     },
     "execution_count": 158,
     "metadata": {},
     "output_type": "execute_result"
    }
   ],
   "source": [
    "counts.shape"
   ]
  },
  {
   "cell_type": "code",
   "execution_count": 159,
   "id": "2d0d7b8c-fc81-43a8-8d4b-76c6b6adfa9b",
   "metadata": {
    "execution": {
     "iopub.execute_input": "2024-04-13T16:10:33.932256Z",
     "iopub.status.busy": "2024-04-13T16:10:33.931899Z",
     "iopub.status.idle": "2024-04-13T16:10:33.941098Z",
     "shell.execute_reply": "2024-04-13T16:10:33.939592Z",
     "shell.execute_reply.started": "2024-04-13T16:10:33.932222Z"
    }
   },
   "outputs": [],
   "source": [
    "probs = counts / counts.sum(1, keepdim=True)"
   ]
  },
  {
   "cell_type": "code",
   "execution_count": 160,
   "id": "3939ee19-f184-4aa0-b82b-567f5e60c377",
   "metadata": {
    "execution": {
     "iopub.execute_input": "2024-04-13T16:10:39.097811Z",
     "iopub.status.busy": "2024-04-13T16:10:39.097402Z",
     "iopub.status.idle": "2024-04-13T16:10:39.102660Z",
     "shell.execute_reply": "2024-04-13T16:10:39.101685Z",
     "shell.execute_reply.started": "2024-04-13T16:10:39.097787Z"
    }
   },
   "outputs": [
    {
     "data": {
      "text/plain": [
       "torch.Size([32, 27])"
      ]
     },
     "execution_count": 160,
     "metadata": {},
     "output_type": "execute_result"
    }
   ],
   "source": [
    "probs.shape"
   ]
  },
  {
   "cell_type": "code",
   "execution_count": 161,
   "id": "4432ee0e-9635-4b5d-959c-914da09824ad",
   "metadata": {
    "execution": {
     "iopub.execute_input": "2024-04-13T16:10:45.401090Z",
     "iopub.status.busy": "2024-04-13T16:10:45.400780Z",
     "iopub.status.idle": "2024-04-13T16:10:45.407178Z",
     "shell.execute_reply": "2024-04-13T16:10:45.406527Z",
     "shell.execute_reply.started": "2024-04-13T16:10:45.401065Z"
    }
   },
   "outputs": [
    {
     "data": {
      "text/plain": [
       "tensor([[3.7698e-05, 5.6357e-12, 1.2202e-10, 5.3142e-11, 5.1464e-16, 8.1943e-09,\n",
       "         1.6322e-09, 7.6761e-06, 1.3937e-07, 1.4483e-08, 7.6330e-07, 1.6271e-09,\n",
       "         6.6834e-14, 6.4291e-04, 4.5421e-08, 3.4279e-05, 1.4194e-04, 8.6333e-01,\n",
       "         1.0998e-04, 2.0909e-06, 3.6043e-08, 4.8907e-04, 1.1544e-05, 1.8923e-11,\n",
       "         1.3519e-01, 1.3779e-08, 2.1063e-08],\n",
       "        [1.2265e-06, 1.0167e-07, 3.5782e-06, 2.9612e-05, 7.4676e-05, 1.8615e-03,\n",
       "         3.3825e-10, 1.7749e-02, 1.6371e-04, 1.5392e-11, 2.6126e-09, 3.9063e-05,\n",
       "         3.2484e-11, 2.4853e-03, 3.8864e-07, 3.5558e-06, 1.0043e-04, 7.4084e-01,\n",
       "         1.0737e-08, 1.5233e-01, 4.8373e-08, 1.4802e-02, 5.0442e-06, 3.3663e-06,\n",
       "         3.6531e-02, 1.1305e-09, 3.2981e-02],\n",
       "        [7.6992e-15, 6.3537e-08, 2.3015e-06, 1.6465e-07, 7.5377e-06, 3.2040e-13,\n",
       "         9.3150e-09, 3.1719e-01, 1.5462e-03, 5.1413e-06, 4.6454e-08, 2.1194e-09,\n",
       "         1.6580e-07, 1.1154e-04, 1.3996e-03, 3.2696e-07, 7.7025e-04, 8.3548e-04,\n",
       "         2.8653e-12, 6.2718e-06, 2.4308e-06, 3.3639e-05, 3.0703e-08, 2.5628e-07,\n",
       "         6.7809e-01, 5.6478e-13, 1.3357e-07]])"
      ]
     },
     "execution_count": 161,
     "metadata": {},
     "output_type": "execute_result"
    }
   ],
   "source": [
    "probs[:3]  # Probability of occurance of all the 27 characters in our dataset"
   ]
  },
  {
   "cell_type": "markdown",
   "id": "00683638-92ff-4938-9ffc-aff0a6bd8fc7",
   "metadata": {},
   "source": [
    "## Scratchpad"
   ]
  },
  {
   "cell_type": "code",
   "execution_count": 162,
   "id": "71887840-d214-4a4b-b914-f62e8569dc27",
   "metadata": {
    "execution": {
     "iopub.execute_input": "2024-04-13T16:14:51.403289Z",
     "iopub.status.busy": "2024-04-13T16:14:51.402689Z",
     "iopub.status.idle": "2024-04-13T16:14:51.410075Z",
     "shell.execute_reply": "2024-04-13T16:14:51.409290Z",
     "shell.execute_reply.started": "2024-04-13T16:14:51.403265Z"
    }
   },
   "outputs": [
    {
     "data": {
      "text/plain": [
       "tensor([ 5, 13, 13,  1,  0, 15, 12,  9, 22,  9,  1,  0,  1, 22,  1,  0,  9, 19,\n",
       "         1,  2,  5, 12, 12,  1,  0, 19, 15, 16,  8,  9,  1,  0])"
      ]
     },
     "execution_count": 162,
     "metadata": {},
     "output_type": "execute_result"
    }
   ],
   "source": [
    "Y"
   ]
  },
  {
   "cell_type": "code",
   "execution_count": 164,
   "id": "1a32c0c2-131e-4720-b12d-56aef14f0d3f",
   "metadata": {
    "execution": {
     "iopub.execute_input": "2024-04-13T16:15:18.868641Z",
     "iopub.status.busy": "2024-04-13T16:15:18.868341Z",
     "iopub.status.idle": "2024-04-13T16:15:18.884479Z",
     "shell.execute_reply": "2024-04-13T16:15:18.883841Z",
     "shell.execute_reply.started": "2024-04-13T16:15:18.868618Z"
    }
   },
   "outputs": [
    {
     "data": {
      "text/plain": [
       "tensor([ 0,  1,  2,  3,  4,  5,  6,  7,  8,  9, 10, 11, 12, 13, 14, 15, 16, 17,\n",
       "        18, 19, 20, 21, 22, 23, 24, 25, 26, 27, 28, 29, 30, 31])"
      ]
     },
     "execution_count": 164,
     "metadata": {},
     "output_type": "execute_result"
    }
   ],
   "source": [
    "torch.arange(number_of_training_samples)"
   ]
  },
  {
   "cell_type": "code",
   "execution_count": 167,
   "id": "62e344c4-e8fa-4b46-9576-ddfb6fbb4338",
   "metadata": {
    "execution": {
     "iopub.execute_input": "2024-04-13T16:42:25.482493Z",
     "iopub.status.busy": "2024-04-13T16:42:25.482211Z",
     "iopub.status.idle": "2024-04-13T16:42:25.487393Z",
     "shell.execute_reply": "2024-04-13T16:42:25.486818Z",
     "shell.execute_reply.started": "2024-04-13T16:42:25.482470Z"
    }
   },
   "outputs": [
    {
     "data": {
      "text/plain": [
       "torch.Size([32])"
      ]
     },
     "execution_count": 167,
     "metadata": {},
     "output_type": "execute_result"
    }
   ],
   "source": [
    "probs[torch.arange(number_of_training_samples), Y].shape"
   ]
  },
  {
   "cell_type": "code",
   "execution_count": 165,
   "id": "f0cd2605-8924-4428-bccb-3994c2f1d5bf",
   "metadata": {
    "execution": {
     "iopub.execute_input": "2024-04-13T16:16:09.118293Z",
     "iopub.status.busy": "2024-04-13T16:16:09.117817Z",
     "iopub.status.idle": "2024-04-13T16:16:09.128937Z",
     "shell.execute_reply": "2024-04-13T16:16:09.127901Z",
     "shell.execute_reply.started": "2024-04-13T16:16:09.118266Z"
    }
   },
   "outputs": [
    {
     "data": {
      "text/plain": [
       "tensor([8.1943e-09, 2.4853e-03, 1.1154e-04, 6.5960e-09, 1.2792e-17, 3.4279e-05,\n",
       "        1.5513e-11, 7.5409e-04, 1.4006e-14, 5.1782e-03, 1.1739e-18, 1.5687e-14,\n",
       "        5.6357e-12, 7.1476e-07, 1.5031e-03, 1.5549e-09, 1.4483e-08, 1.6539e-04,\n",
       "        7.0872e-11, 7.9277e-11, 4.0667e-09, 1.3159e-13, 3.9527e-11, 2.2369e-10,\n",
       "        1.8957e-09, 2.0909e-06, 2.4671e-05, 2.4834e-05, 1.4497e-09, 1.5534e-07,\n",
       "        3.5439e-12, 3.2597e-18])"
      ]
     },
     "execution_count": 165,
     "metadata": {},
     "output_type": "execute_result"
    }
   ],
   "source": [
    "probs[torch.arange(number_of_training_samples), Y]"
   ]
  },
  {
   "cell_type": "code",
   "execution_count": 166,
   "id": "a0071294-d139-4bcd-b710-f27177e5997b",
   "metadata": {
    "execution": {
     "iopub.execute_input": "2024-04-13T16:16:17.061255Z",
     "iopub.status.busy": "2024-04-13T16:16:17.060950Z",
     "iopub.status.idle": "2024-04-13T16:16:17.073471Z",
     "shell.execute_reply": "2024-04-13T16:16:17.072267Z",
     "shell.execute_reply.started": "2024-04-13T16:16:17.061232Z"
    },
    "scrolled": true
   },
   "outputs": [
    {
     "data": {
      "text/plain": [
       "tensor([[3.7698e-05, 5.6357e-12, 1.2202e-10, 5.3142e-11, 5.1464e-16, 8.1943e-09,\n",
       "         1.6322e-09, 7.6761e-06, 1.3937e-07, 1.4483e-08, 7.6330e-07, 1.6271e-09,\n",
       "         6.6834e-14, 6.4291e-04, 4.5421e-08, 3.4279e-05, 1.4194e-04, 8.6333e-01,\n",
       "         1.0998e-04, 2.0909e-06, 3.6043e-08, 4.8907e-04, 1.1544e-05, 1.8923e-11,\n",
       "         1.3519e-01, 1.3779e-08, 2.1063e-08],\n",
       "        [1.2265e-06, 1.0167e-07, 3.5782e-06, 2.9612e-05, 7.4676e-05, 1.8615e-03,\n",
       "         3.3825e-10, 1.7749e-02, 1.6371e-04, 1.5392e-11, 2.6126e-09, 3.9063e-05,\n",
       "         3.2484e-11, 2.4853e-03, 3.8864e-07, 3.5558e-06, 1.0043e-04, 7.4084e-01,\n",
       "         1.0737e-08, 1.5233e-01, 4.8373e-08, 1.4802e-02, 5.0442e-06, 3.3663e-06,\n",
       "         3.6531e-02, 1.1305e-09, 3.2981e-02],\n",
       "        [7.6992e-15, 6.3537e-08, 2.3015e-06, 1.6465e-07, 7.5377e-06, 3.2040e-13,\n",
       "         9.3150e-09, 3.1719e-01, 1.5462e-03, 5.1413e-06, 4.6454e-08, 2.1194e-09,\n",
       "         1.6580e-07, 1.1154e-04, 1.3996e-03, 3.2696e-07, 7.7025e-04, 8.3548e-04,\n",
       "         2.8653e-12, 6.2718e-06, 2.4308e-06, 3.3639e-05, 3.0703e-08, 2.5628e-07,\n",
       "         6.7809e-01, 5.6478e-13, 1.3357e-07],\n",
       "        [1.3035e-13, 6.5960e-09, 6.6203e-12, 2.3681e-10, 1.1518e-09, 2.8738e-08,\n",
       "         3.8259e-15, 3.3851e-08, 3.1577e-08, 9.4255e-08, 1.6345e-13, 2.2751e-10,\n",
       "         6.5683e-14, 5.6711e-11, 9.9321e-01, 4.5030e-09, 1.5959e-12, 3.2297e-05,\n",
       "         3.1018e-08, 1.2058e-08, 1.8977e-08, 1.2973e-10, 3.4312e-16, 5.5170e-12,\n",
       "         6.7620e-03, 8.5165e-11, 1.0304e-13],\n",
       "        [1.2792e-17, 2.0786e-11, 2.2039e-13, 7.8261e-17, 3.6423e-16, 5.6974e-08,\n",
       "         3.0061e-15, 1.7633e-08, 7.2491e-08, 4.0390e-10, 1.4816e-07, 7.3921e-09,\n",
       "         1.9187e-14, 1.2948e-07, 1.0062e-02, 1.5822e-05, 5.7776e-11, 1.1907e-03,\n",
       "         2.7246e-06, 1.2040e-07, 8.5905e-05, 1.7336e-05, 7.6382e-14, 3.1338e-14,\n",
       "         9.8863e-01, 2.5710e-12, 3.1011e-14],\n",
       "        [3.7698e-05, 5.6357e-12, 1.2202e-10, 5.3142e-11, 5.1464e-16, 8.1943e-09,\n",
       "         1.6322e-09, 7.6761e-06, 1.3937e-07, 1.4483e-08, 7.6330e-07, 1.6271e-09,\n",
       "         6.6834e-14, 6.4291e-04, 4.5421e-08, 3.4279e-05, 1.4194e-04, 8.6333e-01,\n",
       "         1.0998e-04, 2.0909e-06, 3.6043e-08, 4.8907e-04, 1.1544e-05, 1.8923e-11,\n",
       "         1.3519e-01, 1.3779e-08, 2.1063e-08],\n",
       "        [1.2234e-07, 2.7366e-11, 3.0083e-09, 3.8667e-08, 7.2512e-10, 9.3673e-05,\n",
       "         6.2395e-10, 3.4251e-03, 1.0199e-06, 6.8300e-12, 1.6809e-09, 7.6866e-07,\n",
       "         1.5513e-11, 1.3019e-03, 5.4650e-08, 1.0560e-06, 1.3721e-05, 9.7417e-01,\n",
       "         2.0287e-08, 3.5030e-03, 7.7684e-09, 5.0008e-03, 3.0979e-07, 1.4974e-08,\n",
       "         1.2474e-02, 5.9980e-11, 1.6920e-05],\n",
       "        [5.3877e-09, 2.3329e-03, 5.5161e-04, 2.0284e-07, 1.4621e-06, 2.2394e-10,\n",
       "         1.8523e-08, 3.1354e-03, 1.5694e-04, 7.5409e-04, 1.0124e-03, 4.3466e-06,\n",
       "         1.0789e-09, 8.6421e-01, 5.3553e-02, 5.2336e-04, 7.6618e-05, 6.3322e-05,\n",
       "         3.4066e-06, 4.9177e-07, 1.2289e-04, 1.0618e-03, 1.6359e-05, 4.0392e-09,\n",
       "         7.2394e-02, 1.1820e-08, 2.3525e-05],\n",
       "        [6.2830e-12, 2.9981e-12, 8.5894e-10, 1.7926e-10, 5.7460e-09, 9.9481e-01,\n",
       "         1.5678e-12, 1.1549e-08, 9.5724e-07, 1.6616e-09, 3.3131e-13, 2.3403e-06,\n",
       "         2.2314e-05, 6.0689e-06, 2.6021e-05, 7.6796e-09, 2.4445e-07, 4.5982e-03,\n",
       "         5.2030e-11, 1.2623e-06, 4.7987e-09, 9.3208e-09, 1.4006e-14, 1.9816e-07,\n",
       "         6.4719e-08, 2.4467e-10, 5.2932e-04],\n",
       "        [1.1333e-15, 9.7549e-01, 1.5343e-09, 7.5276e-10, 2.1739e-18, 1.0218e-15,\n",
       "         5.3086e-06, 3.3512e-07, 1.7919e-07, 5.1782e-03, 1.6218e-02, 6.4233e-12,\n",
       "         6.9071e-18, 1.4601e-09, 9.1005e-08, 2.6325e-08, 4.8373e-14, 6.1960e-09,\n",
       "         3.9678e-08, 3.4588e-11, 3.7619e-04, 3.1480e-06, 2.6764e-03, 8.5203e-15,\n",
       "         5.5573e-05, 3.2910e-08, 6.6588e-17],\n",
       "        [4.4277e-12, 1.1739e-18, 2.0522e-14, 2.9116e-12, 7.8694e-09, 9.9990e-01,\n",
       "         2.5936e-15, 1.1474e-13, 3.0963e-11, 1.0183e-16, 1.4749e-12, 1.6855e-07,\n",
       "         2.9234e-08, 3.4041e-05, 9.1820e-11, 1.7292e-12, 1.1063e-08, 6.6960e-05,\n",
       "         1.5198e-11, 3.5665e-06, 3.4988e-14, 1.0356e-09, 2.4629e-19, 1.4404e-07,\n",
       "         1.2141e-09, 7.2587e-11, 2.9592e-09],\n",
       "        [1.5687e-14, 1.0815e-04, 1.8607e-08, 5.9854e-10, 1.5142e-17, 6.8258e-11,\n",
       "         2.3077e-09, 6.0253e-03, 7.8693e-04, 4.9831e-03, 8.6901e-06, 2.4119e-12,\n",
       "         1.9309e-11, 2.7667e-04, 3.9290e-08, 1.0995e-05, 1.3202e-05, 1.5561e-03,\n",
       "         3.3396e-10, 1.2345e-08, 4.6355e-03, 3.5911e-04, 9.3971e-01, 6.6102e-13,\n",
       "         4.1521e-02, 1.0009e-10, 9.7258e-08],\n",
       "        [3.7698e-05, 5.6357e-12, 1.2202e-10, 5.3142e-11, 5.1464e-16, 8.1943e-09,\n",
       "         1.6322e-09, 7.6761e-06, 1.3937e-07, 1.4483e-08, 7.6330e-07, 1.6271e-09,\n",
       "         6.6834e-14, 6.4291e-04, 4.5421e-08, 3.4279e-05, 1.4194e-04, 8.6333e-01,\n",
       "         1.0998e-04, 2.0909e-06, 3.6043e-08, 4.8907e-04, 1.1544e-05, 1.8923e-11,\n",
       "         1.3519e-01, 1.3779e-08, 2.1063e-08],\n",
       "        [1.5249e-07, 1.6024e-12, 1.6477e-11, 2.9199e-11, 1.1809e-14, 3.5695e-07,\n",
       "         3.0951e-10, 1.3220e-03, 9.6160e-07, 1.4421e-09, 1.1019e-07, 4.0040e-09,\n",
       "         2.3203e-11, 2.9913e-03, 2.6838e-07, 2.7509e-06, 2.1528e-05, 9.6604e-01,\n",
       "         1.1094e-06, 1.5249e-04, 5.7618e-08, 1.4851e-02, 7.1476e-07, 1.6986e-10,\n",
       "         1.4617e-02, 3.7231e-11, 4.3155e-07],\n",
       "        [3.0775e-08, 1.5031e-03, 5.7522e-06, 4.1196e-07, 6.4343e-14, 1.5024e-11,\n",
       "         9.9481e-07, 4.0081e-04, 1.2218e-03, 1.7794e-04, 8.8484e-01, 1.9844e-06,\n",
       "         4.8851e-15, 4.6594e-02, 1.5719e-08, 2.0185e-04, 2.4551e-08, 1.5120e-02,\n",
       "         3.6305e-06, 6.3691e-05, 1.3284e-03, 1.1479e-02, 3.2187e-02, 2.4603e-14,\n",
       "         4.8725e-03, 1.3403e-07, 6.6149e-13],\n",
       "        [1.5549e-09, 6.5690e-15, 7.1263e-10, 2.7957e-15, 2.1671e-13, 9.8851e-02,\n",
       "         5.6868e-13, 5.4307e-10, 3.9326e-09, 1.8459e-12, 6.7563e-10, 9.7017e-06,\n",
       "         1.1365e-08, 4.4214e-06, 4.3742e-07, 6.3979e-08, 2.1926e-03, 8.9779e-01,\n",
       "         1.4960e-04, 8.0599e-04, 2.6679e-11, 1.8949e-04, 1.3309e-12, 6.6670e-08,\n",
       "         2.8094e-08, 4.6013e-09, 2.8613e-06],\n",
       "        [3.7698e-05, 5.6357e-12, 1.2202e-10, 5.3142e-11, 5.1464e-16, 8.1943e-09,\n",
       "         1.6322e-09, 7.6761e-06, 1.3937e-07, 1.4483e-08, 7.6330e-07, 1.6271e-09,\n",
       "         6.6834e-14, 6.4291e-04, 4.5421e-08, 3.4279e-05, 1.4194e-04, 8.6333e-01,\n",
       "         1.0998e-04, 2.0909e-06, 3.6043e-08, 4.8907e-04, 1.1544e-05, 1.8923e-11,\n",
       "         1.3519e-01, 1.3779e-08, 2.1063e-08],\n",
       "        [2.1531e-11, 4.3850e-13, 1.1855e-10, 7.4027e-12, 2.3223e-11, 1.0551e-05,\n",
       "         5.3610e-13, 1.6445e-03, 5.4646e-07, 3.1974e-13, 3.3746e-10, 9.6992e-09,\n",
       "         4.3300e-12, 1.2082e-03, 2.2761e-08, 5.3114e-10, 1.3776e-06, 9.9532e-01,\n",
       "         2.8603e-09, 1.6539e-04, 6.5628e-08, 5.8634e-04, 9.3116e-09, 8.5035e-10,\n",
       "         9.6835e-04, 3.5230e-13, 9.2474e-05],\n",
       "        [2.0927e-18, 7.0872e-11, 3.4301e-10, 4.1932e-13, 3.0971e-17, 3.4975e-14,\n",
       "         2.3514e-13, 5.5994e-05, 1.2146e-06, 5.0860e-08, 1.6398e-06, 9.0156e-12,\n",
       "         1.5817e-14, 3.6479e-05, 1.8118e-09, 7.6297e-08, 1.4183e-09, 2.7777e-06,\n",
       "         1.4105e-10, 5.0820e-09, 3.1209e-05, 9.8052e-05, 6.8592e-09, 4.3324e-15,\n",
       "         9.9977e-01, 8.9157e-15, 3.7578e-14],\n",
       "        [2.0421e-08, 3.4995e-08, 7.9277e-11, 1.5878e-13, 1.1599e-14, 2.3668e-05,\n",
       "         7.9176e-11, 3.0152e-09, 2.4795e-05, 9.0278e-10, 5.7652e-06, 1.5560e-07,\n",
       "         6.4930e-12, 7.3638e-04, 1.9943e-05, 2.4439e-03, 3.9799e-09, 1.0012e-02,\n",
       "         7.8610e-04, 1.5335e-04, 1.0844e-03, 2.4675e-04, 6.5553e-12, 2.1146e-10,\n",
       "         9.8446e-01, 2.4101e-09, 5.3693e-10],\n",
       "        [1.8876e-09, 1.8429e-09, 2.9351e-11, 1.7918e-12, 1.5915e-13, 4.0667e-09,\n",
       "         3.7149e-13, 9.8552e-07, 1.7253e-08, 2.9520e-11, 8.7471e-08, 8.1039e-08,\n",
       "         1.4095e-16, 1.4103e-04, 7.0265e-06, 5.5057e-05, 1.6472e-10, 2.1126e-02,\n",
       "         3.3107e-07, 8.4646e-06, 9.6815e-05, 3.0425e-04, 3.2407e-11, 3.0528e-13,\n",
       "         9.7826e-01, 5.1763e-14, 2.1740e-11],\n",
       "        [9.5623e-08, 3.2006e-07, 8.7093e-07, 4.4124e-07, 6.6358e-05, 1.6726e-05,\n",
       "         6.9811e-13, 3.8501e-04, 9.1661e-05, 1.3684e-10, 1.8791e-11, 2.6949e-06,\n",
       "         1.3159e-13, 1.6776e-05, 7.5312e-04, 7.2518e-05, 2.3695e-06, 3.1804e-01,\n",
       "         1.7020e-09, 4.9419e-02, 1.1880e-05, 2.1768e-04, 1.6814e-10, 7.8564e-08,\n",
       "         6.3053e-01, 1.7576e-09, 3.6609e-04],\n",
       "        [3.7637e-13, 1.2086e-10, 2.2122e-09, 1.5039e-10, 7.7365e-07, 2.0015e-12,\n",
       "         3.5276e-11, 2.3470e-06, 8.4456e-07, 3.2160e-06, 4.4640e-06, 1.0452e-08,\n",
       "         3.9527e-11, 7.1325e-07, 9.9998e-01, 2.1857e-06, 2.8801e-09, 3.7733e-09,\n",
       "         5.8654e-08, 5.5070e-09, 3.8500e-06, 6.3377e-08, 5.3617e-15, 2.5550e-10,\n",
       "         1.8945e-06, 2.0371e-08, 5.5881e-13],\n",
       "        [6.4219e-08, 2.2369e-10, 7.8026e-09, 7.8749e-08, 9.5830e-01, 1.2216e-02,\n",
       "         2.3918e-09, 1.6088e-12, 2.3218e-08, 5.0001e-06, 5.4774e-09, 6.3971e-07,\n",
       "         2.7220e-05, 1.5927e-08, 2.2978e-02, 1.8457e-07, 6.6753e-06, 9.9894e-04,\n",
       "         7.5047e-04, 4.3636e-05, 1.1060e-10, 1.9465e-10, 1.8991e-15, 5.0731e-04,\n",
       "         1.3366e-05, 4.1542e-03, 1.9362e-08],\n",
       "        [1.8957e-09, 4.7753e-07, 1.9788e-10, 1.9573e-07, 1.8496e-14, 7.4535e-01,\n",
       "         7.3652e-07, 2.0035e-04, 1.6690e-04, 1.8155e-03, 3.9380e-06, 7.0641e-05,\n",
       "         1.9935e-03, 1.0461e-03, 5.2702e-05, 3.2358e-02, 2.8260e-03, 1.7974e-01,\n",
       "         9.7887e-08, 2.4173e-03, 2.4682e-02, 2.2703e-03, 4.4761e-05, 1.7688e-06,\n",
       "         4.7007e-05, 3.7439e-09, 4.9101e-03],\n",
       "        [3.7698e-05, 5.6357e-12, 1.2202e-10, 5.3142e-11, 5.1464e-16, 8.1943e-09,\n",
       "         1.6322e-09, 7.6761e-06, 1.3937e-07, 1.4483e-08, 7.6330e-07, 1.6271e-09,\n",
       "         6.6834e-14, 6.4291e-04, 4.5421e-08, 3.4279e-05, 1.4194e-04, 8.6333e-01,\n",
       "         1.0998e-04, 2.0909e-06, 3.6043e-08, 4.8907e-04, 1.1544e-05, 1.8923e-11,\n",
       "         1.3519e-01, 1.3779e-08, 2.1063e-08],\n",
       "        [6.3562e-06, 7.5583e-12, 3.0288e-11, 4.4200e-10, 2.0812e-14, 2.9457e-07,\n",
       "         2.7733e-09, 1.4387e-03, 1.4300e-06, 3.2364e-09, 1.3720e-07, 8.4024e-09,\n",
       "         4.8972e-12, 1.9404e-03, 2.0695e-07, 2.4671e-05, 7.0490e-05, 9.4248e-01,\n",
       "         2.4482e-06, 2.3367e-04, 1.4381e-08, 2.9421e-03, 2.8304e-06, 2.8410e-10,\n",
       "         5.0860e-02, 7.8193e-10, 3.5148e-07],\n",
       "        [5.2379e-11, 5.6861e-10, 3.8873e-09, 1.3457e-09, 1.5639e-11, 5.4059e-07,\n",
       "         2.0031e-11, 1.7795e-02, 3.7204e-06, 2.6491e-10, 8.1484e-08, 1.6792e-07,\n",
       "         6.2797e-11, 1.6706e-02, 4.3886e-07, 9.1631e-07, 2.4834e-05, 2.7239e-01,\n",
       "         6.7718e-10, 1.2556e-04, 1.4169e-05, 3.0358e-02, 6.9758e-07, 7.7401e-10,\n",
       "         6.6258e-01, 7.5988e-12, 4.1048e-08],\n",
       "        [2.3825e-18, 1.3181e-13, 2.1679e-12, 7.5892e-15, 2.0268e-16, 1.2055e-12,\n",
       "         9.8490e-16, 3.1415e-08, 1.4497e-09, 2.0398e-12, 1.1454e-09, 1.7505e-10,\n",
       "         3.4261e-14, 1.1825e-08, 5.5368e-06, 1.6926e-07, 2.0074e-09, 8.2784e-06,\n",
       "         1.4470e-09, 2.3220e-11, 5.9887e-08, 3.1390e-06, 6.2569e-13, 1.2629e-14,\n",
       "         9.9998e-01, 1.5367e-15, 8.2048e-14],\n",
       "        [6.3240e-07, 5.4826e-05, 1.6029e-08, 2.0281e-08, 1.1386e-10, 8.4494e-06,\n",
       "         4.4027e-10, 1.3962e-04, 1.0774e-05, 1.5534e-07, 1.5133e-04, 1.0536e-04,\n",
       "         7.9459e-16, 1.1561e-05, 1.8857e-02, 6.5364e-04, 1.9138e-10, 4.8037e-01,\n",
       "         4.2967e-04, 3.8680e-04, 1.1906e-01, 6.7783e-05, 1.7843e-10, 7.8139e-12,\n",
       "         3.7970e-01, 1.2699e-10, 5.3887e-11],\n",
       "        [7.5594e-14, 3.5439e-12, 3.1934e-09, 7.0943e-12, 3.7821e-09, 2.6314e-06,\n",
       "         2.1088e-15, 1.0646e-04, 9.9856e-07, 8.7307e-11, 2.2921e-12, 1.1633e-08,\n",
       "         2.0234e-10, 1.4166e-06, 1.7381e-06, 2.4831e-08, 1.5698e-07, 9.9618e-01,\n",
       "         1.5929e-10, 1.5757e-05, 3.8238e-08, 3.2277e-06, 2.0135e-12, 9.2137e-09,\n",
       "         3.6663e-03, 1.2897e-11, 1.8495e-05],\n",
       "        [3.2597e-18, 4.5506e-11, 5.1193e-14, 1.3612e-13, 1.1932e-16, 4.8242e-13,\n",
       "         2.6168e-15, 1.7204e-05, 1.6645e-07, 1.4914e-08, 6.3869e-08, 1.3682e-12,\n",
       "         2.6921e-17, 5.5433e-07, 3.3180e-06, 3.0706e-08, 2.4839e-14, 7.9958e-05,\n",
       "         8.1121e-10, 7.4863e-10, 2.3900e-04, 5.3225e-07, 1.2636e-11, 2.7638e-17,\n",
       "         9.9966e-01, 1.1874e-14, 1.1150e-16]])"
      ]
     },
     "execution_count": 166,
     "metadata": {},
     "output_type": "execute_result"
    }
   ],
   "source": [
    "probs"
   ]
  },
  {
   "cell_type": "markdown",
   "id": "5c2a2f24-9414-4626-8818-5cad23523baf",
   "metadata": {},
   "source": [
    "## Cont..."
   ]
  },
  {
   "cell_type": "code",
   "execution_count": 168,
   "id": "a0192082-1592-43a0-b719-2f9d43d80c90",
   "metadata": {
    "execution": {
     "iopub.execute_input": "2024-04-13T16:44:08.452232Z",
     "iopub.status.busy": "2024-04-13T16:44:08.451932Z",
     "iopub.status.idle": "2024-04-13T16:44:08.477661Z",
     "shell.execute_reply": "2024-04-13T16:44:08.476887Z",
     "shell.execute_reply.started": "2024-04-13T16:44:08.452208Z"
    }
   },
   "outputs": [],
   "source": [
    "loss = -probs[torch.arange(number_of_training_samples), Y].log().mean()"
   ]
  },
  {
   "cell_type": "code",
   "execution_count": 169,
   "id": "e44958c1-5693-4024-9c85-a6dcb07e2f98",
   "metadata": {
    "execution": {
     "iopub.execute_input": "2024-04-13T16:44:11.652783Z",
     "iopub.status.busy": "2024-04-13T16:44:11.652076Z",
     "iopub.status.idle": "2024-04-13T16:44:11.663365Z",
     "shell.execute_reply": "2024-04-13T16:44:11.662076Z",
     "shell.execute_reply.started": "2024-04-13T16:44:11.652741Z"
    }
   },
   "outputs": [
    {
     "data": {
      "text/plain": [
       "tensor(19.8893)"
      ]
     },
     "execution_count": 169,
     "metadata": {},
     "output_type": "execute_result"
    }
   ],
   "source": [
    "loss"
   ]
  },
  {
   "cell_type": "markdown",
   "id": "63b5f321-3581-4440-b4d2-b7d10ad563b5",
   "metadata": {},
   "source": [
    "## Putting it all together - 1 "
   ]
  },
  {
   "cell_type": "code",
   "execution_count": 204,
   "id": "248af55b-6351-4d23-a4ce-bd3ce5ef1f37",
   "metadata": {
    "execution": {
     "iopub.execute_input": "2024-04-13T17:36:31.709577Z",
     "iopub.status.busy": "2024-04-13T17:36:31.709280Z",
     "iopub.status.idle": "2024-04-13T17:36:31.714294Z",
     "shell.execute_reply": "2024-04-13T17:36:31.713582Z",
     "shell.execute_reply.started": "2024-04-13T17:36:31.709555Z"
    }
   },
   "outputs": [
    {
     "data": {
      "text/plain": [
       "(torch.Size([228146, 3]), torch.Size([228146]))"
      ]
     },
     "execution_count": 204,
     "metadata": {},
     "output_type": "execute_result"
    }
   ],
   "source": [
    "X.shape, Y.shape  # dataset"
   ]
  },
  {
   "cell_type": "code",
   "execution_count": 236,
   "id": "f3648a38-2ee9-4f95-afb9-c776baad6c34",
   "metadata": {
    "execution": {
     "iopub.execute_input": "2024-04-13T18:10:05.757382Z",
     "iopub.status.busy": "2024-04-13T18:10:05.757086Z",
     "iopub.status.idle": "2024-04-13T18:10:05.763934Z",
     "shell.execute_reply": "2024-04-13T18:10:05.762910Z",
     "shell.execute_reply.started": "2024-04-13T18:10:05.757360Z"
    }
   },
   "outputs": [],
   "source": [
    "g = torch.Generator().manual_seed(2147483647)  # For reproducibility\n",
    "\n",
    "C =  torch.randn((universe_of_dataset, 2), generator=g)\n",
    "\n",
    "W1 = torch.randn((input_layer_nodes, W1_neuron_count), generator=g)\n",
    "b1 = torch.randn(b1_count, generator=g)\n",
    "\n",
    "W2 = torch.randn((W1_neuron_count, universe_of_dataset), generator=g)\n",
    "b2 = torch.randn(universe_of_dataset, generator=g)\n",
    "\n",
    "parameters = [C, W1, b1, W2, b2]"
   ]
  },
  {
   "cell_type": "code",
   "execution_count": 237,
   "id": "7d08e9f2-c221-448c-a864-e79d6a0190fb",
   "metadata": {
    "execution": {
     "iopub.execute_input": "2024-04-13T18:10:06.258739Z",
     "iopub.status.busy": "2024-04-13T18:10:06.258383Z",
     "iopub.status.idle": "2024-04-13T18:10:06.265561Z",
     "shell.execute_reply": "2024-04-13T18:10:06.264528Z",
     "shell.execute_reply.started": "2024-04-13T18:10:06.258711Z"
    }
   },
   "outputs": [
    {
     "data": {
      "text/plain": [
       "3481"
      ]
     },
     "execution_count": 237,
     "metadata": {},
     "output_type": "execute_result"
    }
   ],
   "source": [
    "sum(p.nelement() for p in parameters)  # Number of parameters in total"
   ]
  },
  {
   "cell_type": "code",
   "execution_count": 238,
   "id": "94ad61e0-ba85-4b6e-a135-e3067b4cf904",
   "metadata": {
    "execution": {
     "iopub.execute_input": "2024-04-13T18:10:07.929794Z",
     "iopub.status.busy": "2024-04-13T18:10:07.929486Z",
     "iopub.status.idle": "2024-04-13T18:10:07.933670Z",
     "shell.execute_reply": "2024-04-13T18:10:07.932676Z",
     "shell.execute_reply.started": "2024-04-13T18:10:07.929770Z"
    }
   },
   "outputs": [],
   "source": [
    "for p in parameters:\n",
    "    p.requires_grad = True"
   ]
  },
  {
   "cell_type": "markdown",
   "id": "f2a3ff08-3e44-4899-9a81-989007fd0179",
   "metadata": {},
   "source": [
    "### Normal"
   ]
  },
  {
   "cell_type": "code",
   "execution_count": 214,
   "id": "4bb616b1-48f9-47bf-8822-b057f65485eb",
   "metadata": {
    "execution": {
     "iopub.execute_input": "2024-04-13T17:44:27.051021Z",
     "iopub.status.busy": "2024-04-13T17:44:27.050751Z",
     "iopub.status.idle": "2024-04-13T17:44:51.437503Z",
     "shell.execute_reply": "2024-04-13T17:44:51.436776Z",
     "shell.execute_reply.started": "2024-04-13T17:44:27.051001Z"
    }
   },
   "outputs": [
    {
     "name": "stdout",
     "output_type": "stream",
     "text": [
      "[+] Epoc: 0   | Loss: 19.505229949951172\n",
      "[+] Epoc: 10  | Loss: 10.709586143493652\n",
      "[+] Epoc: 20  | Loss: 8.329227447509766\n",
      "[+] Epoc: 30  | Loss: 6.795018196105957\n",
      "[+] Epoc: 40  | Loss: 5.8031463623046875\n",
      "[+] Epoc: 50  | Loss: 5.105468273162842\n",
      "[+] Epoc: 60  | Loss: 4.587378025054932\n",
      "[+] Epoc: 70  | Loss: 4.202611923217773\n",
      "[+] Epoc: 80  | Loss: 3.9281277656555176\n",
      "[+] Epoc: 90  | Loss: 3.7286949157714844\n",
      "[+] Epoc: 100 | Loss: 3.5755467414855957\n"
     ]
    }
   ],
   "source": [
    "no_of_epoc = 101\n",
    "\n",
    "for epoc in range(no_of_epoc):\n",
    "\n",
    "    # FORWARD PASS\n",
    "    \n",
    "    embedding = C[X]  # [32, 3, 2]\n",
    "    h = embedding.reshape(-1, input_layer_nodes)  # [32, 6]\n",
    "    h = torch.tanh(h @ W1 + b1)  # [32, 100]\n",
    "    logits = h @ W2 + b2  # [32, 27]\n",
    "    \n",
    "    # counts = logits.exp()  # fake count  # [32, 27]\n",
    "    # probs = counts / counts.sum(1, keepdim=True)  # [32, 27]\n",
    "    # loss = -probs[torch.arange(number_of_training_samples), Y].log().mean()\n",
    "    \n",
    "    # All the above 3 lines can be replaced with below single line, which basically does the same thing.\n",
    "    # Because we are usign cross entropy, the forward pass, backwoard pass are more efficient and numerically stable also\n",
    "    loss = F.cross_entropy(logits, Y)\n",
    "    \n",
    "    \n",
    "    # BACKWARD PASS\n",
    "    \n",
    "    for p in parameters:\n",
    "        p.grad = None\n",
    "    \n",
    "    loss.backward()\n",
    "    \n",
    "    for p in parameters:\n",
    "        p.data += -0.1 * p.grad\n",
    "    \n",
    "    if epoc%10==0:\n",
    "        print(f'[+] Epoc: {epoc:<3} | Loss: {round(loss.item(), 4)}')\n"
   ]
  },
  {
   "cell_type": "markdown",
   "id": "8b3480e9-191e-4433-9fb4-bb2afc998236",
   "metadata": {},
   "source": [
    "### Mini batch version"
   ]
  },
  {
   "cell_type": "code",
   "execution_count": 221,
   "id": "8fb2f615-0345-4079-aa00-e883ea94bc83",
   "metadata": {
    "execution": {
     "iopub.execute_input": "2024-04-13T17:46:47.129623Z",
     "iopub.status.busy": "2024-04-13T17:46:47.129318Z",
     "iopub.status.idle": "2024-04-13T17:46:47.198192Z",
     "shell.execute_reply": "2024-04-13T17:46:47.196913Z",
     "shell.execute_reply.started": "2024-04-13T17:46:47.129599Z"
    }
   },
   "outputs": [
    {
     "name": "stdout",
     "output_type": "stream",
     "text": [
      "[+] Epoc: 0   | Loss: 6.2823\n",
      "[+] Epoc: 10  | Loss: 3.1717\n",
      "[+] Epoc: 20  | Loss: 4.045\n",
      "[+] Epoc: 30  | Loss: 4.2734\n",
      "[+] Epoc: 40  | Loss: 3.5907\n",
      "[+] Epoc: 50  | Loss: 2.7597\n",
      "[+] Epoc: 60  | Loss: 3.6084\n",
      "[+] Epoc: 70  | Loss: 3.7197\n",
      "[+] Epoc: 80  | Loss: 2.7616\n",
      "[+] Epoc: 90  | Loss: 3.0488\n",
      "[+] Epoc: 100 | Loss: 3.0964\n"
     ]
    }
   ],
   "source": [
    "no_of_epoc = 101\n",
    "\n",
    "for epoc in range(no_of_epoc):\n",
    "\n",
    "    # MINI-BATCH CONSTRUCT\n",
    "    ix = torch.randint(0, X.shape[0], (32,))\n",
    "\n",
    "    # FORWARD PASS\n",
    "    embedding = C[X[ix]]\n",
    "    h = embedding.reshape(-1, input_layer_nodes)\n",
    "    h = torch.tanh(h @ W1 + b1)\n",
    "    logits = h @ W2 + b2\n",
    "    loss = F.cross_entropy(logits, Y[ix])\n",
    "    \n",
    "    \n",
    "    # BACKWARD PASS\n",
    "    for p in parameters:\n",
    "        p.grad = None\n",
    "    \n",
    "    loss.backward()\n",
    "    \n",
    "    for p in parameters:\n",
    "        p.data += -0.1 * p.grad\n",
    "    \n",
    "    if epoc%10==0:\n",
    "        print(f'[+] Epoc: {epoc:<3} | Loss: {round(loss.item(), 4)}')"
   ]
  },
  {
   "cell_type": "markdown",
   "id": "b7b575f5-85ae-4d30-8cbc-f9d92d474354",
   "metadata": {},
   "source": [
    "### Find good Learning rate"
   ]
  },
  {
   "cell_type": "code",
   "execution_count": 232,
   "id": "b1bdb7b8-29be-44fd-b977-f901624448f3",
   "metadata": {
    "execution": {
     "iopub.execute_input": "2024-04-13T18:06:00.021499Z",
     "iopub.status.busy": "2024-04-13T18:06:00.021170Z",
     "iopub.status.idle": "2024-04-13T18:06:00.025204Z",
     "shell.execute_reply": "2024-04-13T18:06:00.024275Z",
     "shell.execute_reply.started": "2024-04-13T18:06:00.021474Z"
    }
   },
   "outputs": [],
   "source": [
    "no_of_epoc = 5001\n",
    "\n",
    "count_of_learning_rate = no_of_epoc"
   ]
  },
  {
   "cell_type": "code",
   "execution_count": 233,
   "id": "8c0e9e52-c7ef-4d31-99de-1de32a1d109c",
   "metadata": {
    "execution": {
     "iopub.execute_input": "2024-04-13T18:06:01.054792Z",
     "iopub.status.busy": "2024-04-13T18:06:01.054492Z",
     "iopub.status.idle": "2024-04-13T18:06:01.060536Z",
     "shell.execute_reply": "2024-04-13T18:06:01.058764Z",
     "shell.execute_reply.started": "2024-04-13T18:06:01.054768Z"
    }
   },
   "outputs": [],
   "source": [
    "lre = torch.linspace(-3, 0, count_of_learning_rate)\n",
    "lrs = 10**lre"
   ]
  },
  {
   "cell_type": "code",
   "execution_count": 234,
   "id": "0efdac4f-88b7-47de-aa4f-edf1726c5680",
   "metadata": {
    "execution": {
     "iopub.execute_input": "2024-04-13T18:06:02.881182Z",
     "iopub.status.busy": "2024-04-13T18:06:02.880637Z",
     "iopub.status.idle": "2024-04-13T18:06:02.886871Z",
     "shell.execute_reply": "2024-04-13T18:06:02.886178Z",
     "shell.execute_reply.started": "2024-04-13T18:06:02.881156Z"
    },
    "scrolled": true
   },
   "outputs": [
    {
     "data": {
      "text/plain": [
       "tensor([0.0010, 0.0010, 0.0010,  ..., 0.9972, 0.9986, 1.0000])"
      ]
     },
     "execution_count": 234,
     "metadata": {},
     "output_type": "execute_result"
    }
   ],
   "source": [
    "lrs"
   ]
  },
  {
   "cell_type": "code",
   "execution_count": null,
   "id": "066571ea-1950-4942-99e8-c29b9decf6c1",
   "metadata": {},
   "outputs": [],
   "source": [
    "for p in parameters:\n",
    "    p.requires_grad = True"
   ]
  },
  {
   "cell_type": "code",
   "execution_count": 229,
   "id": "0d7b9759-1a41-4dfd-8bce-c7c2920514b2",
   "metadata": {
    "execution": {
     "iopub.execute_input": "2024-04-13T18:01:03.327288Z",
     "iopub.status.busy": "2024-04-13T18:01:03.326986Z",
     "iopub.status.idle": "2024-04-13T18:01:03.936726Z",
     "shell.execute_reply": "2024-04-13T18:01:03.935569Z",
     "shell.execute_reply.started": "2024-04-13T18:01:03.327265Z"
    }
   },
   "outputs": [
    {
     "name": "stdout",
     "output_type": "stream",
     "text": [
      "[+] Epoc: 0   | Loss: 7.9177\n",
      "[+] Epoc: 50  | Loss: 8.9742\n",
      "[+] Epoc: 100 | Loss: 8.5239\n",
      "[+] Epoc: 150 | Loss: 7.0827\n",
      "[+] Epoc: 200 | Loss: 6.9905\n",
      "[+] Epoc: 250 | Loss: 5.9727\n",
      "[+] Epoc: 300 | Loss: 4.0957\n",
      "[+] Epoc: 350 | Loss: 4.5823\n",
      "[+] Epoc: 400 | Loss: 3.6978\n",
      "[+] Epoc: 450 | Loss: 4.5401\n",
      "[+] Epoc: 500 | Loss: 3.7307\n",
      "[+] Epoc: 550 | Loss: 2.6666\n",
      "[+] Epoc: 600 | Loss: 2.7513\n",
      "[+] Epoc: 650 | Loss: 2.5661\n",
      "[+] Epoc: 700 | Loss: 3.0738\n",
      "[+] Epoc: 750 | Loss: 2.8184\n",
      "[+] Epoc: 800 | Loss: 3.0499\n",
      "[+] Epoc: 850 | Loss: 2.954\n",
      "[+] Epoc: 900 | Loss: 4.5191\n",
      "[+] Epoc: 950 | Loss: 4.4985\n"
     ]
    }
   ],
   "source": [
    "track_lr = []\n",
    "track_loss = []\n",
    "\n",
    "for epoc in range(no_of_epoc):\n",
    "\n",
    "    # MINI-BATCH CONSTRUCT\n",
    "    ix = torch.randint(0, X.shape[0], (32,))\n",
    "\n",
    "    # FORWARD PASS\n",
    "    embedding = C[X[ix]]\n",
    "    h = embedding.reshape(-1, input_layer_nodes)\n",
    "    h = torch.tanh(h @ W1 + b1)\n",
    "    logits = h @ W2 + b2\n",
    "    loss = F.cross_entropy(logits, Y[ix])\n",
    "    \n",
    "    # BACKWARD PASS\n",
    "    for p in parameters:\n",
    "        p.grad = None\n",
    "    \n",
    "    loss.backward()\n",
    "\n",
    "    # UPDATE\n",
    "    learning_rate = epoc\n",
    "    learning_rate = lrs[learning_rate]\n",
    "    \n",
    "    for p in parameters:\n",
    "        p.data += -learning_rate * p.grad\n",
    "\n",
    "    # TRACKING\n",
    "    track_lr.append(learning_rate)\n",
    "    track_loss.append(loss.item())\n",
    "    \n",
    "    if epoc%100==0:\n",
    "        print(f'[+] Epoc: {epoc:<3} | Loss: {round(loss.item(), 4)}')"
   ]
  },
  {
   "cell_type": "code",
   "execution_count": 230,
   "id": "04a51220-76ef-465d-b518-d624d8811d2a",
   "metadata": {
    "execution": {
     "iopub.execute_input": "2024-04-13T18:01:31.573055Z",
     "iopub.status.busy": "2024-04-13T18:01:31.572452Z",
     "iopub.status.idle": "2024-04-13T18:01:32.328972Z",
     "shell.execute_reply": "2024-04-13T18:01:32.328346Z",
     "shell.execute_reply.started": "2024-04-13T18:01:31.573030Z"
    }
   },
   "outputs": [
    {
     "data": {
      "text/plain": [
       "[<matplotlib.lines.Line2D at 0x12faf5710>]"
      ]
     },
     "execution_count": 230,
     "metadata": {},
     "output_type": "execute_result"
    },
    {
     "data": {
      "image/png": "[encoded data removed]",
      "text/plain": [
       "<Figure size 640x480 with 1 Axes>"
      ]
     },
     "metadata": {},
     "output_type": "display_data"
    }
   ],
   "source": [
    "plt.plot(track_lr, track_loss)"
   ]
  },
  {
   "cell_type": "markdown",
   "id": "666fc3c4-3112-4d2b-9fec-614276e51f60",
   "metadata": {},
   "source": [
    "From the above chart we can see that a good learning rate lies between 0.1 to 0.2"
   ]
  },
  {
   "cell_type": "markdown",
   "id": "8fb58bbc-6ed3-442b-ab6e-2df54ee5589e",
   "metadata": {},
   "source": [
    "### Final run post we find a good learning rate"
   ]
  },
  {
   "cell_type": "code",
   "execution_count": 243,
   "id": "d2601191-7a6c-44f2-959c-4cce3ae478b0",
   "metadata": {
    "execution": {
     "iopub.execute_input": "2024-04-13T18:11:36.870773Z",
     "iopub.status.busy": "2024-04-13T18:11:36.870453Z",
     "iopub.status.idle": "2024-04-13T18:11:38.737622Z",
     "shell.execute_reply": "2024-04-13T18:11:38.736955Z",
     "shell.execute_reply.started": "2024-04-13T18:11:36.870750Z"
    },
    "scrolled": true
   },
   "outputs": [
    {
     "name": "stdout",
     "output_type": "stream",
     "text": [
      "[+] Epoc: 0   | Loss: 2.5738\n",
      "[+] Epoc: 100 | Loss: 2.2472\n",
      "[+] Epoc: 200 | Loss: 2.5156\n",
      "[+] Epoc: 300 | Loss: 2.4415\n",
      "[+] Epoc: 400 | Loss: 1.9659\n",
      "[+] Epoc: 500 | Loss: 2.5404\n",
      "[+] Epoc: 600 | Loss: 2.5176\n",
      "[+] Epoc: 700 | Loss: 2.6307\n",
      "[+] Epoc: 800 | Loss: 2.4096\n",
      "[+] Epoc: 900 | Loss: 2.3189\n",
      "[+] Epoc: 1000 | Loss: 2.3188\n",
      "[+] Epoc: 1100 | Loss: 2.364\n",
      "[+] Epoc: 1200 | Loss: 2.4091\n",
      "[+] Epoc: 1300 | Loss: 2.5052\n",
      "[+] Epoc: 1400 | Loss: 2.1849\n",
      "[+] Epoc: 1500 | Loss: 2.3728\n",
      "[+] Epoc: 1600 | Loss: 2.4845\n",
      "[+] Epoc: 1700 | Loss: 2.5339\n",
      "[+] Epoc: 1800 | Loss: 2.7838\n",
      "[+] Epoc: 1900 | Loss: 2.8334\n",
      "[+] Epoc: 2000 | Loss: 2.1521\n",
      "[+] Epoc: 2100 | Loss: 2.3868\n",
      "[+] Epoc: 2200 | Loss: 2.2238\n",
      "[+] Epoc: 2300 | Loss: 2.6283\n",
      "[+] Epoc: 2400 | Loss: 2.4161\n",
      "[+] Epoc: 2500 | Loss: 2.5482\n",
      "[+] Epoc: 2600 | Loss: 2.2086\n",
      "[+] Epoc: 2700 | Loss: 2.3215\n",
      "[+] Epoc: 2800 | Loss: 2.2914\n",
      "[+] Epoc: 2900 | Loss: 2.7441\n",
      "[+] Epoc: 3000 | Loss: 2.3193\n",
      "[+] Epoc: 3100 | Loss: 2.6477\n",
      "[+] Epoc: 3200 | Loss: 2.5321\n",
      "[+] Epoc: 3300 | Loss: 2.8084\n",
      "[+] Epoc: 3400 | Loss: 2.5413\n",
      "[+] Epoc: 3500 | Loss: 2.1636\n",
      "[+] Epoc: 3600 | Loss: 2.7001\n",
      "[+] Epoc: 3700 | Loss: 2.8947\n",
      "[+] Epoc: 3800 | Loss: 2.3916\n",
      "[+] Epoc: 3900 | Loss: 2.6472\n",
      "[+] Epoc: 4000 | Loss: 2.5278\n",
      "[+] Epoc: 4100 | Loss: 2.1132\n",
      "[+] Epoc: 4200 | Loss: 2.4278\n",
      "[+] Epoc: 4300 | Loss: 2.3601\n",
      "[+] Epoc: 4400 | Loss: 2.6719\n",
      "[+] Epoc: 4500 | Loss: 2.4421\n",
      "[+] Epoc: 4600 | Loss: 2.7019\n",
      "[+] Epoc: 4700 | Loss: 2.2694\n",
      "[+] Epoc: 4800 | Loss: 2.4569\n",
      "[+] Epoc: 4900 | Loss: 2.0752\n",
      "[+] Epoc: 5000 | Loss: 2.3865\n"
     ]
    }
   ],
   "source": [
    "no_of_epoc = 5001\n",
    "\n",
    "for epoc in range(no_of_epoc):\n",
    "\n",
    "    # MINI-BATCH CONSTRUCT\n",
    "    ix = torch.randint(0, X.shape[0], (32,))\n",
    "\n",
    "    # FORWARD PASS\n",
    "    embedding = C[X[ix]]\n",
    "    h = embedding.reshape(-1, input_layer_nodes)\n",
    "    h = torch.tanh(h @ W1 + b1)\n",
    "    logits = h @ W2 + b2\n",
    "    loss = F.cross_entropy(logits, Y[ix])\n",
    "    \n",
    "    # BACKWARD PASS\n",
    "    for p in parameters:\n",
    "        p.grad = None\n",
    "    \n",
    "    loss.backward()\n",
    "\n",
    "    # UPDATE with decay\n",
    "    for p in parameters:\n",
    "        # p.data += -0.1 * p.grad\n",
    "        # p.data += -0.01 * p.grad\n",
    "        p.data += -0.005 * p.grad\n",
    "    \n",
    "    if epoc%100==0:\n",
    "        print(f'[+] Epoc: {epoc:<3} | Loss: {round(loss.item(), 4)}')"
   ]
  },
  {
   "cell_type": "code",
   "execution_count": 244,
   "id": "68305343-fc16-4fbd-98df-6fc01068a4a9",
   "metadata": {
    "execution": {
     "iopub.execute_input": "2024-04-13T18:11:42.431669Z",
     "iopub.status.busy": "2024-04-13T18:11:42.431362Z",
     "iopub.status.idle": "2024-04-13T18:11:42.438898Z",
     "shell.execute_reply": "2024-04-13T18:11:42.438019Z",
     "shell.execute_reply.started": "2024-04-13T18:11:42.431646Z"
    }
   },
   "outputs": [
    {
     "data": {
      "text/plain": [
       "tensor(2.3669, grad_fn=<NllLossBackward0>)"
      ]
     },
     "execution_count": 244,
     "metadata": {},
     "output_type": "execute_result"
    }
   ],
   "source": [
    "# Loss on full data\n",
    "\n",
    "embedding = C[X[ix]]\n",
    "h = embedding.reshape(-1, input_layer_nodes)\n",
    "h = torch.tanh(h @ W1 + b1)\n",
    "logits = h @ W2 + b2\n",
    "loss = F.cross_entropy(logits, Y[ix])\n",
    "loss"
   ]
  },
  {
   "cell_type": "markdown",
   "id": "af20b492-d735-46a4-a2dc-ca8e8445a6aa",
   "metadata": {},
   "source": [
    "## Train split, Dev/Validation split, Test split\n",
    "80%, 10%, 10%"
   ]
  },
  {
   "cell_type": "code",
   "execution_count": 248,
   "id": "75e8028d-6246-4608-a993-53fcc8e547e3",
   "metadata": {
    "execution": {
     "iopub.execute_input": "2024-04-13T18:20:27.355577Z",
     "iopub.status.busy": "2024-04-13T18:20:27.355279Z",
     "iopub.status.idle": "2024-04-13T18:20:27.360746Z",
     "shell.execute_reply": "2024-04-13T18:20:27.359904Z",
     "shell.execute_reply.started": "2024-04-13T18:20:27.355553Z"
    }
   },
   "outputs": [],
   "source": [
    "def build_dataset(words, block_size=3):\n",
    "    # Context length: How many characters do we take to predict the next one?\n",
    "    \n",
    "    X, Y = [], []\n",
    "    \n",
    "    verbose = False\n",
    "    for word in words:\n",
    "    \n",
    "        context = [0] * block_size\n",
    "    \n",
    "        for char in word + '.':\n",
    "            ix = char_to_index[char]\n",
    "            X.append(context)\n",
    "            Y.append(ix)\n",
    "            context = context[1:] + [ix]  # crop and append\n",
    "    \n",
    "    X = torch.tensor(X)\n",
    "    Y = torch.tensor(Y)\n",
    "\n",
    "    print(X.shape, Y.shape)\n",
    "\n",
    "    return X, Y"
   ]
  },
  {
   "cell_type": "code",
   "execution_count": 257,
   "id": "bb1bb1de-4b02-4af2-8822-2289c91954da",
   "metadata": {
    "execution": {
     "iopub.execute_input": "2024-04-13T18:36:37.110119Z",
     "iopub.status.busy": "2024-04-13T18:36:37.109561Z",
     "iopub.status.idle": "2024-04-13T18:36:37.134666Z",
     "shell.execute_reply": "2024-04-13T18:36:37.133262Z",
     "shell.execute_reply.started": "2024-04-13T18:36:37.110082Z"
    }
   },
   "outputs": [],
   "source": [
    "def create_train_val_test_split(lst):\n",
    "    total_len = len(lst)\n",
    "    first_end = int(total_len * 0.8)\n",
    "    second_end = int(total_len * 0.9)\n",
    "    \n",
    "    train_set = lst[:first_end]\n",
    "    val_set = lst[first_end:second_end]\n",
    "    test_set = lst[second_end:]\n",
    "    \n",
    "    return train_set, val_set, test_set"
   ]
  },
  {
   "cell_type": "code",
   "execution_count": 343,
   "id": "05faa088-4048-4664-8bfd-5541e0b5b35a",
   "metadata": {
    "execution": {
     "iopub.execute_input": "2024-04-13T19:32:28.979766Z",
     "iopub.status.busy": "2024-04-13T19:32:28.979358Z",
     "iopub.status.idle": "2024-04-13T19:32:29.011546Z",
     "shell.execute_reply": "2024-04-13T19:32:29.010525Z",
     "shell.execute_reply.started": "2024-04-13T19:32:28.979732Z"
    }
   },
   "outputs": [],
   "source": [
    "random.seed(42)\n",
    "random.shuffle(words)\n",
    "\n",
    "train_set, val_set, test_set = create_train_val_test_split(lst=words)"
   ]
  },
  {
   "cell_type": "code",
   "execution_count": 344,
   "id": "aa70ede5-4ee8-4fb1-8c2b-db8551710580",
   "metadata": {
    "execution": {
     "iopub.execute_input": "2024-04-13T19:32:30.423613Z",
     "iopub.status.busy": "2024-04-13T19:32:30.423321Z",
     "iopub.status.idle": "2024-04-13T19:32:30.431315Z",
     "shell.execute_reply": "2024-04-13T19:32:30.430526Z",
     "shell.execute_reply.started": "2024-04-13T19:32:30.423591Z"
    }
   },
   "outputs": [
    {
     "data": {
      "text/plain": [
       "(32033, 32033)"
      ]
     },
     "execution_count": 344,
     "metadata": {},
     "output_type": "execute_result"
    }
   ],
   "source": [
    "len(words), len(train_set) + len(val_set) + len(test_set)"
   ]
  },
  {
   "cell_type": "code",
   "execution_count": 345,
   "id": "52217749-d89a-4cd3-a030-a45c339e9273",
   "metadata": {
    "execution": {
     "iopub.execute_input": "2024-04-13T19:32:32.184101Z",
     "iopub.status.busy": "2024-04-13T19:32:32.183564Z",
     "iopub.status.idle": "2024-04-13T19:32:33.912428Z",
     "shell.execute_reply": "2024-04-13T19:32:33.911564Z",
     "shell.execute_reply.started": "2024-04-13T19:32:32.184075Z"
    }
   },
   "outputs": [
    {
     "name": "stdout",
     "output_type": "stream",
     "text": [
      "torch.Size([182512, 3]) torch.Size([182512])\n",
      "torch.Size([22860, 3]) torch.Size([22860])\n",
      "torch.Size([22774, 3]) torch.Size([22774])\n"
     ]
    }
   ],
   "source": [
    "X_train, Y_train           = build_dataset(train_set)\n",
    "X_validation, Y_validation = build_dataset(val_set)\n",
    "X_test, Y_test             = build_dataset(test_set)"
   ]
  },
  {
   "cell_type": "code",
   "execution_count": 358,
   "id": "e4e77ebb-e35c-4b32-8200-421427bcb6cc",
   "metadata": {
    "execution": {
     "iopub.execute_input": "2024-04-13T19:42:41.276361Z",
     "iopub.status.busy": "2024-04-13T19:42:41.276062Z",
     "iopub.status.idle": "2024-04-13T19:42:41.279904Z",
     "shell.execute_reply": "2024-04-13T19:42:41.278931Z",
     "shell.execute_reply.started": "2024-04-13T19:42:41.276337Z"
    }
   },
   "outputs": [],
   "source": [
    "input_characters = 3\n",
    "W1_neuron_count = 300\n",
    "b1_count = W1_neuron_count\n",
    "no_of_dim_of_a_character = 10"
   ]
  },
  {
   "cell_type": "code",
   "execution_count": 369,
   "id": "dd043374-99f8-48bf-a379-bcf62ada776b",
   "metadata": {
    "execution": {
     "iopub.execute_input": "2024-04-13T19:44:55.295420Z",
     "iopub.status.busy": "2024-04-13T19:44:55.295128Z",
     "iopub.status.idle": "2024-04-13T19:44:55.300201Z",
     "shell.execute_reply": "2024-04-13T19:44:55.299079Z",
     "shell.execute_reply.started": "2024-04-13T19:44:55.295395Z"
    }
   },
   "outputs": [],
   "source": [
    "g = torch.Generator().manual_seed(2147483647)  # For reproducibility\n",
    "\n",
    "W1 = torch.randn((input_layer_nodes, W1_neuron_count), generator=g)\n",
    "b1 = torch.randn(b1_count, generator=g)\n",
    "\n",
    "W2 = torch.randn((W1_neuron_count, universe_of_dataset), generator=g)\n",
    "b2 = torch.randn(universe_of_dataset, generator=g)"
   ]
  },
  {
   "cell_type": "code",
   "execution_count": 370,
   "id": "54f73273-de39-4d53-a47c-3051ffdc076d",
   "metadata": {
    "execution": {
     "iopub.execute_input": "2024-04-13T19:44:55.773043Z",
     "iopub.status.busy": "2024-04-13T19:44:55.772522Z",
     "iopub.status.idle": "2024-04-13T19:44:55.798695Z",
     "shell.execute_reply": "2024-04-13T19:44:55.797074Z",
     "shell.execute_reply.started": "2024-04-13T19:44:55.773002Z"
    }
   },
   "outputs": [],
   "source": [
    "C =  torch.randn((universe_of_dataset, no_of_dim_of_a_character), generator=g)\n",
    "\n",
    "embedding = C[X]\n",
    "\n",
    "parameters = [C, W1, b1, W2, b2]"
   ]
  },
  {
   "cell_type": "code",
   "execution_count": 371,
   "id": "0bc526a2-7893-4fd8-9498-52d3e2512583",
   "metadata": {
    "execution": {
     "iopub.execute_input": "2024-04-13T19:44:58.496149Z",
     "iopub.status.busy": "2024-04-13T19:44:58.495858Z",
     "iopub.status.idle": "2024-04-13T19:44:58.499279Z",
     "shell.execute_reply": "2024-04-13T19:44:58.498578Z",
     "shell.execute_reply.started": "2024-04-13T19:44:58.496126Z"
    }
   },
   "outputs": [],
   "source": [
    "dim_of_each_character = embedding.shape[-1]\n",
    "input_layer_nodes = input_characters * dim_of_each_character"
   ]
  },
  {
   "cell_type": "code",
   "execution_count": 332,
   "id": "6382f4a8-7648-45e5-bef7-b95821c33d4f",
   "metadata": {
    "execution": {
     "iopub.execute_input": "2024-04-13T19:21:59.152456Z",
     "iopub.status.busy": "2024-04-13T19:21:59.152096Z",
     "iopub.status.idle": "2024-04-13T19:21:59.617508Z",
     "shell.execute_reply": "2024-04-13T19:21:59.615842Z",
     "shell.execute_reply.started": "2024-04-13T19:21:59.152427Z"
    }
   },
   "outputs": [
    {
     "data": {
      "image/png": "[encoded data removed]",
      "text/plain": [
       "<Figure size 800x800 with 1 Axes>"
      ]
     },
     "metadata": {},
     "output_type": "display_data"
    }
   ],
   "source": [
    "plt.figure(figsize=(8, 8))\n",
    "plt.scatter(C[:, 0].data, C[:, 1].data, s=200)\n",
    "for i in range(C.shape[0]):\n",
    "    plt.text(\n",
    "        C[i, 0].item(),\n",
    "        C[i, 1].item(),\n",
    "        index_to_char[i],\n",
    "        ha='center',\n",
    "        va='center',\n",
    "        color='white'\n",
    "    )\n",
    "plt.grid('minor')"
   ]
  },
  {
   "cell_type": "code",
   "execution_count": 362,
   "id": "cbc35d89-600d-4264-ade7-023da6c76698",
   "metadata": {
    "execution": {
     "iopub.execute_input": "2024-04-13T19:42:48.584044Z",
     "iopub.status.busy": "2024-04-13T19:42:48.583737Z",
     "iopub.status.idle": "2024-04-13T19:42:48.588678Z",
     "shell.execute_reply": "2024-04-13T19:42:48.587985Z",
     "shell.execute_reply.started": "2024-04-13T19:42:48.584019Z"
    }
   },
   "outputs": [
    {
     "data": {
      "text/plain": [
       "10497"
      ]
     },
     "execution_count": 362,
     "metadata": {},
     "output_type": "execute_result"
    }
   ],
   "source": [
    "sum(p.nelement() for p in parameters)  # Number of parameters in total"
   ]
  },
  {
   "cell_type": "code",
   "execution_count": 372,
   "id": "cc631cac-fc0d-4349-9c8b-cba4a4bceee1",
   "metadata": {
    "execution": {
     "iopub.execute_input": "2024-04-13T19:45:02.144667Z",
     "iopub.status.busy": "2024-04-13T19:45:02.144356Z",
     "iopub.status.idle": "2024-04-13T19:45:02.181004Z",
     "shell.execute_reply": "2024-04-13T19:45:02.179056Z",
     "shell.execute_reply.started": "2024-04-13T19:45:02.144643Z"
    }
   },
   "outputs": [
    {
     "data": {
      "text/plain": [
       "torch.Size([228146, 3, 10])"
      ]
     },
     "execution_count": 372,
     "metadata": {},
     "output_type": "execute_result"
    }
   ],
   "source": [
    "embedding.shape"
   ]
  },
  {
   "cell_type": "code",
   "execution_count": 373,
   "id": "25b7577e-83e0-4d8c-9bb7-46662b608a6b",
   "metadata": {
    "execution": {
     "iopub.execute_input": "2024-04-13T19:45:15.499721Z",
     "iopub.status.busy": "2024-04-13T19:45:15.499169Z",
     "iopub.status.idle": "2024-04-13T19:45:15.505067Z",
     "shell.execute_reply": "2024-04-13T19:45:15.504240Z",
     "shell.execute_reply.started": "2024-04-13T19:45:15.499694Z"
    }
   },
   "outputs": [
    {
     "data": {
      "text/plain": [
       "(torch.Size([32, 30]), torch.Size([30, 300]))"
      ]
     },
     "execution_count": 373,
     "metadata": {},
     "output_type": "execute_result"
    }
   ],
   "source": [
    "h.shape, W1.shape"
   ]
  },
  {
   "cell_type": "code",
   "execution_count": 374,
   "id": "a32f98f0-a5b1-4718-bb47-a67ed1d5a6ef",
   "metadata": {
    "execution": {
     "iopub.execute_input": "2024-04-13T19:46:03.194530Z",
     "iopub.status.busy": "2024-04-13T19:46:03.194223Z",
     "iopub.status.idle": "2024-04-13T19:46:03.198419Z",
     "shell.execute_reply": "2024-04-13T19:46:03.197372Z",
     "shell.execute_reply.started": "2024-04-13T19:46:03.194506Z"
    }
   },
   "outputs": [],
   "source": [
    "for p in parameters:\n",
    "    p.requires_grad = True"
   ]
  },
  {
   "cell_type": "code",
   "execution_count": 376,
   "id": "f12d1ca3-1367-49fc-b61a-81edcc2b72d7",
   "metadata": {
    "execution": {
     "iopub.execute_input": "2024-04-13T19:46:36.510083Z",
     "iopub.status.busy": "2024-04-13T19:46:36.509775Z",
     "iopub.status.idle": "2024-04-13T19:46:59.651573Z",
     "shell.execute_reply": "2024-04-13T19:46:59.650839Z",
     "shell.execute_reply.started": "2024-04-13T19:46:36.510060Z"
    },
    "scrolled": true
   },
   "outputs": [
    {
     "name": "stdout",
     "output_type": "stream",
     "text": [
      "[+] Epoc: 0     | lr: 0.05  | Loss: 2.2264\n",
      "[+] Epoc: 5000  | lr: 0.05  | Loss: 2.4845\n",
      "[+] Epoc: 10000 | lr: 0.025 | Loss: 2.0825\n",
      "[+] Epoc: 15000 | lr: 0.025 | Loss: 2.0277\n",
      "[+] Epoc: 20000 | lr: 0.0125 | Loss: 2.011\n",
      "[+] Epoc: 25000 | lr: 0.0125 | Loss: 2.7406\n",
      "[+] Epoc: 30000 | lr: 0.0063 | Loss: 2.2362\n",
      "[+] Epoc: 35000 | lr: 0.0063 | Loss: 2.1868\n",
      "[+] Epoc: 40000 | lr: 0.0031 | Loss: 2.1829\n",
      "[+] Epoc: 45000 | lr: 0.0031 | Loss: 2.4066\n",
      "[+] Epoc: 50000 | lr: 0.0016 | Loss: 2.0889\n"
     ]
    }
   ],
   "source": [
    "no_of_epoc = 50_001\n",
    "lr = 0.1\n",
    "\n",
    "track_loss, track_steps = [], []\n",
    "\n",
    "for epoc in range(no_of_epoc):\n",
    "\n",
    "    # MINI-BATCH CONSTRUCT\n",
    "    ix = torch.randint(0, X_train.shape[0], (32,))\n",
    "\n",
    "    # FORWARD PASS\n",
    "    embedding = C[X_train[ix]]\n",
    "    h = embedding.reshape(-1, input_layer_nodes)\n",
    "    h = torch.tanh(h @ W1 + b1)\n",
    "    logits = h @ W2 + b2\n",
    "    loss = F.cross_entropy(logits, Y_train[ix])\n",
    "    \n",
    "    \n",
    "    # BACKWARD PASS\n",
    "    for p in parameters:\n",
    "        p.grad = None\n",
    "    \n",
    "    loss.backward()\n",
    "\n",
    "    if epoc%10_000==0:\n",
    "        lr /= 2\n",
    "        \n",
    "    for p in parameters:\n",
    "        p.data += -lr * p.grad\n",
    "\n",
    "    # TRACKING\n",
    "    track_loss.append(loss.log10().item())\n",
    "    track_steps.append(epoc)\n",
    "    \n",
    "    if epoc%5000==0:\n",
    "        print(f'[+] Epoc: {epoc:<5} | lr: {round(lr, 4):<5} | Loss: {round(loss.item(), 4)}')\n",
    "\n",
    "# print(f'\\n[+] LOSS: {loss.item()}')"
   ]
  },
  {
   "cell_type": "code",
   "execution_count": 336,
   "id": "0e62d361-8b1e-4882-a18f-b0c0848cba98",
   "metadata": {
    "execution": {
     "iopub.execute_input": "2024-04-13T19:22:57.280699Z",
     "iopub.status.busy": "2024-04-13T19:22:57.280338Z",
     "iopub.status.idle": "2024-04-13T19:22:57.508837Z",
     "shell.execute_reply": "2024-04-13T19:22:57.508196Z",
     "shell.execute_reply.started": "2024-04-13T19:22:57.280673Z"
    }
   },
   "outputs": [
    {
     "data": {
      "text/plain": [
       "[<matplotlib.lines.Line2D at 0x1336cddd0>]"
      ]
     },
     "execution_count": 336,
     "metadata": {},
     "output_type": "execute_result"
    },
    {
     "data": {
      "image/png": "[encoded data removed]",
      "text/plain": [
       "<Figure size 640x480 with 1 Axes>"
      ]
     },
     "metadata": {},
     "output_type": "display_data"
    }
   ],
   "source": [
    "plt.plot(track_steps, track_loss)"
   ]
  },
  {
   "cell_type": "code",
   "execution_count": 377,
   "id": "1f83a074-b4d1-40aa-8095-82185ba14c6f",
   "metadata": {
    "execution": {
     "iopub.execute_input": "2024-04-13T19:47:17.105371Z",
     "iopub.status.busy": "2024-04-13T19:47:17.105053Z",
     "iopub.status.idle": "2024-04-13T19:47:17.208550Z",
     "shell.execute_reply": "2024-04-13T19:47:17.206472Z",
     "shell.execute_reply.started": "2024-04-13T19:47:17.105348Z"
    }
   },
   "outputs": [
    {
     "data": {
      "text/plain": [
       "2.239835500717163"
      ]
     },
     "execution_count": 377,
     "metadata": {},
     "output_type": "execute_result"
    }
   ],
   "source": [
    "# Loss on Validation set\n",
    "\n",
    "embedding = C[X_validation]\n",
    "h = embedding.reshape(-1, input_layer_nodes)\n",
    "h = torch.tanh(h @ W1 + b1)\n",
    "logits = h @ W2 + b2\n",
    "loss = F.cross_entropy(logits, Y_validation)\n",
    "loss.item()"
   ]
  },
  {
   "cell_type": "code",
   "execution_count": 378,
   "id": "9b9cfe5d-78d1-4200-9c45-56b758ce5f4c",
   "metadata": {
    "execution": {
     "iopub.execute_input": "2024-04-13T19:47:19.051949Z",
     "iopub.status.busy": "2024-04-13T19:47:19.051651Z",
     "iopub.status.idle": "2024-04-13T19:47:19.689026Z",
     "shell.execute_reply": "2024-04-13T19:47:19.687635Z",
     "shell.execute_reply.started": "2024-04-13T19:47:19.051926Z"
    }
   },
   "outputs": [
    {
     "data": {
      "text/plain": [
       "2.2239675521850586"
      ]
     },
     "execution_count": 378,
     "metadata": {},
     "output_type": "execute_result"
    }
   ],
   "source": [
    "# Loss on Train set\n",
    "\n",
    "embedding = C[X_train]\n",
    "h = embedding.reshape(-1, input_layer_nodes)\n",
    "h = torch.tanh(h @ W1 + b1)\n",
    "logits = h @ W2 + b2\n",
    "loss = F.cross_entropy(logits, Y_train)\n",
    "loss.item()"
   ]
  },
  {
   "cell_type": "code",
   "execution_count": 379,
   "id": "d6205a26-2374-4744-b9d7-af20c8f5b8ba",
   "metadata": {
    "execution": {
     "iopub.execute_input": "2024-04-13T19:47:21.796782Z",
     "iopub.status.busy": "2024-04-13T19:47:21.796461Z",
     "iopub.status.idle": "2024-04-13T19:47:21.890669Z",
     "shell.execute_reply": "2024-04-13T19:47:21.889191Z",
     "shell.execute_reply.started": "2024-04-13T19:47:21.796757Z"
    }
   },
   "outputs": [
    {
     "data": {
      "text/plain": [
       "2.2441213130950928"
      ]
     },
     "execution_count": 379,
     "metadata": {},
     "output_type": "execute_result"
    }
   ],
   "source": [
    "# Loss on Test set\n",
    "\n",
    "embedding = C[X_test]\n",
    "h = embedding.reshape(-1, input_layer_nodes)\n",
    "h = torch.tanh(h @ W1 + b1)\n",
    "logits = h @ W2 + b2\n",
    "loss = F.cross_entropy(logits, Y_test)\n",
    "loss.item()"
   ]
  },
  {
   "cell_type": "markdown",
   "id": "9359c96a-dbd9-4e72-ab14-12d2a5159f65",
   "metadata": {},
   "source": [
    "### Visualising character embedding "
   ]
  },
  {
   "cell_type": "code",
   "execution_count": 342,
   "id": "af32fb98-6fc5-4ca2-89e5-b905b054bc75",
   "metadata": {
    "execution": {
     "iopub.execute_input": "2024-04-13T19:24:47.448228Z",
     "iopub.status.busy": "2024-04-13T19:24:47.447928Z",
     "iopub.status.idle": "2024-04-13T19:24:47.790026Z",
     "shell.execute_reply": "2024-04-13T19:24:47.788676Z",
     "shell.execute_reply.started": "2024-04-13T19:24:47.448205Z"
    }
   },
   "outputs": [
    {
     "data": {
      "image/png": "[encoded data removed]",
      "text/plain": [
       "<Figure size 800x800 with 1 Axes>"
      ]
     },
     "metadata": {},
     "output_type": "display_data"
    }
   ],
   "source": [
    "plt.figure(figsize=(8, 8))\n",
    "plt.scatter(C[:, 0].data, C[:, 1].data, s=300)\n",
    "for i in range(C.shape[0]):\n",
    "    plt.text(\n",
    "        C[i, 0].item(),\n",
    "        C[i, 1].item(),\n",
    "        index_to_char[i],\n",
    "        ha='center',\n",
    "        va='center',\n",
    "        color='white'\n",
    "    )\n",
    "plt.grid('minor')"
   ]
  },
  {
   "cell_type": "markdown",
   "id": "7bfe05f9-8c13-49b2-ba40-5ff11076cb2c",
   "metadata": {},
   "source": [
    "## Sample from the model"
   ]
  },
  {
   "cell_type": "code",
   "execution_count": 381,
   "id": "c9cb5359-e6f1-4b68-8604-cd10ee078b61",
   "metadata": {
    "execution": {
     "iopub.execute_input": "2024-04-13T19:56:07.723023Z",
     "iopub.status.busy": "2024-04-13T19:56:07.722721Z",
     "iopub.status.idle": "2024-04-13T19:56:07.791157Z",
     "shell.execute_reply": "2024-04-13T19:56:07.790266Z",
     "shell.execute_reply.started": "2024-04-13T19:56:07.723000Z"
    }
   },
   "outputs": [
    {
     "name": "stdout",
     "output_type": "stream",
     "text": [
      "[+] mora.\n",
      "[+] mayan.\n",
      "[+] see.\n",
      "[+] med.\n",
      "[+] ryla.\n",
      "[+] rethrstendrari.\n",
      "[+] aderedielii.\n",
      "[+] shi.\n",
      "[+] jen.\n",
      "[+] edeighan.\n",
      "[+] naraylyn.\n",
      "[+] malte.\n",
      "[+] ciosaubrigshimiel.\n",
      "[+] jenir.\n",
      "[+] jelipanterorius.\n",
      "[+] macder.\n",
      "[+] yaruimehsyn.\n",
      "[+] ajaysenyan.\n",
      "[+] halisa.\n",
      "[+] yansuf.\n"
     ]
    }
   ],
   "source": [
    "g = torch.Generator().manual_seed(2147483647 + 10)  # For reproducibility\n",
    "\n",
    "for _ in range(20):\n",
    "    out = []\n",
    "    context = [0]*block_size  # initialize with \"...\"\n",
    "    \n",
    "    while True:\n",
    "        emb = C[torch.tensor([context])]  # (1, block_size, d)\n",
    "        h = torch.tanh(emb.reshape(1, -1) @ W1 + b1)\n",
    "        logits = h @ W2 + b2\n",
    "        probs = F.softmax(logits, dim=1)\n",
    "        ix = torch.multinomial(probs, num_samples=1, generator=g).item()\n",
    "        context = context[1:] + [ix]\n",
    "        out.append(ix)\n",
    "\n",
    "        if ix == 0:\n",
    "            break\n",
    "\n",
    "    print(f'[+] {\"\".join(index_to_char[i] for i in out)}')"
   ]
  },
  {
   "cell_type": "code",
   "execution_count": null,
   "id": "6e7c35d4-0cad-4dec-ba44-d339c2d7e3a7",
   "metadata": {},
   "outputs": [],
   "source": []
  },
  {
   "cell_type": "code",
   "execution_count": null,
   "id": "df08aa83-bd07-4c66-a3b9-d425822bbda9",
   "metadata": {},
   "outputs": [],
   "source": []
  },
  {
   "cell_type": "code",
   "execution_count": null,
   "id": "598ae544-716f-4abe-8e94-9873142ed4fa",
   "metadata": {},
   "outputs": [],
   "source": []
  }
 ],
 "metadata": {
  "kernelspec": {
   "display_name": "gpt_dev",
   "language": "python",
   "name": "gpt_dev"
  },
  "language_info": {
   "codemirror_mode": {
    "name": "ipython",
    "version": 3
   },
   "file_extension": ".py",
   "mimetype": "text/x-python",
   "name": "python",
   "nbconvert_exporter": "python",
   "pygments_lexer": "ipython3",
   "version": "3.11.8"
  }
 },
 "nbformat": 4,
 "nbformat_minor": 5
}
