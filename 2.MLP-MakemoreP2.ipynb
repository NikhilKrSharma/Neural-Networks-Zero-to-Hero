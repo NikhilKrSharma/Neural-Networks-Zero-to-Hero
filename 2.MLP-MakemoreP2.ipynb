{
 "cells": [
  {
   "cell_type": "markdown",
   "id": "4ab24a36-9a22-4fce-8da8-3a53554c12c0",
   "metadata": {},
   "source": [
    "# [Character Level - Multi Layer Perceptron (MLP) Model](https://youtu.be/TCH_1BHY58I?list=PLAqhIrjkxbuWI23v9cThsA9GvCAUhRvKZ)"
   ]
  },
  {
   "cell_type": "markdown",
   "id": "70ea40f7-b411-4fe0-bce0-9dad23973cba",
   "metadata": {},
   "source": [
    "## Import"
   ]
  },
  {
   "cell_type": "code",
   "execution_count": 1,
   "id": "f22ab868-338b-4901-918e-3a182e18a140",
   "metadata": {
    "execution": {
     "iopub.execute_input": "2024-04-20T15:31:16.887950Z",
     "iopub.status.busy": "2024-04-20T15:31:16.887218Z",
     "iopub.status.idle": "2024-04-20T15:31:19.954260Z",
     "shell.execute_reply": "2024-04-20T15:31:19.953588Z",
     "shell.execute_reply.started": "2024-04-20T15:31:16.887908Z"
    }
   },
   "outputs": [],
   "source": [
    "import torch\n",
    "import torch.nn.functional as F\n",
    "\n",
    "import random\n",
    "\n",
    "import matplotlib.pyplot as plt\n",
    "%matplotlib inline"
   ]
  },
  {
   "cell_type": "markdown",
   "id": "c49c02e5-b45c-4cfd-8537-f07de0422d35",
   "metadata": {},
   "source": [
    "## Reading the data & character lookup tables"
   ]
  },
  {
   "cell_type": "code",
   "execution_count": 2,
   "id": "68e3cbd8-085b-445b-9133-e3bccb040645",
   "metadata": {
    "execution": {
     "iopub.execute_input": "2024-04-20T15:31:20.008169Z",
     "iopub.status.busy": "2024-04-20T15:31:20.007782Z",
     "iopub.status.idle": "2024-04-20T15:31:20.036384Z",
     "shell.execute_reply": "2024-04-20T15:31:20.035768Z",
     "shell.execute_reply.started": "2024-04-20T15:31:20.008145Z"
    }
   },
   "outputs": [
    {
     "name": "stdout",
     "output_type": "stream",
     "text": [
      "[+] Sample words: ['emma', 'olivia', 'ava']\n",
      "\n",
      "[+] Count of names : 32033\n",
      "[+] Minimum num of letter in a name [an] : 2\n",
      "[+] Maximum num of letter in a name [muhammadibrahim] : 15\n"
     ]
    }
   ],
   "source": [
    "with open('./data/names_makemore.txt', 'r') as f:\n",
    "    words = f.readlines()\n",
    "    words = [name.strip() for name in words]\n",
    "\n",
    "print(f'[+] Sample words: {words[:3]}')\n",
    "print(f'''\n",
    "[+] Count of names : {len(words)}\n",
    "[+] Minimum num of letter in a name [{words[[len(w) for w in words].index(min([len(w) for w in words]))]}] : {min(len(w) for w in words)}\n",
    "[+] Maximum num of letter in a name [{words[[len(w) for w in words].index(max([len(w) for w in words]))]}] : {max(len(w) for w in words)}''')"
   ]
  },
  {
   "cell_type": "code",
   "execution_count": 3,
   "id": "620989e0-a9c6-486f-bc83-de0718ced2d7",
   "metadata": {
    "execution": {
     "iopub.execute_input": "2024-04-20T15:31:20.047896Z",
     "iopub.status.busy": "2024-04-20T15:31:20.047595Z",
     "iopub.status.idle": "2024-04-20T15:31:20.055131Z",
     "shell.execute_reply": "2024-04-20T15:31:20.054569Z",
     "shell.execute_reply.started": "2024-04-20T15:31:20.047874Z"
    }
   },
   "outputs": [
    {
     "name": "stdout",
     "output_type": "stream",
     "text": [
      "char_to_index={'a': 1, 'b': 2, 'c': 3, 'd': 4, 'e': 5, 'f': 6, 'g': 7, 'h': 8, 'i': 9, 'j': 10, 'k': 11, 'l': 12, 'm': 13, 'n': 14, 'o': 15, 'p': 16, 'q': 17, 'r': 18, 's': 19, 't': 20, 'u': 21, 'v': 22, 'w': 23, 'x': 24, 'y': 25, 'z': 26, '.': 0}\n",
      "\n",
      "index_to_char={1: 'a', 2: 'b', 3: 'c', 4: 'd', 5: 'e', 6: 'f', 7: 'g', 8: 'h', 9: 'i', 10: 'j', 11: 'k', 12: 'l', 13: 'm', 14: 'n', 15: 'o', 16: 'p', 17: 'q', 18: 'r', 19: 's', 20: 't', 21: 'u', 22: 'v', 23: 'w', 24: 'x', 25: 'y', 26: 'z', 0: '.'}\n"
     ]
    }
   ],
   "source": [
    "chars = sorted(list(set(''.join(words))))\n",
    "\n",
    "char_to_index = {s:i+1 for i, s in enumerate(chars)}\n",
    "char_to_index['.'] = 0\n",
    "\n",
    "index_to_char = {i:s for s, i in char_to_index.items()}\n",
    "\n",
    "print(f'{char_to_index=}')\n",
    "print()\n",
    "print(f'{index_to_char=}')"
   ]
  },
  {
   "cell_type": "code",
   "execution_count": 4,
   "id": "6a6e3fb5-72b0-4d0b-bf2b-cd917cb80ffd",
   "metadata": {
    "execution": {
     "iopub.execute_input": "2024-04-20T15:31:21.617021Z",
     "iopub.status.busy": "2024-04-20T15:31:21.616728Z",
     "iopub.status.idle": "2024-04-20T15:31:21.622036Z",
     "shell.execute_reply": "2024-04-20T15:31:21.621221Z",
     "shell.execute_reply.started": "2024-04-20T15:31:21.616999Z"
    }
   },
   "outputs": [
    {
     "data": {
      "text/plain": [
       "27"
      ]
     },
     "execution_count": 4,
     "metadata": {},
     "output_type": "execute_result"
    }
   ],
   "source": [
    "# Number of elenemts in the Universe of our model\n",
    "\n",
    "dim = len(char_to_index.keys())\n",
    "dim"
   ]
  },
  {
   "cell_type": "markdown",
   "id": "3eacf853-caa5-4b67-ae7c-8cdd03b99c32",
   "metadata": {},
   "source": [
    "## Create dataset for the model"
   ]
  },
  {
   "cell_type": "code",
   "execution_count": 5,
   "id": "b20ae8e4-0a6e-4e95-a24c-0c070e3c6c52",
   "metadata": {
    "execution": {
     "iopub.execute_input": "2024-04-20T15:31:34.396047Z",
     "iopub.status.busy": "2024-04-20T15:31:34.395751Z",
     "iopub.status.idle": "2024-04-20T15:31:34.400576Z",
     "shell.execute_reply": "2024-04-20T15:31:34.399946Z",
     "shell.execute_reply.started": "2024-04-20T15:31:34.396025Z"
    }
   },
   "outputs": [
    {
     "data": {
      "text/plain": [
       "['emma', 'olivia', 'ava']"
      ]
     },
     "execution_count": 5,
     "metadata": {},
     "output_type": "execute_result"
    }
   ],
   "source": [
    "words[:3]"
   ]
  },
  {
   "cell_type": "code",
   "execution_count": 6,
   "id": "0bffb757-54fd-4239-aa3f-4b7a7d7b50b5",
   "metadata": {
    "execution": {
     "iopub.execute_input": "2024-04-20T15:31:34.615890Z",
     "iopub.status.busy": "2024-04-20T15:31:34.615580Z",
     "iopub.status.idle": "2024-04-20T15:31:35.157250Z",
     "shell.execute_reply": "2024-04-20T15:31:35.156059Z",
     "shell.execute_reply.started": "2024-04-20T15:31:34.615865Z"
    }
   },
   "outputs": [],
   "source": [
    "# Context length: How many characters do we take to predict the next one?\n",
    "block_size = 3\n",
    "\n",
    "X, Y = [], []\n",
    "\n",
    "verbose = False\n",
    "for word in words:\n",
    "\n",
    "    context = [0] * block_size\n",
    "\n",
    "    if verbose: print(f'\\n[+] Target word: {word} | Context: {context}')\n",
    "\n",
    "    for char in word + '.':\n",
    "        ix = char_to_index[char]\n",
    "        X.append(context)\n",
    "        Y.append(ix)\n",
    "        \n",
    "        if verbose: \n",
    "            print('\\t', ''.join(index_to_char[i] for i in context), '--->', index_to_char[ix], f' [{ix=}] ', f'\\tNew Context: {context}')\n",
    "\n",
    "        context = context[1:] + [ix]  # crop and append\n",
    "\n",
    "X = torch.tensor(X)\n",
    "Y = torch.tensor(Y)"
   ]
  },
  {
   "cell_type": "code",
   "execution_count": 7,
   "id": "dc4e2de0-c960-43d1-ae2d-662246b6493d",
   "metadata": {
    "execution": {
     "iopub.execute_input": "2024-04-20T15:31:35.330516Z",
     "iopub.status.busy": "2024-04-20T15:31:35.330218Z",
     "iopub.status.idle": "2024-04-20T15:31:35.335185Z",
     "shell.execute_reply": "2024-04-20T15:31:35.334479Z",
     "shell.execute_reply.started": "2024-04-20T15:31:35.330493Z"
    }
   },
   "outputs": [
    {
     "data": {
      "text/plain": [
       "(torch.Size([228146, 3]), torch.Size([228146]))"
      ]
     },
     "execution_count": 7,
     "metadata": {},
     "output_type": "execute_result"
    }
   ],
   "source": [
    "X.shape, Y.shape"
   ]
  },
  {
   "cell_type": "code",
   "execution_count": 8,
   "id": "4483b5f4-1603-4a3d-9b57-08596dda5c85",
   "metadata": {
    "execution": {
     "iopub.execute_input": "2024-04-20T15:31:35.619011Z",
     "iopub.status.busy": "2024-04-20T15:31:35.618706Z",
     "iopub.status.idle": "2024-04-20T15:31:35.624164Z",
     "shell.execute_reply": "2024-04-20T15:31:35.623470Z",
     "shell.execute_reply.started": "2024-04-20T15:31:35.618987Z"
    },
    "scrolled": true
   },
   "outputs": [
    {
     "data": {
      "text/plain": [
       "tensor([[ 0,  0,  0],\n",
       "        [ 0,  0,  5],\n",
       "        [ 0,  5, 13],\n",
       "        ...,\n",
       "        [26, 26, 25],\n",
       "        [26, 25, 26],\n",
       "        [25, 26, 24]])"
      ]
     },
     "execution_count": 8,
     "metadata": {},
     "output_type": "execute_result"
    }
   ],
   "source": [
    "X"
   ]
  },
  {
   "cell_type": "code",
   "execution_count": 9,
   "id": "ba0904c4-0dc0-421b-9cb5-5d872c2875ad",
   "metadata": {
    "execution": {
     "iopub.execute_input": "2024-04-20T15:31:35.851547Z",
     "iopub.status.busy": "2024-04-20T15:31:35.851201Z",
     "iopub.status.idle": "2024-04-20T15:31:35.857125Z",
     "shell.execute_reply": "2024-04-20T15:31:35.856376Z",
     "shell.execute_reply.started": "2024-04-20T15:31:35.851520Z"
    }
   },
   "outputs": [
    {
     "data": {
      "text/plain": [
       "tensor([ 5, 13, 13,  ..., 26, 24,  0])"
      ]
     },
     "execution_count": 9,
     "metadata": {},
     "output_type": "execute_result"
    }
   ],
   "source": [
    "Y"
   ]
  },
  {
   "cell_type": "code",
   "execution_count": 10,
   "id": "d3381149-83c6-4785-a285-acb879f6a472",
   "metadata": {
    "execution": {
     "iopub.execute_input": "2024-04-20T15:31:36.066842Z",
     "iopub.status.busy": "2024-04-20T15:31:36.066506Z",
     "iopub.status.idle": "2024-04-20T15:31:36.071039Z",
     "shell.execute_reply": "2024-04-20T15:31:36.070370Z",
     "shell.execute_reply.started": "2024-04-20T15:31:36.066816Z"
    }
   },
   "outputs": [
    {
     "name": "stdout",
     "output_type": "stream",
     "text": [
      "[+] Number of training samples: 228146\n"
     ]
    }
   ],
   "source": [
    "number_of_training_samples = X.shape[0]\n",
    "print(f'[+] Number of training samples: {number_of_training_samples}')"
   ]
  },
  {
   "cell_type": "code",
   "execution_count": 11,
   "id": "29d5df1b-cd65-44e4-9af4-ea9404136f60",
   "metadata": {
    "execution": {
     "iopub.execute_input": "2024-04-20T15:31:36.305917Z",
     "iopub.status.busy": "2024-04-20T15:31:36.305626Z",
     "iopub.status.idle": "2024-04-20T15:31:36.309752Z",
     "shell.execute_reply": "2024-04-20T15:31:36.308996Z",
     "shell.execute_reply.started": "2024-04-20T15:31:36.305893Z"
    }
   },
   "outputs": [
    {
     "name": "stdout",
     "output_type": "stream",
     "text": [
      "[+] Count of all the characters in our dataset: 27\n"
     ]
    }
   ],
   "source": [
    "print(f'[+] Count of all the characters in our dataset: {dim}')\n",
    "\n",
    "# Lookup Table [Embedding] for our 27 characters in the dataset\n",
    "# 2 dimentional Embedding\n",
    "C =  torch.randn((dim, 2))"
   ]
  },
  {
   "cell_type": "code",
   "execution_count": 12,
   "id": "4c025d40-360f-4893-8570-315ff36506f7",
   "metadata": {
    "execution": {
     "iopub.execute_input": "2024-04-20T15:31:36.627482Z",
     "iopub.status.busy": "2024-04-20T15:31:36.627202Z",
     "iopub.status.idle": "2024-04-20T15:31:36.632112Z",
     "shell.execute_reply": "2024-04-20T15:31:36.631264Z",
     "shell.execute_reply.started": "2024-04-20T15:31:36.627461Z"
    },
    "scrolled": true
   },
   "outputs": [
    {
     "data": {
      "text/plain": [
       "torch.Size([27, 2])"
      ]
     },
     "execution_count": 12,
     "metadata": {},
     "output_type": "execute_result"
    }
   ],
   "source": [
    "C.shape"
   ]
  },
  {
   "cell_type": "code",
   "execution_count": 13,
   "id": "48c6c564-bc15-4a81-ae6f-a22a2164bce4",
   "metadata": {
    "execution": {
     "iopub.execute_input": "2024-04-20T15:31:37.030700Z",
     "iopub.status.busy": "2024-04-20T15:31:37.030409Z",
     "iopub.status.idle": "2024-04-20T15:31:37.035993Z",
     "shell.execute_reply": "2024-04-20T15:31:37.035363Z",
     "shell.execute_reply.started": "2024-04-20T15:31:37.030678Z"
    }
   },
   "outputs": [
    {
     "data": {
      "text/plain": [
       "tensor([[-0.3491,  0.4474],\n",
       "        [ 0.3041, -0.9160],\n",
       "        [ 0.0627, -0.0548]])"
      ]
     },
     "execution_count": 13,
     "metadata": {},
     "output_type": "execute_result"
    }
   ],
   "source": [
    "C[:3]"
   ]
  },
  {
   "cell_type": "code",
   "execution_count": 14,
   "id": "ec6030d0-038e-4b95-93b0-76807e6c8377",
   "metadata": {
    "execution": {
     "iopub.execute_input": "2024-04-20T15:31:37.672391Z",
     "iopub.status.busy": "2024-04-20T15:31:37.672097Z",
     "iopub.status.idle": "2024-04-20T15:31:37.676814Z",
     "shell.execute_reply": "2024-04-20T15:31:37.676082Z",
     "shell.execute_reply.started": "2024-04-20T15:31:37.672369Z"
    }
   },
   "outputs": [
    {
     "data": {
      "text/plain": [
       "torch.Size([228146, 3])"
      ]
     },
     "execution_count": 14,
     "metadata": {},
     "output_type": "execute_result"
    }
   ],
   "source": [
    "X.shape"
   ]
  },
  {
   "cell_type": "code",
   "execution_count": 15,
   "id": "02acd208-c90b-4b7e-a685-77a83f8946ff",
   "metadata": {
    "execution": {
     "iopub.execute_input": "2024-04-20T15:31:37.955975Z",
     "iopub.status.busy": "2024-04-20T15:31:37.955664Z",
     "iopub.status.idle": "2024-04-20T15:31:37.961063Z",
     "shell.execute_reply": "2024-04-20T15:31:37.960255Z",
     "shell.execute_reply.started": "2024-04-20T15:31:37.955950Z"
    }
   },
   "outputs": [
    {
     "data": {
      "text/plain": [
       "tensor([[ 0,  0,  0],\n",
       "        [ 0,  0,  5],\n",
       "        [ 0,  5, 13]])"
      ]
     },
     "execution_count": 15,
     "metadata": {},
     "output_type": "execute_result"
    }
   ],
   "source": [
    "X[:3]"
   ]
  },
  {
   "cell_type": "code",
   "execution_count": 16,
   "id": "68ef1afc-52d2-44a7-812b-e76d092e496a",
   "metadata": {
    "execution": {
     "iopub.execute_input": "2024-04-20T15:31:38.543911Z",
     "iopub.status.busy": "2024-04-20T15:31:38.543608Z",
     "iopub.status.idle": "2024-04-20T15:31:38.551129Z",
     "shell.execute_reply": "2024-04-20T15:31:38.550254Z",
     "shell.execute_reply.started": "2024-04-20T15:31:38.543887Z"
    }
   },
   "outputs": [],
   "source": [
    "# Embedding all the characters with the lookup table\n",
    "\n",
    "embedding = C[X]"
   ]
  },
  {
   "cell_type": "code",
   "execution_count": 17,
   "id": "7d810007-2295-4c51-874f-f1ed85a92dc2",
   "metadata": {
    "execution": {
     "iopub.execute_input": "2024-04-20T15:31:40.314803Z",
     "iopub.status.busy": "2024-04-20T15:31:40.314514Z",
     "iopub.status.idle": "2024-04-20T15:31:40.319377Z",
     "shell.execute_reply": "2024-04-20T15:31:40.318514Z",
     "shell.execute_reply.started": "2024-04-20T15:31:40.314780Z"
    }
   },
   "outputs": [
    {
     "data": {
      "text/plain": [
       "torch.Size([228146, 3, 2])"
      ]
     },
     "execution_count": 17,
     "metadata": {},
     "output_type": "execute_result"
    }
   ],
   "source": [
    "embedding.shape"
   ]
  },
  {
   "cell_type": "code",
   "execution_count": 18,
   "id": "bcfc9bc5-f7d6-4fb0-ba8d-e4caa08758a3",
   "metadata": {
    "execution": {
     "iopub.execute_input": "2024-04-20T15:31:40.556841Z",
     "iopub.status.busy": "2024-04-20T15:31:40.556545Z",
     "iopub.status.idle": "2024-04-20T15:31:40.562233Z",
     "shell.execute_reply": "2024-04-20T15:31:40.561661Z",
     "shell.execute_reply.started": "2024-04-20T15:31:40.556818Z"
    }
   },
   "outputs": [
    {
     "data": {
      "text/plain": [
       "tensor([[[-0.3491,  0.4474],\n",
       "         [-0.3491,  0.4474],\n",
       "         [-0.3491,  0.4474]],\n",
       "\n",
       "        [[-0.3491,  0.4474],\n",
       "         [-0.3491,  0.4474],\n",
       "         [-0.2673, -0.0570]],\n",
       "\n",
       "        [[-0.3491,  0.4474],\n",
       "         [-0.2673, -0.0570],\n",
       "         [ 0.7325,  1.2682]]])"
      ]
     },
     "execution_count": 18,
     "metadata": {},
     "output_type": "execute_result"
    }
   ],
   "source": [
    "embedding[:3]"
   ]
  },
  {
   "cell_type": "markdown",
   "id": "a85419c6-ae47-49e0-8a91-0fad7e28f86d",
   "metadata": {
    "jp-MarkdownHeadingCollapsed": true
   },
   "source": [
    "## Scratchpad"
   ]
  },
  {
   "cell_type": "code",
   "execution_count": null,
   "id": "4e85fd11-1401-4343-a61a-8b9765e1ea15",
   "metadata": {},
   "outputs": [],
   "source": [
    "indexing = torch.tensor([\n",
    "    [0,0,0],\n",
    "    [0,0,5]\n",
    "])\n",
    "indexing.shape"
   ]
  },
  {
   "cell_type": "code",
   "execution_count": null,
   "id": "4f8aebee-4937-416b-82dd-3c7886c4eff6",
   "metadata": {},
   "outputs": [],
   "source": [
    "C[indexing]"
   ]
  },
  {
   "cell_type": "code",
   "execution_count": null,
   "id": "6b2681ad-266d-4d84-a6d4-046208405de0",
   "metadata": {},
   "outputs": [],
   "source": [
    "embedding.shape"
   ]
  },
  {
   "cell_type": "code",
   "execution_count": null,
   "id": "a6cc3371-4ebc-4f67-b39c-506d62f9b179",
   "metadata": {},
   "outputs": [],
   "source": [
    "embedding[:3, :, :]"
   ]
  },
  {
   "cell_type": "code",
   "execution_count": null,
   "id": "05e8c26e-3073-4146-8208-b738b9cf1469",
   "metadata": {
    "scrolled": true
   },
   "outputs": [],
   "source": [
    "embedding[:3].reshape(-1, 6)"
   ]
  },
  {
   "cell_type": "code",
   "execution_count": null,
   "id": "b0e5aced-765f-49c4-9678-aef00540b1b1",
   "metadata": {},
   "outputs": [],
   "source": [
    "torch.cat(torch.unbind(embedding[:3], 1), 1)"
   ]
  },
  {
   "cell_type": "code",
   "execution_count": null,
   "id": "facdcba8-ed61-45cc-8349-52637dc8e791",
   "metadata": {},
   "outputs": [],
   "source": [
    "embedding[:3].view(3, input_layer_nodes)"
   ]
  },
  {
   "cell_type": "markdown",
   "id": "11656280-e711-441b-9774-766c8c48dcda",
   "metadata": {},
   "source": [
    "## Creating Neural Network Layer"
   ]
  },
  {
   "cell_type": "markdown",
   "id": "8466f628-07a4-4a43-8132-528552cb3b21",
   "metadata": {},
   "source": [
    "![Image Title](./images/nn_arc3.png)"
   ]
  },
  {
   "cell_type": "code",
   "execution_count": 20,
   "id": "7624883a-1994-407f-ad89-e4b4c0038f94",
   "metadata": {
    "execution": {
     "iopub.execute_input": "2024-04-20T09:38:03.242376Z",
     "iopub.status.busy": "2024-04-20T09:38:03.242050Z",
     "iopub.status.idle": "2024-04-20T09:38:03.247372Z",
     "shell.execute_reply": "2024-04-20T09:38:03.246666Z",
     "shell.execute_reply.started": "2024-04-20T09:38:03.242353Z"
    }
   },
   "outputs": [
    {
     "name": "stdout",
     "output_type": "stream",
     "text": [
      "[+] Count of input characters to the model   : 3\n",
      "[+] Dimension of each character              : 2\n",
      "[+] Count of input nodes of our model        : 6\n",
      "[+] Number of nodes in the first input layer : 100\n",
      "[+] Number of biases in the first input layer: 100\n"
     ]
    }
   ],
   "source": [
    "input_characters      = 3\n",
    "dim_of_each_character = embedding.shape[-1]\n",
    "input_layer_nodes     = input_characters * dim_of_each_character\n",
    "W1_neuron_count       = 100\n",
    "b1_count              = W1_neuron_count\n",
    "\n",
    "print(f'[+] Count of input characters to the model   : {input_characters}')\n",
    "print(f'[+] Dimension of each character              : {dim_of_each_character}')\n",
    "print(f'[+] Count of input nodes of our model        : {input_layer_nodes}')\n",
    "print(f'[+] Number of nodes in the first input layer : {W1_neuron_count}')\n",
    "print(f'[+] Number of biases in the first input layer: {b1_count}')"
   ]
  },
  {
   "cell_type": "code",
   "execution_count": 35,
   "id": "d8f2821e-acc2-4df4-849d-b4fdef56c92c",
   "metadata": {
    "collapsed": true,
    "execution": {
     "iopub.execute_input": "2024-04-20T14:58:18.851461Z",
     "iopub.status.busy": "2024-04-20T14:58:18.851077Z",
     "iopub.status.idle": "2024-04-20T14:58:18.858784Z",
     "shell.execute_reply": "2024-04-20T14:58:18.857875Z",
     "shell.execute_reply.started": "2024-04-20T14:58:18.851432Z"
    },
    "jupyter": {
     "outputs_hidden": true,
     "source_hidden": true
    }
   },
   "outputs": [
    {
     "name": "stdout",
     "output_type": "stream",
     "text": [
      "\n",
      "---------------------------------------------------------------------------------------------------------------------\n",
      "                                                    SUMMARY\n",
      "---------------------------------------------------------------------------------------------------------------------\n",
      "\n",
      "[+] Input characters from human perspective            = 3 [N, I, K]\n",
      "[+] Each character is encoded in 2 dim                 = [ N(0.1, 0.2),   I(0.3, 0.4),   K(0.5, 06) ]\n",
      "[+] Count of input nodes to the model                  = 3 * 2\n",
      "[+] Unpacked input values to the model                 = [ 0.1, 0.2, 0.3, 0.4, 0.5, 0.6 ]  # Also concatinated\n",
      "[+] Number of nodes in Layer 1                         = 100\n",
      "[+] Number of weight parameters (W)                    = 6 * 100 = 600 \n",
      "    - Each input node connecting to all the nodes in the the first layer of Neural Network\n",
      "    - Dimension of W1 would be (6, 100)\n",
      "[+] Each node has one bias also, count                 = 100\n",
      "\n",
      "[+] No of nodes in output layer                        = 27 (No of characters in our dataset for output prediction)\n",
      "[+] Number of weight parameters (W)                    = 100 * 27\n",
      "    - Each input node connecting to all the nodes in the output layer.\n",
      "    - Dimension of W2 would be (100, 27)\n",
      "[+] Each node in output layer has one bias also, count = 27\n",
      "\n"
     ]
    }
   ],
   "source": [
    "print('''\n",
    "---------------------------------------------------------------------------------------------------------------------\n",
    "                                                    SUMMARY\n",
    "---------------------------------------------------------------------------------------------------------------------\n",
    "\n",
    "[+] Input characters from human perspective            = 3 [N, I, K]\n",
    "[+] Each character is encoded in 2 dim                 = [ N(0.1, 0.2),   I(0.3, 0.4),   K(0.5, 06) ]\n",
    "[+] Count of input nodes to the model                  = 3 * 2\n",
    "[+] Unpacked input values to the model                 = [ 0.1, 0.2, 0.3, 0.4, 0.5, 0.6 ]  # Also concatinated\n",
    "[+] Number of nodes in Layer 1                         = 100\n",
    "[+] Number of weight parameters (W)                    = 6 * 100 = 600 \n",
    "    - Each input node connecting to all the nodes in the the first layer of Neural Network\n",
    "    - Dimension of W1 would be (6, 100)\n",
    "[+] Each node has one bias also, count                 = 100\n",
    "\n",
    "[+] No of nodes in output layer                        = 27 (No of characters in our dataset for output prediction)\n",
    "[+] Number of weight parameters (W)                    = 100 * 27\n",
    "    - Each input node connecting to all the nodes in the output layer.\n",
    "    - Dimension of W2 would be (100, 27)\n",
    "[+] Each node in output layer has one bias also, count = 27\n",
    "''')"
   ]
  },
  {
   "cell_type": "markdown",
   "id": "aff6aeb2-00eb-452c-97fc-d9ef40c200af",
   "metadata": {},
   "source": [
    "| SUMMARY WITH AN EXAMPLE | |\n",
    "| -------- | ------- |\n",
    "| Input characters from human perspective  | 3 [N, I, K] |\n",
    "| Each character is encoded in 2 dim | [ N(0.1, 0.2),   I(0.3, 0.4),   K(0.5, 06) ] |\n",
    "| Count of input nodes to the model    | 3 * 2 |\n",
    "| Unpacked input values to the model | [ 0.1, 0.2, 0.3, 0.4, 0.5, 0.6 ]  # Also concatinated |\n",
    "| Number of nodes in Layer 1 | 100 |\n",
    "| Number of weight parameters (W) | 6 * 100 = 600  |\n",
    "| &emsp;&emsp;&emsp;1. Each input node connecting to all the nodes in the the first layer of Neural Network |\n",
    "| &emsp;&emsp;&emsp;2. Dimension of W1 would be (6, 100) |\n",
    "| Each node has one bias also, count | 100 |\n",
    "| | |\n",
    "| No of nodes in output layer | 27 (No of characters in our dataset for output prediction) |\n",
    "| Number of weight parameters (W) | 100 * 27 |\n",
    "| &emsp;&emsp;&emsp;1. Each input node connecting to all the nodes in the output layer |\n",
    "| &emsp;&emsp;&emsp;2. Dimension of W2 would be (100, 27) |\n",
    "| Each node in output layer has one bias also, count | 27 |"
   ]
  },
  {
   "cell_type": "code",
   "execution_count": 24,
   "id": "c807ede5-a7f6-406c-9892-26259f9b6286",
   "metadata": {
    "execution": {
     "iopub.execute_input": "2024-04-20T09:46:25.307256Z",
     "iopub.status.busy": "2024-04-20T09:46:25.306947Z",
     "iopub.status.idle": "2024-04-20T09:46:25.311632Z",
     "shell.execute_reply": "2024-04-20T09:46:25.310706Z",
     "shell.execute_reply.started": "2024-04-20T09:46:25.307232Z"
    }
   },
   "outputs": [],
   "source": [
    "# Initialising the Weights and biases\n",
    "\n",
    "W1 = torch.randn((input_layer_nodes, W1_neuron_count))\n",
    "b1 = torch.randn(b1_count)"
   ]
  },
  {
   "cell_type": "code",
   "execution_count": 25,
   "id": "3e7907ae-9d2a-47f5-8722-4fc019d916d0",
   "metadata": {
    "execution": {
     "iopub.execute_input": "2024-04-20T09:46:26.506939Z",
     "iopub.status.busy": "2024-04-20T09:46:26.506623Z",
     "iopub.status.idle": "2024-04-20T09:46:26.511600Z",
     "shell.execute_reply": "2024-04-20T09:46:26.510801Z",
     "shell.execute_reply.started": "2024-04-20T09:46:26.506918Z"
    }
   },
   "outputs": [
    {
     "data": {
      "text/plain": [
       "torch.Size([6, 100])"
      ]
     },
     "execution_count": 25,
     "metadata": {},
     "output_type": "execute_result"
    }
   ],
   "source": [
    "W1.shape"
   ]
  },
  {
   "cell_type": "code",
   "execution_count": 26,
   "id": "a3c1e2e0-0220-45ed-810d-e5c20f8de897",
   "metadata": {
    "execution": {
     "iopub.execute_input": "2024-04-20T09:46:27.610366Z",
     "iopub.status.busy": "2024-04-20T09:46:27.610134Z",
     "iopub.status.idle": "2024-04-20T09:46:27.613817Z",
     "shell.execute_reply": "2024-04-20T09:46:27.613110Z",
     "shell.execute_reply.started": "2024-04-20T09:46:27.610350Z"
    }
   },
   "outputs": [
    {
     "data": {
      "text/plain": [
       "torch.Size([100])"
      ]
     },
     "execution_count": 26,
     "metadata": {},
     "output_type": "execute_result"
    }
   ],
   "source": [
    "b1.shape"
   ]
  },
  {
   "cell_type": "code",
   "execution_count": 27,
   "id": "9e5bb93e-23b4-454c-94e8-59a9259abc10",
   "metadata": {
    "execution": {
     "iopub.execute_input": "2024-04-20T09:47:39.488090Z",
     "iopub.status.busy": "2024-04-20T09:47:39.487811Z",
     "iopub.status.idle": "2024-04-20T09:47:39.492241Z",
     "shell.execute_reply": "2024-04-20T09:47:39.491577Z",
     "shell.execute_reply.started": "2024-04-20T09:47:39.488068Z"
    }
   },
   "outputs": [
    {
     "data": {
      "text/plain": [
       "torch.Size([32, 3, 2])"
      ]
     },
     "execution_count": 27,
     "metadata": {},
     "output_type": "execute_result"
    }
   ],
   "source": [
    "embedding.shape"
   ]
  },
  {
   "cell_type": "code",
   "execution_count": 28,
   "id": "4773d36f-9d7b-4afb-a5af-ba3b9c4c3795",
   "metadata": {
    "execution": {
     "iopub.execute_input": "2024-04-20T09:48:04.695897Z",
     "iopub.status.busy": "2024-04-20T09:48:04.695597Z",
     "iopub.status.idle": "2024-04-20T09:48:04.700993Z",
     "shell.execute_reply": "2024-04-20T09:48:04.700406Z",
     "shell.execute_reply.started": "2024-04-20T09:48:04.695874Z"
    }
   },
   "outputs": [
    {
     "data": {
      "text/plain": [
       "tensor([[[0.5372, 0.4819],\n",
       "         [0.5372, 0.4819],\n",
       "         [0.5372, 0.4819]],\n",
       "\n",
       "        [[0.5372, 0.4819],\n",
       "         [0.5372, 0.4819],\n",
       "         [0.0790, 0.1419]],\n",
       "\n",
       "        [[0.5372, 0.4819],\n",
       "         [0.0790, 0.1419],\n",
       "         [1.9998, 0.4914]]])"
      ]
     },
     "execution_count": 28,
     "metadata": {},
     "output_type": "execute_result"
    }
   ],
   "source": [
    "embedding[:3]"
   ]
  },
  {
   "cell_type": "code",
   "execution_count": 29,
   "id": "8895bcca-9ebe-4fda-8eb4-14d62192637c",
   "metadata": {
    "execution": {
     "iopub.execute_input": "2024-04-20T09:48:10.368335Z",
     "iopub.status.busy": "2024-04-20T09:48:10.368026Z",
     "iopub.status.idle": "2024-04-20T09:48:10.372961Z",
     "shell.execute_reply": "2024-04-20T09:48:10.372019Z",
     "shell.execute_reply.started": "2024-04-20T09:48:10.368312Z"
    }
   },
   "outputs": [],
   "source": [
    "# All the below results in the same output\n",
    "\n",
    "h = embedding.reshape(-1, input_layer_nodes)\n",
    "# h = embedding.view(number_of_training_samples, input_layer_nodes)\n",
    "# h = torch.cat(torch.unbind(embedding, 1), 1)  # Ineffecient, creates a new tensor \n",
    "\n",
    "h = torch.tanh(h @ W1 + b1)"
   ]
  },
  {
   "cell_type": "code",
   "execution_count": 30,
   "id": "25936cae-0a46-4083-bb19-902e6995f444",
   "metadata": {
    "execution": {
     "iopub.execute_input": "2024-04-20T09:48:12.302465Z",
     "iopub.status.busy": "2024-04-20T09:48:12.302145Z",
     "iopub.status.idle": "2024-04-20T09:48:12.305666Z",
     "shell.execute_reply": "2024-04-20T09:48:12.304852Z",
     "shell.execute_reply.started": "2024-04-20T09:48:12.302441Z"
    }
   },
   "outputs": [],
   "source": [
    "# Why are we reshaping?"
   ]
  },
  {
   "cell_type": "code",
   "execution_count": 31,
   "id": "3cabc39f-65e6-4621-b4c1-e357ecea6e20",
   "metadata": {
    "execution": {
     "iopub.execute_input": "2024-04-20T09:48:13.125278Z",
     "iopub.status.busy": "2024-04-20T09:48:13.124912Z",
     "iopub.status.idle": "2024-04-20T09:48:13.130201Z",
     "shell.execute_reply": "2024-04-20T09:48:13.129358Z",
     "shell.execute_reply.started": "2024-04-20T09:48:13.125250Z"
    }
   },
   "outputs": [
    {
     "data": {
      "text/plain": [
       "torch.Size([32, 100])"
      ]
     },
     "execution_count": 31,
     "metadata": {},
     "output_type": "execute_result"
    }
   ],
   "source": [
    "h.shape"
   ]
  },
  {
   "cell_type": "code",
   "execution_count": 32,
   "id": "ad041b48-ca84-4398-80c7-aeb22e680f54",
   "metadata": {
    "execution": {
     "iopub.execute_input": "2024-04-20T09:48:13.783405Z",
     "iopub.status.busy": "2024-04-20T09:48:13.782911Z",
     "iopub.status.idle": "2024-04-20T09:48:13.793301Z",
     "shell.execute_reply": "2024-04-20T09:48:13.792557Z",
     "shell.execute_reply.started": "2024-04-20T09:48:13.783380Z"
    },
    "scrolled": true
   },
   "outputs": [
    {
     "data": {
      "text/plain": [
       "tensor([[-5.0764e-01,  7.3563e-01, -1.5097e-01, -5.4590e-01,  8.0513e-01,\n",
       "         -9.3756e-01,  9.8652e-01,  9.8073e-02, -9.5341e-01, -1.0117e-01,\n",
       "          9.8423e-01,  9.7771e-01, -8.6723e-02, -6.7850e-01, -9.8908e-01,\n",
       "         -2.4428e-01, -9.0726e-01, -2.8357e-01,  9.6281e-01,  8.7673e-01,\n",
       "         -9.2048e-01, -4.6646e-01, -9.6051e-01, -9.3338e-01, -9.6986e-01,\n",
       "          4.5945e-01, -8.6567e-02, -9.8677e-01, -9.3236e-01,  9.7575e-01,\n",
       "         -3.8124e-01, -9.6884e-01, -3.2271e-01, -9.5687e-01, -1.3603e-01,\n",
       "         -8.5033e-01, -8.5820e-01,  1.6413e-01, -6.1168e-01, -2.4164e-01,\n",
       "          7.4713e-01,  2.3269e-01,  7.1546e-01,  7.2417e-01, -5.9217e-01,\n",
       "         -9.8226e-01, -9.2555e-01, -3.3184e-01,  6.2161e-03, -2.3156e-01,\n",
       "         -6.6192e-01,  9.9758e-01,  9.7461e-01,  8.7020e-01, -2.9265e-01,\n",
       "         -3.3398e-01, -6.6620e-01, -4.1342e-01,  3.2196e-01, -8.3239e-01,\n",
       "          9.6455e-01,  8.8834e-01,  8.9383e-01,  9.9896e-01,  9.0789e-01,\n",
       "          6.1622e-01,  6.5824e-01,  9.8688e-01, -7.2790e-01,  9.9628e-01,\n",
       "         -8.6390e-01,  1.6072e-01, -8.0919e-01, -5.6741e-01, -3.1210e-01,\n",
       "         -1.8235e-01, -9.9155e-01,  3.3652e-01,  7.1684e-01,  1.1731e-02,\n",
       "          6.4820e-02,  9.0448e-01, -8.5366e-01,  9.9897e-01,  7.6506e-01,\n",
       "         -4.5415e-01, -9.4180e-01,  1.1904e-01,  6.2158e-02,  2.4584e-01,\n",
       "          9.9034e-01, -9.9861e-01, -9.1122e-01,  4.9728e-01, -6.0958e-01,\n",
       "         -8.8460e-01,  5.4344e-01,  3.2960e-01, -9.7185e-02,  1.2991e-01],\n",
       "        [-2.2314e-01,  4.2154e-02,  4.1802e-01, -7.8283e-01,  7.4887e-01,\n",
       "         -9.5099e-01,  9.4148e-01,  3.8267e-02, -9.3185e-01, -1.0798e-02,\n",
       "          9.8806e-01,  8.2708e-01,  3.8825e-01, -4.0494e-01, -9.4760e-01,\n",
       "         -8.2609e-01, -7.3099e-01,  4.4971e-01,  9.0515e-01,  9.4785e-01,\n",
       "         -9.1680e-01, -3.1601e-01, -9.8946e-01, -8.1325e-01, -9.0894e-01,\n",
       "          4.3610e-02,  2.5247e-01, -9.6915e-01, -9.8424e-01,  9.3468e-01,\n",
       "         -8.3195e-01, -9.1887e-01,  5.9692e-02, -7.4137e-01, -5.9027e-01,\n",
       "         -7.3120e-01, -7.6305e-01,  6.5240e-01, -7.6253e-01, -6.0405e-01,\n",
       "          3.3844e-01,  4.2812e-01,  7.6949e-01,  5.5995e-01, -7.9258e-01,\n",
       "         -9.7996e-01, -5.7358e-01, -8.9645e-01, -1.5001e-01, -5.0847e-01,\n",
       "         -8.5049e-01,  9.9860e-01,  9.7526e-01,  8.9994e-01,  3.4152e-02,\n",
       "          5.2452e-06, -8.1354e-01, -6.9144e-01,  4.6903e-01, -2.3754e-01,\n",
       "          9.6178e-01,  6.9991e-01,  7.0347e-01,  9.7168e-01,  6.9607e-01,\n",
       "          5.4426e-01,  8.0733e-01,  9.9087e-01, -1.8469e-01,  8.4183e-01,\n",
       "         -9.2195e-01, -2.3065e-01, -7.9999e-01, -3.6564e-01, -8.9781e-02,\n",
       "          2.7175e-01, -9.8683e-01,  6.2629e-02,  4.1184e-01,  3.5740e-02,\n",
       "          4.8112e-01,  9.6300e-01, -7.6695e-01,  9.9305e-01,  7.2895e-01,\n",
       "         -5.2764e-02, -9.9295e-01,  2.1598e-01, -7.1879e-01,  6.7279e-01,\n",
       "          9.8763e-01, -9.9378e-01, -9.4700e-01,  8.9546e-01, -4.7247e-01,\n",
       "         -8.7799e-01,  5.2265e-01, -4.1354e-02, -1.1921e-01,  6.5646e-02],\n",
       "        [-7.4387e-01,  9.8198e-01, -9.4472e-01,  9.4095e-01,  4.2427e-01,\n",
       "          6.6436e-01,  9.9822e-01,  6.0677e-01, -9.7121e-01, -8.6839e-01,\n",
       "          6.3857e-01,  9.9989e-01, -9.8623e-01, -4.8813e-01, -9.9976e-01,\n",
       "          9.9874e-01, -8.1594e-01, -9.9364e-01,  9.9404e-01,  6.0738e-01,\n",
       "         -8.3156e-01, -8.7715e-01, -4.2554e-01, -9.9959e-01, -9.9996e-01,\n",
       "          9.6196e-01, -2.7737e-01, -9.8735e-01,  9.3750e-01,  9.9849e-01,\n",
       "          8.6872e-01, -9.9919e-01, -9.8572e-01, -9.9365e-01,  6.1410e-01,\n",
       "         -9.9847e-01, -9.3796e-01,  2.0041e-01, -8.4712e-01, -2.2046e-01,\n",
       "          9.9595e-01,  8.2493e-01,  5.9068e-01,  8.9533e-01,  8.1293e-01,\n",
       "         -9.9982e-01, -9.9785e-01,  9.9942e-01,  9.1835e-01,  5.6284e-01,\n",
       "         -2.6013e-01,  9.9557e-01, -1.7681e-02,  8.0211e-01, -9.4960e-01,\n",
       "         -7.1130e-01, -3.6967e-01,  9.5774e-01, -1.7598e-01, -9.8879e-01,\n",
       "          9.6273e-01,  9.9544e-01,  9.9852e-01,  9.9999e-01,  9.9969e-01,\n",
       "          6.1435e-01, -8.2525e-01,  9.7704e-01, -9.7411e-01,  9.9991e-01,\n",
       "          1.0357e-01,  7.5683e-01, -9.3294e-01, -7.1525e-01, -6.6645e-01,\n",
       "         -9.5948e-01, -9.7022e-01,  8.2704e-01,  8.2212e-01,  6.4745e-02,\n",
       "         -6.6293e-01, -5.3445e-01, -9.7689e-01,  9.9999e-01,  8.0532e-01,\n",
       "         -7.5262e-01,  1.6077e-01,  7.3348e-01,  9.9639e-01, -9.5931e-01,\n",
       "          9.9502e-01, -9.9994e-01, -9.7916e-01, -9.9357e-01, -6.6800e-01,\n",
       "         -4.3669e-01, -1.2486e-01, -4.8953e-01, -9.2519e-01,  9.9440e-01]])"
      ]
     },
     "execution_count": 32,
     "metadata": {},
     "output_type": "execute_result"
    }
   ],
   "source": [
    "h[:3]"
   ]
  },
  {
   "cell_type": "code",
   "execution_count": 33,
   "id": "286cb2b9-7e09-422d-968b-abde15e8876f",
   "metadata": {
    "execution": {
     "iopub.execute_input": "2024-04-20T09:48:15.413807Z",
     "iopub.status.busy": "2024-04-20T09:48:15.413504Z",
     "iopub.status.idle": "2024-04-20T09:48:15.418361Z",
     "shell.execute_reply": "2024-04-20T09:48:15.417558Z",
     "shell.execute_reply.started": "2024-04-20T09:48:15.413784Z"
    }
   },
   "outputs": [
    {
     "data": {
      "text/plain": [
       "torch.Size([6, 100])"
      ]
     },
     "execution_count": 33,
     "metadata": {},
     "output_type": "execute_result"
    }
   ],
   "source": [
    "W1.shape"
   ]
  },
  {
   "cell_type": "code",
   "execution_count": 36,
   "id": "2c37e1fc-093b-4519-9ee2-3b87c991c0b3",
   "metadata": {
    "execution": {
     "iopub.execute_input": "2024-04-20T09:52:37.711006Z",
     "iopub.status.busy": "2024-04-20T09:52:37.710700Z",
     "iopub.status.idle": "2024-04-20T09:52:37.714530Z",
     "shell.execute_reply": "2024-04-20T09:52:37.713767Z",
     "shell.execute_reply.started": "2024-04-20T09:52:37.710983Z"
    }
   },
   "outputs": [],
   "source": [
    "W2 = torch.randn((W1_neuron_count, dim))\n",
    "b2 = torch.randn(dim)"
   ]
  },
  {
   "cell_type": "code",
   "execution_count": 37,
   "id": "764f0759-20cf-4a34-801e-63acc92e4947",
   "metadata": {
    "execution": {
     "iopub.execute_input": "2024-04-20T09:52:38.341793Z",
     "iopub.status.busy": "2024-04-20T09:52:38.341484Z",
     "iopub.status.idle": "2024-04-20T09:52:38.346471Z",
     "shell.execute_reply": "2024-04-20T09:52:38.345663Z",
     "shell.execute_reply.started": "2024-04-20T09:52:38.341770Z"
    }
   },
   "outputs": [
    {
     "data": {
      "text/plain": [
       "torch.Size([100, 27])"
      ]
     },
     "execution_count": 37,
     "metadata": {},
     "output_type": "execute_result"
    }
   ],
   "source": [
    "W2.shape"
   ]
  },
  {
   "cell_type": "code",
   "execution_count": 38,
   "id": "26c3a2f0-3c1b-48a6-9775-20717018517b",
   "metadata": {
    "execution": {
     "iopub.execute_input": "2024-04-20T09:52:38.953911Z",
     "iopub.status.busy": "2024-04-20T09:52:38.953644Z",
     "iopub.status.idle": "2024-04-20T09:52:38.957839Z",
     "shell.execute_reply": "2024-04-20T09:52:38.957196Z",
     "shell.execute_reply.started": "2024-04-20T09:52:38.953891Z"
    }
   },
   "outputs": [
    {
     "data": {
      "text/plain": [
       "torch.Size([27])"
      ]
     },
     "execution_count": 38,
     "metadata": {},
     "output_type": "execute_result"
    }
   ],
   "source": [
    "b2.shape"
   ]
  },
  {
   "cell_type": "code",
   "execution_count": 39,
   "id": "708dd4a8-c1aa-4bdd-9264-05c77f0a8b6b",
   "metadata": {
    "execution": {
     "iopub.execute_input": "2024-04-20T09:52:40.031498Z",
     "iopub.status.busy": "2024-04-20T09:52:40.031190Z",
     "iopub.status.idle": "2024-04-20T09:52:40.037501Z",
     "shell.execute_reply": "2024-04-20T09:52:40.036722Z",
     "shell.execute_reply.started": "2024-04-20T09:52:40.031475Z"
    }
   },
   "outputs": [
    {
     "data": {
      "text/plain": [
       "tensor([[-1.3402, -0.2845,  0.6404, -0.9346,  0.1853,  0.6582,  0.1250,  0.3637,\n",
       "          1.2703,  0.4984, -0.3907,  1.2165,  0.9403,  1.1258, -0.9497,  1.3753,\n",
       "         -1.7073, -1.6395,  0.7824, -0.8086,  0.2901, -0.8827, -1.6454, -0.8344,\n",
       "         -0.4886,  1.3559, -0.8858],\n",
       "        [ 1.9138,  0.3203, -1.2236, -0.3629,  1.4746,  0.6193, -2.0904,  0.3629,\n",
       "          0.3365, -0.7944, -0.6140,  0.3991,  1.1043,  0.6886, -0.9987, -0.4204,\n",
       "         -0.8943,  1.1905, -0.6170,  0.4117,  0.4227, -0.9250, -0.0677,  0.0640,\n",
       "         -0.1714, -0.6733,  0.4050],\n",
       "        [ 0.6472, -0.0805,  0.0495, -0.6117,  0.6456,  0.9880, -0.7164,  1.1279,\n",
       "          0.0213,  1.4302, -2.9614, -1.4914,  0.3569, -0.4134, -0.9171,  0.4062,\n",
       "          0.9235, -0.6367,  0.2969, -0.0855, -1.9445, -0.0896, -0.4357, -0.3700,\n",
       "          1.6350,  0.5748,  0.7663]])"
      ]
     },
     "execution_count": 39,
     "metadata": {},
     "output_type": "execute_result"
    }
   ],
   "source": [
    "W2[:3]"
   ]
  },
  {
   "cell_type": "code",
   "execution_count": 40,
   "id": "71a2aa77-8638-4844-9509-7a616e6b55bc",
   "metadata": {
    "execution": {
     "iopub.execute_input": "2024-04-20T09:53:02.747851Z",
     "iopub.status.busy": "2024-04-20T09:53:02.747550Z",
     "iopub.status.idle": "2024-04-20T09:53:02.752863Z",
     "shell.execute_reply": "2024-04-20T09:53:02.752055Z",
     "shell.execute_reply.started": "2024-04-20T09:53:02.747828Z"
    }
   },
   "outputs": [
    {
     "data": {
      "text/plain": [
       "tensor([-0.1596,  1.7768, -1.6329])"
      ]
     },
     "execution_count": 40,
     "metadata": {},
     "output_type": "execute_result"
    }
   ],
   "source": [
    "b2[:3]"
   ]
  },
  {
   "cell_type": "code",
   "execution_count": 41,
   "id": "ac636f8e-0e77-4f1a-808c-47a31f671922",
   "metadata": {
    "execution": {
     "iopub.execute_input": "2024-04-20T09:53:12.372901Z",
     "iopub.status.busy": "2024-04-20T09:53:12.372584Z",
     "iopub.status.idle": "2024-04-20T09:53:12.376609Z",
     "shell.execute_reply": "2024-04-20T09:53:12.375765Z",
     "shell.execute_reply.started": "2024-04-20T09:53:12.372877Z"
    }
   },
   "outputs": [],
   "source": [
    "logits = h @ W2 + b2 "
   ]
  },
  {
   "cell_type": "code",
   "execution_count": 42,
   "id": "722c6dd2-bded-4745-9d09-73e7b231ce55",
   "metadata": {
    "execution": {
     "iopub.execute_input": "2024-04-20T09:53:13.299882Z",
     "iopub.status.busy": "2024-04-20T09:53:13.299580Z",
     "iopub.status.idle": "2024-04-20T09:53:13.304550Z",
     "shell.execute_reply": "2024-04-20T09:53:13.303580Z",
     "shell.execute_reply.started": "2024-04-20T09:53:13.299859Z"
    }
   },
   "outputs": [
    {
     "data": {
      "text/plain": [
       "torch.Size([32, 27])"
      ]
     },
     "execution_count": 42,
     "metadata": {},
     "output_type": "execute_result"
    }
   ],
   "source": [
    "logits.shape"
   ]
  },
  {
   "cell_type": "code",
   "execution_count": 72,
   "id": "23cf5e93-b75d-4546-9b15-406375f85c49",
   "metadata": {
    "execution": {
     "iopub.execute_input": "2024-04-20T10:15:03.653811Z",
     "iopub.status.busy": "2024-04-20T10:15:03.653504Z",
     "iopub.status.idle": "2024-04-20T10:15:03.658960Z",
     "shell.execute_reply": "2024-04-20T10:15:03.658216Z",
     "shell.execute_reply.started": "2024-04-20T10:15:03.653787Z"
    }
   },
   "outputs": [
    {
     "data": {
      "text/plain": [
       "(-21.304649353027344, 25.58248519897461)"
      ]
     },
     "execution_count": 72,
     "metadata": {},
     "output_type": "execute_result"
    }
   ],
   "source": [
    "torch.flatten(logits).min().item(), torch.flatten(logits).max().item()"
   ]
  },
  {
   "cell_type": "code",
   "execution_count": 73,
   "id": "26a6be58-1751-4852-8b94-7ce4122c0d95",
   "metadata": {
    "execution": {
     "iopub.execute_input": "2024-04-20T10:16:00.963016Z",
     "iopub.status.busy": "2024-04-20T10:16:00.962719Z",
     "iopub.status.idle": "2024-04-20T10:16:01.110454Z",
     "shell.execute_reply": "2024-04-20T10:16:01.109790Z",
     "shell.execute_reply.started": "2024-04-20T10:16:00.962994Z"
    }
   },
   "outputs": [
    {
     "data": {
      "image/png": "[encoded data removed]",
      "text/plain": [
       "<Figure size 640x480 with 1 Axes>"
      ]
     },
     "metadata": {},
     "output_type": "display_data"
    }
   ],
   "source": [
    "plt.hist(torch.flatten(logits));"
   ]
  },
  {
   "cell_type": "code",
   "execution_count": 74,
   "id": "c809bcfb-1f2c-4dfa-9860-c9b8b4886dbd",
   "metadata": {
    "execution": {
     "iopub.execute_input": "2024-04-20T10:16:10.789694Z",
     "iopub.status.busy": "2024-04-20T10:16:10.789395Z",
     "iopub.status.idle": "2024-04-20T10:16:10.793239Z",
     "shell.execute_reply": "2024-04-20T10:16:10.792355Z",
     "shell.execute_reply.started": "2024-04-20T10:16:10.789671Z"
    }
   },
   "outputs": [],
   "source": [
    "counts = logits.exp()  # fake count"
   ]
  },
  {
   "cell_type": "code",
   "execution_count": 76,
   "id": "88d64d12-4b0b-4aae-81cb-64523b4ec857",
   "metadata": {
    "execution": {
     "iopub.execute_input": "2024-04-20T10:16:12.910455Z",
     "iopub.status.busy": "2024-04-20T10:16:12.910163Z",
     "iopub.status.idle": "2024-04-20T10:16:12.915511Z",
     "shell.execute_reply": "2024-04-20T10:16:12.914677Z",
     "shell.execute_reply.started": "2024-04-20T10:16:12.910433Z"
    }
   },
   "outputs": [
    {
     "data": {
      "text/plain": [
       "(5.591243024127834e-10, 128923516928.0)"
      ]
     },
     "execution_count": 76,
     "metadata": {},
     "output_type": "execute_result"
    }
   ],
   "source": [
    "torch.flatten(counts).min().item(), torch.flatten(counts).max().item()"
   ]
  },
  {
   "cell_type": "code",
   "execution_count": 81,
   "id": "8292ae30-5992-418b-afb8-d130dac37cfc",
   "metadata": {
    "execution": {
     "iopub.execute_input": "2024-04-20T10:25:14.520957Z",
     "iopub.status.busy": "2024-04-20T10:25:14.520659Z",
     "iopub.status.idle": "2024-04-20T10:25:14.527789Z",
     "shell.execute_reply": "2024-04-20T10:25:14.527119Z",
     "shell.execute_reply.started": "2024-04-20T10:25:14.520933Z"
    }
   },
   "outputs": [
    {
     "data": {
      "text/plain": [
       "864"
      ]
     },
     "execution_count": 81,
     "metadata": {},
     "output_type": "execute_result"
    }
   ],
   "source": [
    "len(list(sorted(x.item() for x in torch.flatten(counts))))"
   ]
  },
  {
   "cell_type": "code",
   "execution_count": 82,
   "id": "8fac33cd-c7e3-497d-a5f9-3793085e28fb",
   "metadata": {
    "execution": {
     "iopub.execute_input": "2024-04-20T10:26:10.231753Z",
     "iopub.status.busy": "2024-04-20T10:26:10.231428Z",
     "iopub.status.idle": "2024-04-20T10:26:10.236196Z",
     "shell.execute_reply": "2024-04-20T10:26:10.235519Z",
     "shell.execute_reply.started": "2024-04-20T10:26:10.231730Z"
    }
   },
   "outputs": [
    {
     "data": {
      "text/plain": [
       "432.0"
      ]
     },
     "execution_count": 82,
     "metadata": {},
     "output_type": "execute_result"
    }
   ],
   "source": [
    "864/2"
   ]
  },
  {
   "cell_type": "code",
   "execution_count": 83,
   "id": "e5b3503a-efd2-4848-97ff-83a11f40011e",
   "metadata": {
    "execution": {
     "iopub.execute_input": "2024-04-20T10:26:22.105840Z",
     "iopub.status.busy": "2024-04-20T10:26:22.105549Z",
     "iopub.status.idle": "2024-04-20T10:26:22.112902Z",
     "shell.execute_reply": "2024-04-20T10:26:22.111975Z",
     "shell.execute_reply.started": "2024-04-20T10:26:22.105819Z"
    },
    "scrolled": true
   },
   "outputs": [
    {
     "data": {
      "text/plain": [
       "[0.7310653924942017,\n",
       " 0.7330960035324097,\n",
       " 0.7529741525650024,\n",
       " 0.7598239183425903,\n",
       " 0.7746933102607727,\n",
       " 0.7832502722740173,\n",
       " 0.7932390570640564,\n",
       " 0.816877007484436,\n",
       " 0.8223203420639038,\n",
       " 0.8231403827667236,\n",
       " 0.8384041786193848,\n",
       " 0.8581687211990356,\n",
       " 0.8601752519607544,\n",
       " 0.8880463242530823,\n",
       " 0.9077925682067871,\n",
       " 0.9109219312667847,\n",
       " 0.9620658159255981,\n",
       " 0.9866657853126526,\n",
       " 0.9924944639205933,\n",
       " 1.0146836042404175,\n",
       " 1.0331777334213257,\n",
       " 1.0331777334213257,\n",
       " 1.0331777334213257,\n",
       " 1.0331777334213257,\n",
       " 1.0331777334213257,\n",
       " 1.0389835834503174,\n",
       " 1.0578948259353638,\n",
       " 1.0732365846633911,\n",
       " 1.0901623964309692,\n",
       " 1.139238715171814,\n",
       " 1.139238715171814,\n",
       " 1.139238715171814,\n",
       " 1.139238715171814,\n",
       " 1.139238715171814,\n",
       " 1.1406904458999634,\n",
       " 1.1686471700668335,\n",
       " 1.192301869392395,\n",
       " 1.2042845487594604,\n",
       " 1.2442766427993774,\n",
       " 1.248475193977356,\n",
       " 1.257791519165039,\n",
       " 1.2865033149719238,\n",
       " 1.3056827783584595,\n",
       " 1.318767786026001,\n",
       " 1.3688180446624756,\n",
       " 1.3788182735443115,\n",
       " 1.4268767833709717,\n",
       " 1.4399733543395996,\n",
       " 1.4592993259429932,\n",
       " 1.5528080463409424,\n",
       " 1.5532233715057373,\n",
       " 1.6211519241333008,\n",
       " 1.6540257930755615,\n",
       " 1.655127763748169,\n",
       " 1.7328537702560425,\n",
       " 1.7792770862579346,\n",
       " 1.8800619840621948,\n",
       " 1.887403130531311,\n",
       " 1.8921180963516235,\n",
       " 1.8921767473220825,\n",
       " 1.9130016565322876,\n",
       " 1.9309524297714233,\n",
       " 2.001649856567383,\n",
       " 2.009951591491699,\n",
       " 2.035674571990967,\n",
       " 2.1117312908172607,\n",
       " 2.1775426864624023,\n",
       " 2.209700345993042,\n",
       " 2.266589879989624,\n",
       " 2.6139121055603027,\n",
       " 2.6879141330718994,\n",
       " 2.7674717903137207,\n",
       " 2.7906510829925537,\n",
       " 2.855588912963867,\n",
       " 2.855588912963867,\n",
       " 2.855588912963867,\n",
       " 2.855588912963867,\n",
       " 2.855588912963867,\n",
       " 2.9184703826904297,\n",
       " 2.9554951190948486,\n",
       " 2.960810661315918,\n",
       " 3.0132784843444824,\n",
       " 3.2198381423950195,\n",
       " 3.261242151260376,\n",
       " 3.345979928970337,\n",
       " 3.4307050704956055,\n",
       " 3.435757875442505,\n",
       " 3.4386987686157227,\n",
       " 3.619249105453491,\n",
       " 3.6199982166290283,\n",
       " 3.8444619178771973,\n",
       " 3.8906586170196533,\n",
       " 3.917344570159912,\n",
       " 4.0502190589904785,\n",
       " 4.154230117797852,\n",
       " 4.317814826965332,\n",
       " 4.531483173370361,\n",
       " 4.662283420562744,\n",
       " 4.878968238830566,\n",
       " 5.151134490966797]"
      ]
     },
     "execution_count": 83,
     "metadata": {},
     "output_type": "execute_result"
    }
   ],
   "source": []
  },
  {
   "cell_type": "code",
   "execution_count": 77,
   "id": "56813a8e-d862-4b04-bd00-b2fdc36ddc0c",
   "metadata": {
    "execution": {
     "iopub.execute_input": "2024-04-20T10:16:13.904379Z",
     "iopub.status.busy": "2024-04-20T10:16:13.904087Z",
     "iopub.status.idle": "2024-04-20T10:16:14.056710Z",
     "shell.execute_reply": "2024-04-20T10:16:14.055790Z",
     "shell.execute_reply.started": "2024-04-20T10:16:13.904358Z"
    }
   },
   "outputs": [
    {
     "data": {
      "image/png": "[encoded data removed]",
      "text/plain": [
       "<Figure size 640x480 with 1 Axes>"
      ]
     },
     "metadata": {},
     "output_type": "display_data"
    }
   ],
   "source": [
    "plt.hist(torch.flatten(counts));"
   ]
  },
  {
   "cell_type": "code",
   "execution_count": 87,
   "id": "2d0d7b8c-fc81-43a8-8d4b-76c6b6adfa9b",
   "metadata": {
    "execution": {
     "iopub.execute_input": "2024-04-20T10:27:26.856442Z",
     "iopub.status.busy": "2024-04-20T10:27:26.856222Z",
     "iopub.status.idle": "2024-04-20T10:27:26.859327Z",
     "shell.execute_reply": "2024-04-20T10:27:26.858731Z",
     "shell.execute_reply.started": "2024-04-20T10:27:26.856426Z"
    }
   },
   "outputs": [],
   "source": [
    "probs = counts / counts.sum(1, keepdim=True)"
   ]
  },
  {
   "cell_type": "code",
   "execution_count": 88,
   "id": "96f4d2e6-60f2-493d-b9e5-3c10739ba175",
   "metadata": {
    "execution": {
     "iopub.execute_input": "2024-04-20T10:27:27.292617Z",
     "iopub.status.busy": "2024-04-20T10:27:27.292312Z",
     "iopub.status.idle": "2024-04-20T10:27:27.297381Z",
     "shell.execute_reply": "2024-04-20T10:27:27.296691Z",
     "shell.execute_reply.started": "2024-04-20T10:27:27.292595Z"
    }
   },
   "outputs": [
    {
     "data": {
      "text/plain": [
       "(3.5267048980177205e-20, 0.9999281167984009)"
      ]
     },
     "execution_count": 88,
     "metadata": {},
     "output_type": "execute_result"
    }
   ],
   "source": [
    "torch.flatten(probs).min().item(), torch.flatten(probs).max().item()"
   ]
  },
  {
   "cell_type": "code",
   "execution_count": 89,
   "id": "562afbcb-87d7-474e-ae5b-4677ccaaf878",
   "metadata": {
    "execution": {
     "iopub.execute_input": "2024-04-20T10:27:28.373580Z",
     "iopub.status.busy": "2024-04-20T10:27:28.373260Z",
     "iopub.status.idle": "2024-04-20T10:27:28.533431Z",
     "shell.execute_reply": "2024-04-20T10:27:28.532465Z",
     "shell.execute_reply.started": "2024-04-20T10:27:28.373557Z"
    }
   },
   "outputs": [
    {
     "data": {
      "image/png": "[encoded data removed]",
      "text/plain": [
       "<Figure size 640x480 with 1 Axes>"
      ]
     },
     "metadata": {},
     "output_type": "display_data"
    }
   ],
   "source": [
    "plt.hist(torch.flatten(probs));"
   ]
  },
  {
   "cell_type": "markdown",
   "id": "00683638-92ff-4938-9ffc-aff0a6bd8fc7",
   "metadata": {
    "jp-MarkdownHeadingCollapsed": true
   },
   "source": [
    "## Scratchpad"
   ]
  },
  {
   "cell_type": "code",
   "execution_count": 90,
   "id": "71887840-d214-4a4b-b914-f62e8569dc27",
   "metadata": {
    "execution": {
     "iopub.execute_input": "2024-04-20T14:11:12.788609Z",
     "iopub.status.busy": "2024-04-20T14:11:12.788314Z",
     "iopub.status.idle": "2024-04-20T14:11:12.795725Z",
     "shell.execute_reply": "2024-04-20T14:11:12.794753Z",
     "shell.execute_reply.started": "2024-04-20T14:11:12.788585Z"
    }
   },
   "outputs": [
    {
     "data": {
      "text/plain": [
       "tensor([ 5, 13, 13,  1,  0, 15, 12,  9, 22,  9,  1,  0,  1, 22,  1,  0,  9, 19,\n",
       "         1,  2,  5, 12, 12,  1,  0, 19, 15, 16,  8,  9,  1,  0])"
      ]
     },
     "execution_count": 90,
     "metadata": {},
     "output_type": "execute_result"
    }
   ],
   "source": [
    "Y"
   ]
  },
  {
   "cell_type": "code",
   "execution_count": 93,
   "id": "add0fc12-3be7-41f0-aea4-d27c90577100",
   "metadata": {
    "execution": {
     "iopub.execute_input": "2024-04-20T14:12:00.370954Z",
     "iopub.status.busy": "2024-04-20T14:12:00.370652Z",
     "iopub.status.idle": "2024-04-20T14:12:00.375571Z",
     "shell.execute_reply": "2024-04-20T14:12:00.374744Z",
     "shell.execute_reply.started": "2024-04-20T14:12:00.370931Z"
    }
   },
   "outputs": [
    {
     "data": {
      "text/plain": [
       "32"
      ]
     },
     "execution_count": 93,
     "metadata": {},
     "output_type": "execute_result"
    }
   ],
   "source": [
    "number_of_training_samples = h.shape[0]\n",
    "number_of_training_samples"
   ]
  },
  {
   "cell_type": "code",
   "execution_count": 94,
   "id": "1a32c0c2-131e-4720-b12d-56aef14f0d3f",
   "metadata": {
    "execution": {
     "iopub.execute_input": "2024-04-20T14:12:01.771760Z",
     "iopub.status.busy": "2024-04-20T14:12:01.771469Z",
     "iopub.status.idle": "2024-04-20T14:12:01.781766Z",
     "shell.execute_reply": "2024-04-20T14:12:01.780754Z",
     "shell.execute_reply.started": "2024-04-20T14:12:01.771737Z"
    }
   },
   "outputs": [
    {
     "data": {
      "text/plain": [
       "tensor([ 0,  1,  2,  3,  4,  5,  6,  7,  8,  9, 10, 11, 12, 13, 14, 15, 16, 17,\n",
       "        18, 19, 20, 21, 22, 23, 24, 25, 26, 27, 28, 29, 30, 31])"
      ]
     },
     "execution_count": 94,
     "metadata": {},
     "output_type": "execute_result"
    }
   ],
   "source": [
    "torch.arange(number_of_training_samples)"
   ]
  },
  {
   "cell_type": "code",
   "execution_count": 97,
   "id": "f0cd2605-8924-4428-bccb-3994c2f1d5bf",
   "metadata": {
    "execution": {
     "iopub.execute_input": "2024-04-20T14:12:45.626620Z",
     "iopub.status.busy": "2024-04-20T14:12:45.626327Z",
     "iopub.status.idle": "2024-04-20T14:12:45.632208Z",
     "shell.execute_reply": "2024-04-20T14:12:45.631598Z",
     "shell.execute_reply.started": "2024-04-20T14:12:45.626598Z"
    }
   },
   "outputs": [
    {
     "data": {
      "text/plain": [
       "tensor([3.2798e-06, 2.7559e-03, 4.8079e-05, 2.8833e-15, 3.7467e-10, 6.2816e-11,\n",
       "        7.4151e-06, 2.2383e-08, 8.8247e-09, 9.5443e-09, 6.5275e-09, 9.3345e-10,\n",
       "        4.8253e-12, 5.5154e-01, 3.8057e-15, 5.4973e-09, 1.5939e-07, 2.6749e-07,\n",
       "        1.0691e-08, 3.8696e-05, 3.3637e-12, 5.2456e-06, 1.1109e-03, 3.0924e-06,\n",
       "        1.5585e-10, 4.5193e-09, 1.1140e-04, 2.1908e-09, 3.1184e-10, 9.9993e-01,\n",
       "        5.6852e-17, 1.4434e-10])"
      ]
     },
     "execution_count": 97,
     "metadata": {},
     "output_type": "execute_result"
    }
   ],
   "source": [
    "probs[torch.arange(number_of_training_samples), Y]"
   ]
  },
  {
   "cell_type": "code",
   "execution_count": 99,
   "id": "b5836529-bbf5-4739-810b-37aab5d5877c",
   "metadata": {
    "execution": {
     "iopub.execute_input": "2024-04-20T14:13:01.126429Z",
     "iopub.status.busy": "2024-04-20T14:13:01.126140Z",
     "iopub.status.idle": "2024-04-20T14:13:01.131039Z",
     "shell.execute_reply": "2024-04-20T14:13:01.130288Z",
     "shell.execute_reply.started": "2024-04-20T14:13:01.126407Z"
    }
   },
   "outputs": [
    {
     "data": {
      "text/plain": [
       "torch.Size([32])"
      ]
     },
     "execution_count": 99,
     "metadata": {},
     "output_type": "execute_result"
    }
   ],
   "source": [
    "probs[torch.arange(number_of_training_samples), Y].shape"
   ]
  },
  {
   "cell_type": "code",
   "execution_count": 100,
   "id": "1fedd978-525e-4de7-8e3d-40dc94a4020c",
   "metadata": {
    "execution": {
     "iopub.execute_input": "2024-04-20T14:13:06.214072Z",
     "iopub.status.busy": "2024-04-20T14:13:06.213772Z",
     "iopub.status.idle": "2024-04-20T14:13:06.218339Z",
     "shell.execute_reply": "2024-04-20T14:13:06.217691Z",
     "shell.execute_reply.started": "2024-04-20T14:13:06.214050Z"
    }
   },
   "outputs": [
    {
     "data": {
      "text/plain": [
       "torch.Size([32, 27])"
      ]
     },
     "execution_count": 100,
     "metadata": {},
     "output_type": "execute_result"
    }
   ],
   "source": [
    "probs.shape"
   ]
  },
  {
   "cell_type": "code",
   "execution_count": 98,
   "id": "a0071294-d139-4bcd-b710-f27177e5997b",
   "metadata": {
    "execution": {
     "iopub.execute_input": "2024-04-20T14:12:45.850078Z",
     "iopub.status.busy": "2024-04-20T14:12:45.849528Z",
     "iopub.status.idle": "2024-04-20T14:12:45.863434Z",
     "shell.execute_reply": "2024-04-20T14:12:45.862593Z",
     "shell.execute_reply.started": "2024-04-20T14:12:45.850039Z"
    },
    "scrolled": true
   },
   "outputs": [
    {
     "data": {
      "text/plain": [
       "tensor([[2.5219e-06, 4.8253e-12, 1.0010e-09, 5.8054e-08, 4.2635e-05, 3.2798e-06,\n",
       "         1.0486e-06, 1.7575e-07, 3.3201e-01, 1.5939e-07, 4.4054e-07, 9.8161e-09,\n",
       "         1.2844e-04, 6.6611e-01, 3.5620e-06, 6.2816e-11, 8.6584e-07, 1.6871e-09,\n",
       "         8.5803e-09, 4.5193e-09, 2.5895e-10, 1.1143e-08, 4.4662e-06, 9.4176e-07,\n",
       "         6.4634e-10, 1.9833e-11, 1.6905e-03],\n",
       "        [5.4670e-08, 2.3418e-13, 4.5213e-08, 1.1537e-08, 1.8404e-04, 1.2230e-06,\n",
       "         2.7076e-06, 1.1192e-10, 9.9690e-01, 9.2149e-09, 7.4867e-08, 4.2696e-11,\n",
       "         1.2092e-04, 2.7559e-03, 1.8810e-06, 8.5776e-09, 9.2177e-08, 2.2308e-10,\n",
       "         4.2878e-10, 9.7797e-08, 1.9173e-12, 2.4106e-08, 2.2819e-08, 7.1865e-07,\n",
       "         3.6098e-10, 3.7589e-11, 3.2382e-05],\n",
       "        [2.4772e-11, 1.0769e-16, 2.8638e-11, 6.7269e-13, 3.0961e-12, 9.0158e-07,\n",
       "         7.2018e-14, 3.9350e-09, 7.7188e-07, 1.0469e-08, 1.5601e-10, 7.2008e-09,\n",
       "         1.3332e-14, 4.8079e-05, 1.5577e-08, 4.7432e-19, 1.4132e-10, 9.7755e-12,\n",
       "         4.4275e-08, 3.2002e-15, 2.0752e-07, 6.7069e-15, 9.9913e-01, 5.7118e-08,\n",
       "         1.7131e-11, 1.0874e-15, 8.2485e-04],\n",
       "        [2.4451e-06, 2.8833e-15, 2.4237e-09, 1.5067e-06, 2.2747e-11, 2.4034e-08,\n",
       "         5.8114e-08, 5.6558e-06, 6.9667e-09, 6.6671e-02, 3.4877e-06, 2.3131e-13,\n",
       "         9.6025e-07, 2.0020e-03, 5.1627e-01, 1.1463e-12, 5.5449e-10, 1.4862e-10,\n",
       "         1.5455e-08, 4.5689e-14, 1.6195e-03, 2.5947e-17, 4.1328e-01, 8.0624e-06,\n",
       "         6.1828e-11, 1.5035e-10, 1.3448e-04],\n",
       "        [3.7467e-10, 2.1684e-18, 5.8161e-02, 7.8277e-08, 3.5130e-07, 9.8548e-05,\n",
       "         1.0741e-06, 1.5245e-10, 1.0694e-01, 6.2098e-05, 3.9464e-08, 1.0126e-17,\n",
       "         3.9287e-07, 6.6303e-09, 8.3472e-01, 2.0984e-09, 8.0916e-10, 5.0386e-08,\n",
       "         4.3310e-08, 9.2376e-12, 7.3355e-12, 1.7359e-15, 1.6310e-05, 6.3228e-07,\n",
       "         1.2704e-11, 1.5193e-12, 3.6295e-10],\n",
       "        [2.5219e-06, 4.8253e-12, 1.0010e-09, 5.8054e-08, 4.2635e-05, 3.2798e-06,\n",
       "         1.0486e-06, 1.7575e-07, 3.3201e-01, 1.5939e-07, 4.4054e-07, 9.8161e-09,\n",
       "         1.2844e-04, 6.6611e-01, 3.5620e-06, 6.2816e-11, 8.6584e-07, 1.6871e-09,\n",
       "         8.5803e-09, 4.5193e-09, 2.5895e-10, 1.1143e-08, 4.4662e-06, 9.4176e-07,\n",
       "         6.4634e-10, 1.9833e-11, 1.6905e-03],\n",
       "        [2.0833e-08, 4.5444e-15, 4.1563e-07, 4.0287e-09, 6.1270e-05, 5.2188e-07,\n",
       "         1.2010e-07, 1.3786e-11, 9.9989e-01, 4.6854e-09, 5.4414e-09, 1.1299e-12,\n",
       "         7.4151e-06, 3.3954e-05, 1.5603e-06, 1.1200e-08, 5.1050e-09, 4.9347e-11,\n",
       "         1.8044e-10, 2.3981e-08, 8.1340e-13, 7.7861e-10, 1.7687e-08, 6.6414e-08,\n",
       "         1.7544e-11, 1.4325e-11, 8.5395e-07],\n",
       "        [3.1505e-10, 4.4863e-12, 3.1239e-08, 1.7197e-07, 5.4782e-03, 5.6636e-09,\n",
       "         3.2431e-02, 8.8232e-17, 9.5719e-01, 2.2383e-08, 4.5249e-08, 5.7669e-07,\n",
       "         3.5344e-07, 4.3835e-03, 6.4854e-11, 1.5898e-06, 2.2397e-06, 2.5202e-07,\n",
       "         3.6075e-10, 4.9579e-04, 8.9512e-12, 3.1818e-08, 3.4136e-11, 1.6859e-05,\n",
       "         2.0700e-08, 1.4639e-10, 4.0770e-06],\n",
       "        [1.2678e-09, 6.0534e-09, 9.0162e-04, 4.1855e-10, 9.9904e-01, 9.9421e-11,\n",
       "         4.2029e-08, 3.5561e-15, 1.9584e-05, 7.8839e-12, 3.9565e-10, 2.4255e-09,\n",
       "         9.7778e-10, 5.7500e-10, 5.7635e-10, 5.1694e-06, 2.1604e-12, 2.5759e-09,\n",
       "         1.8918e-10, 3.7601e-05, 1.3994e-11, 3.4985e-08, 8.8247e-09, 1.0700e-11,\n",
       "         9.9368e-09, 3.4885e-13, 1.2910e-10],\n",
       "        [5.3289e-13, 1.7610e-16, 9.2666e-13, 5.1328e-13, 1.1168e-11, 4.8214e-12,\n",
       "         9.0640e-12, 2.4691e-15, 1.8219e-09, 9.5443e-09, 2.3274e-06, 7.3501e-05,\n",
       "         1.0541e-19, 6.6594e-10, 1.1067e-11, 7.8092e-16, 2.0583e-13, 1.5187e-12,\n",
       "         5.0404e-09, 7.4617e-12, 3.6164e-08, 3.7337e-17, 9.9992e-01, 1.6257e-08,\n",
       "         3.4541e-12, 8.9913e-15, 2.7398e-09],\n",
       "        [2.1199e-08, 6.5275e-09, 3.4635e-09, 9.0240e-04, 8.9621e-08, 6.9338e-11,\n",
       "         1.0269e-07, 1.0354e-12, 6.3118e-11, 9.9885e-01, 3.5949e-09, 2.0596e-08,\n",
       "         1.7984e-05, 1.2107e-13, 3.9598e-08, 1.3956e-04, 5.4808e-09, 3.8709e-10,\n",
       "         8.7507e-05, 4.7496e-06, 1.5841e-08, 3.8700e-11, 1.1084e-10, 2.2537e-06,\n",
       "         2.1975e-09, 5.7381e-09, 8.0200e-09],\n",
       "        [9.3345e-10, 1.9848e-16, 5.7761e-01, 9.1887e-12, 9.8417e-04, 5.3543e-12,\n",
       "         1.0547e-07, 7.7602e-12, 8.7855e-08, 9.2574e-09, 8.1948e-08, 8.6412e-04,\n",
       "         1.9367e-13, 3.3072e-09, 1.0270e-05, 4.7931e-14, 2.3957e-13, 7.5302e-04,\n",
       "         3.6662e-04, 1.5666e-07, 9.2376e-08, 1.6999e-14, 4.1851e-01, 2.8790e-11,\n",
       "         1.3012e-08, 5.3473e-11, 8.9965e-04],\n",
       "        [2.5219e-06, 4.8253e-12, 1.0010e-09, 5.8054e-08, 4.2635e-05, 3.2798e-06,\n",
       "         1.0486e-06, 1.7575e-07, 3.3201e-01, 1.5939e-07, 4.4054e-07, 9.8161e-09,\n",
       "         1.2844e-04, 6.6611e-01, 3.5620e-06, 6.2816e-11, 8.6584e-07, 1.6871e-09,\n",
       "         8.5803e-09, 4.5193e-09, 2.5895e-10, 1.1143e-08, 4.4662e-06, 9.4176e-07,\n",
       "         6.4634e-10, 1.9833e-11, 1.6905e-03],\n",
       "        [2.0141e-06, 2.3572e-14, 4.3681e-03, 1.1230e-09, 1.0893e-04, 7.6459e-07,\n",
       "         8.0340e-09, 2.2773e-08, 4.4250e-01, 2.3075e-06, 1.7003e-08, 1.4941e-12,\n",
       "         4.5099e-08, 1.4495e-07, 1.4591e-03, 7.3674e-10, 3.5106e-09, 8.0498e-10,\n",
       "         8.9840e-09, 7.5827e-12, 1.6086e-07, 3.6275e-12, 5.5154e-01, 5.4873e-07,\n",
       "         3.4177e-11, 5.6524e-11, 1.0801e-05],\n",
       "        [1.8322e-07, 3.8057e-15, 8.9825e-02, 3.3893e-04, 2.1001e-10, 5.0422e-03,\n",
       "         8.4254e-04, 1.5528e-14, 4.9138e-04, 6.8724e-01, 4.8029e-03, 3.3185e-09,\n",
       "         8.3898e-11, 8.2734e-05, 3.6186e-02, 1.3721e-09, 3.8384e-09, 7.5350e-05,\n",
       "         2.7429e-04, 2.5197e-11, 3.7716e-02, 2.3331e-16, 1.3615e-01, 7.6283e-04,\n",
       "         2.4667e-07, 4.1796e-11, 1.7570e-04],\n",
       "        [5.4973e-09, 4.2218e-17, 9.9546e-01, 3.0585e-07, 1.4752e-08, 3.7219e-08,\n",
       "         3.7860e-09, 4.5565e-08, 1.7713e-10, 4.5195e-03, 9.4382e-12, 3.1401e-11,\n",
       "         8.8870e-08, 6.2965e-13, 4.1756e-06, 3.9777e-09, 1.5638e-14, 2.5637e-07,\n",
       "         5.9088e-08, 7.1136e-10, 5.0630e-09, 1.1215e-17, 1.2659e-05, 5.2939e-10,\n",
       "         4.4878e-10, 2.7135e-07, 1.5187e-07],\n",
       "        [2.5219e-06, 4.8253e-12, 1.0010e-09, 5.8054e-08, 4.2635e-05, 3.2798e-06,\n",
       "         1.0486e-06, 1.7575e-07, 3.3201e-01, 1.5939e-07, 4.4054e-07, 9.8161e-09,\n",
       "         1.2844e-04, 6.6611e-01, 3.5620e-06, 6.2816e-11, 8.6584e-07, 1.6871e-09,\n",
       "         8.5803e-09, 4.5193e-09, 2.5895e-10, 1.1143e-08, 4.4662e-06, 9.4176e-07,\n",
       "         6.4634e-10, 1.9833e-11, 1.6905e-03],\n",
       "        [1.1038e-09, 1.2516e-14, 1.9826e-01, 1.3025e-07, 8.5069e-04, 1.2914e-09,\n",
       "         1.5634e-09, 7.1482e-14, 7.8424e-01, 4.2609e-11, 8.1981e-10, 2.3897e-12,\n",
       "         8.3718e-07, 4.1708e-08, 9.3026e-08, 1.6646e-02, 1.2264e-09, 7.2103e-09,\n",
       "         2.4370e-12, 2.6749e-07, 9.7808e-13, 1.7138e-09, 2.3460e-09, 3.2754e-08,\n",
       "         1.8679e-12, 2.9762e-10, 3.4076e-10],\n",
       "        [1.3815e-11, 1.0691e-08, 3.6733e-10, 5.1297e-07, 1.3880e-04, 1.3730e-09,\n",
       "         6.3270e-05, 3.6049e-16, 8.0854e-04, 4.8533e-07, 2.2444e-03, 9.9643e-01,\n",
       "         2.5749e-13, 2.0903e-04, 1.5855e-13, 2.7434e-08, 1.0831e-08, 9.4759e-05,\n",
       "         2.8177e-10, 8.6521e-06, 1.7768e-08, 1.7767e-08, 3.2554e-10, 1.0629e-07,\n",
       "         2.9197e-09, 1.1793e-10, 6.1347e-07],\n",
       "        [4.4400e-05, 2.4615e-08, 3.8696e-05, 2.3539e-10, 1.6872e-04, 7.1534e-08,\n",
       "         4.2634e-09, 4.5434e-05, 4.0875e-06, 2.3423e-05, 1.2857e-05, 2.8716e-03,\n",
       "         1.1872e-09, 6.4054e-11, 1.2127e-06, 3.9666e-11, 5.0175e-13, 3.2584e-11,\n",
       "         2.8612e-05, 3.4953e-09, 3.0333e-05, 4.8161e-09, 9.9504e-01, 1.2147e-09,\n",
       "         6.4989e-09, 3.7125e-11, 1.6939e-03],\n",
       "        [3.4307e-14, 1.2917e-13, 2.0847e-17, 7.2940e-05, 4.8311e-16, 3.3637e-12,\n",
       "         5.5986e-08, 3.5267e-20, 2.0771e-10, 9.9990e-01, 3.0742e-07, 2.2894e-10,\n",
       "         6.9230e-10, 5.2994e-10, 2.3373e-12, 2.1786e-05, 1.5908e-09, 1.4215e-12,\n",
       "         3.3214e-09, 1.8548e-08, 6.7750e-10, 9.8617e-14, 5.6959e-14, 1.9505e-06,\n",
       "         1.6486e-12, 1.6785e-12, 1.7072e-10],\n",
       "        [4.5598e-07, 1.3084e-10, 3.4801e-03, 3.8407e-14, 4.0199e-02, 3.4412e-09,\n",
       "         2.7095e-07, 1.8722e-07, 7.7189e-09, 1.4105e-08, 1.1787e-09, 9.4527e-01,\n",
       "         5.2456e-06, 3.9007e-08, 2.8853e-07, 2.6099e-13, 3.8887e-10, 4.5898e-08,\n",
       "         6.6916e-10, 2.0105e-10, 8.7876e-12, 7.1744e-11, 5.8328e-08, 4.6855e-12,\n",
       "         5.1556e-07, 1.8709e-04, 1.0861e-02],\n",
       "        [3.6846e-05, 1.5149e-01, 3.7507e-11, 1.8055e-05, 4.2249e-02, 1.1970e-07,\n",
       "         2.0869e-03, 6.1564e-11, 2.0663e-02, 1.0117e-05, 7.2453e-06, 7.2328e-05,\n",
       "         1.1109e-03, 3.8205e-01, 1.2647e-09, 9.7195e-02, 4.6787e-05, 2.0515e-10,\n",
       "         6.4480e-06, 4.8075e-02, 2.8311e-06, 7.1037e-02, 8.3757e-08, 1.7848e-01,\n",
       "         2.8862e-06, 3.4996e-09, 5.3602e-03],\n",
       "        [4.9694e-07, 3.0924e-06, 7.0211e-09, 7.3045e-09, 7.7338e-01, 7.4480e-10,\n",
       "         1.4412e-03, 1.7098e-13, 1.9718e-01, 5.8990e-10, 1.9200e-07, 1.5044e-02,\n",
       "         3.2238e-05, 5.1757e-03, 5.0416e-12, 9.0103e-07, 1.3529e-06, 2.4727e-08,\n",
       "         2.2255e-08, 5.9057e-03, 4.5012e-10, 1.7092e-03, 1.3321e-10, 1.0218e-06,\n",
       "         4.2577e-07, 7.3435e-09, 1.2978e-04],\n",
       "        [1.5585e-10, 8.2955e-13, 1.6270e-07, 1.0494e-13, 2.6401e-07, 1.7955e-12,\n",
       "         2.4031e-13, 3.3674e-09, 6.0100e-04, 2.7092e-09, 5.5495e-09, 8.4659e-07,\n",
       "         1.0574e-13, 1.3662e-08, 6.9846e-10, 5.8173e-12, 5.9917e-13, 1.4972e-12,\n",
       "         4.6463e-09, 1.1803e-12, 7.9740e-09, 6.4930e-13, 9.9939e-01, 1.2883e-10,\n",
       "         1.0312e-13, 1.9162e-15, 4.0772e-06],\n",
       "        [2.5219e-06, 4.8253e-12, 1.0010e-09, 5.8054e-08, 4.2635e-05, 3.2798e-06,\n",
       "         1.0486e-06, 1.7575e-07, 3.3201e-01, 1.5939e-07, 4.4054e-07, 9.8161e-09,\n",
       "         1.2844e-04, 6.6611e-01, 3.5620e-06, 6.2816e-11, 8.6584e-07, 1.6871e-09,\n",
       "         8.5803e-09, 4.5193e-09, 2.5895e-10, 1.1143e-08, 4.4662e-06, 9.4176e-07,\n",
       "         6.4634e-10, 1.9833e-11, 1.6905e-03],\n",
       "        [4.9975e-10, 5.2610e-12, 2.3043e-07, 2.7144e-08, 1.1672e-03, 1.5303e-08,\n",
       "         4.1854e-03, 5.7750e-15, 9.9418e-01, 3.4993e-11, 2.6342e-08, 1.4652e-10,\n",
       "         2.1848e-04, 1.2301e-04, 9.6320e-09, 1.1140e-04, 2.5933e-07, 1.5182e-08,\n",
       "         2.1358e-11, 1.1012e-05, 1.7174e-12, 1.1300e-07, 1.3641e-12, 1.1508e-06,\n",
       "         3.5707e-09, 8.1280e-11, 5.4784e-06],\n",
       "        [9.0937e-08, 1.7373e-10, 1.0104e-07, 3.4692e-11, 3.6542e-03, 4.0638e-09,\n",
       "         1.9659e-06, 1.1151e-12, 9.9163e-01, 1.0197e-10, 2.1732e-08, 5.3494e-05,\n",
       "         5.3494e-09, 4.6518e-03, 8.0134e-11, 2.2867e-12, 2.1908e-09, 5.4575e-07,\n",
       "         4.7363e-11, 8.4741e-09, 1.0895e-11, 3.9715e-08, 2.6415e-07, 1.0493e-08,\n",
       "         9.6695e-10, 4.1404e-11, 4.7726e-06],\n",
       "        [3.4604e-09, 8.7455e-14, 3.4683e-16, 2.2723e-12, 3.5921e-12, 3.7195e-09,\n",
       "         3.1309e-12, 2.1025e-08, 3.1184e-10, 2.8601e-05, 3.7091e-09, 1.5663e-07,\n",
       "         5.4847e-13, 1.9302e-04, 4.1754e-11, 2.6871e-17, 1.4565e-13, 1.4375e-14,\n",
       "         7.8027e-10, 2.6433e-14, 2.5482e-05, 1.6131e-15, 9.9972e-01, 1.7247e-05,\n",
       "         1.2292e-11, 2.2876e-13, 1.2720e-05],\n",
       "        [8.0289e-07, 1.5959e-16, 8.8282e-08, 6.1141e-08, 2.8593e-10, 7.9674e-07,\n",
       "         4.2657e-11, 1.3198e-09, 2.0669e-08, 9.9993e-01, 3.0992e-09, 1.3498e-14,\n",
       "         9.0249e-06, 8.6802e-06, 4.8649e-05, 5.3703e-09, 1.3795e-12, 1.7312e-14,\n",
       "         3.0704e-09, 5.7978e-13, 1.5382e-10, 6.0106e-16, 3.4200e-06, 3.8328e-10,\n",
       "         8.9978e-13, 8.6779e-13, 3.1654e-07],\n",
       "        [3.9311e-14, 5.6852e-17, 9.1996e-01, 1.3366e-07, 3.3392e-02, 2.6165e-07,\n",
       "         4.4926e-04, 7.9926e-16, 4.6090e-02, 1.5567e-07, 1.9831e-11, 4.9288e-15,\n",
       "         5.0934e-10, 1.0462e-10, 1.1165e-06, 1.0584e-04, 7.6174e-08, 2.1102e-08,\n",
       "         3.9618e-12, 1.6100e-07, 3.2901e-12, 2.7423e-12, 7.4359e-13, 6.2712e-08,\n",
       "         5.4312e-09, 9.9775e-13, 2.1259e-12],\n",
       "        [1.4434e-10, 2.1920e-16, 4.5876e-04, 1.7718e-13, 3.0467e-07, 1.4854e-12,\n",
       "         3.1440e-10, 5.0671e-15, 3.4620e-08, 1.1161e-10, 3.9627e-07, 5.9752e-05,\n",
       "         1.9494e-16, 5.1954e-10, 5.2910e-07, 3.0054e-15, 1.5262e-13, 2.1193e-07,\n",
       "         3.2602e-08, 1.4283e-11, 6.3347e-08, 2.4914e-17, 9.9948e-01, 1.1570e-11,\n",
       "         3.3121e-10, 9.2813e-14, 9.9827e-07]])"
      ]
     },
     "execution_count": 98,
     "metadata": {},
     "output_type": "execute_result"
    }
   ],
   "source": [
    "probs"
   ]
  },
  {
   "cell_type": "markdown",
   "id": "5c2a2f24-9414-4626-8818-5cad23523baf",
   "metadata": {},
   "source": [
    "## Cont..."
   ]
  },
  {
   "cell_type": "code",
   "execution_count": 101,
   "id": "a0192082-1592-43a0-b719-2f9d43d80c90",
   "metadata": {
    "execution": {
     "iopub.execute_input": "2024-04-20T14:13:22.731946Z",
     "iopub.status.busy": "2024-04-20T14:13:22.731668Z",
     "iopub.status.idle": "2024-04-20T14:13:22.739706Z",
     "shell.execute_reply": "2024-04-20T14:13:22.738693Z",
     "shell.execute_reply.started": "2024-04-20T14:13:22.731925Z"
    }
   },
   "outputs": [],
   "source": [
    "loss = -probs[torch.arange(number_of_training_samples), Y].log().mean()"
   ]
  },
  {
   "cell_type": "code",
   "execution_count": 102,
   "id": "e44958c1-5693-4024-9c85-a6dcb07e2f98",
   "metadata": {
    "execution": {
     "iopub.execute_input": "2024-04-20T14:13:23.480651Z",
     "iopub.status.busy": "2024-04-20T14:13:23.480332Z",
     "iopub.status.idle": "2024-04-20T14:13:23.485708Z",
     "shell.execute_reply": "2024-04-20T14:13:23.485067Z",
     "shell.execute_reply.started": "2024-04-20T14:13:23.480627Z"
    }
   },
   "outputs": [
    {
     "data": {
      "text/plain": [
       "tensor(17.5703)"
      ]
     },
     "execution_count": 102,
     "metadata": {},
     "output_type": "execute_result"
    }
   ],
   "source": [
    "loss"
   ]
  },
  {
   "cell_type": "markdown",
   "id": "63b5f321-3581-4440-b4d2-b7d10ad563b5",
   "metadata": {},
   "source": [
    "## Putting it all together - 1 "
   ]
  },
  {
   "cell_type": "code",
   "execution_count": 41,
   "id": "248af55b-6351-4d23-a4ce-bd3ce5ef1f37",
   "metadata": {
    "execution": {
     "iopub.execute_input": "2024-04-20T15:38:09.690434Z",
     "iopub.status.busy": "2024-04-20T15:38:09.690137Z",
     "iopub.status.idle": "2024-04-20T15:38:09.695271Z",
     "shell.execute_reply": "2024-04-20T15:38:09.694538Z",
     "shell.execute_reply.started": "2024-04-20T15:38:09.690411Z"
    }
   },
   "outputs": [
    {
     "data": {
      "text/plain": [
       "(torch.Size([228146, 3]), torch.Size([228146]))"
      ]
     },
     "execution_count": 41,
     "metadata": {},
     "output_type": "execute_result"
    }
   ],
   "source": [
    "X.shape, Y.shape  # dataset"
   ]
  },
  {
   "cell_type": "code",
   "execution_count": 62,
   "id": "f5125826-4e7b-4bf0-a5f7-d8a8c1f4bc75",
   "metadata": {
    "execution": {
     "iopub.execute_input": "2024-04-20T16:20:50.470019Z",
     "iopub.status.busy": "2024-04-20T16:20:50.469691Z",
     "iopub.status.idle": "2024-04-20T16:20:50.475409Z",
     "shell.execute_reply": "2024-04-20T16:20:50.474507Z",
     "shell.execute_reply.started": "2024-04-20T16:20:50.469986Z"
    }
   },
   "outputs": [],
   "source": [
    "input_characters      = 3\n",
    "dim_of_each_character = embedding.shape[-1]\n",
    "input_layer_nodes     = input_characters * dim_of_each_character\n",
    "W1_neuron_count       = 100\n",
    "b1_count              = W1_neuron_count"
   ]
  },
  {
   "cell_type": "code",
   "execution_count": 63,
   "id": "f3648a38-2ee9-4f95-afb9-c776baad6c34",
   "metadata": {
    "execution": {
     "iopub.execute_input": "2024-04-20T16:20:52.216060Z",
     "iopub.status.busy": "2024-04-20T16:20:52.215806Z",
     "iopub.status.idle": "2024-04-20T16:20:52.220402Z",
     "shell.execute_reply": "2024-04-20T16:20:52.219641Z",
     "shell.execute_reply.started": "2024-04-20T16:20:52.216041Z"
    }
   },
   "outputs": [],
   "source": [
    "g = torch.Generator().manual_seed(2147483647)  # For reproducibility\n",
    "\n",
    "C =  torch.randn((dim, 2), generator=g)\n",
    "\n",
    "W1 = torch.randn((input_layer_nodes, W1_neuron_count), generator=g)\n",
    "b1 = torch.randn(b1_count, generator=g)\n",
    "\n",
    "W2 = torch.randn((W1_neuron_count, dim), generator=g)\n",
    "b2 = torch.randn(dim, generator=g)\n",
    "\n",
    "parameters = [C, W1, b1, W2, b2]"
   ]
  },
  {
   "cell_type": "code",
   "execution_count": 44,
   "id": "7d08e9f2-c221-448c-a864-e79d6a0190fb",
   "metadata": {
    "execution": {
     "iopub.execute_input": "2024-04-20T15:38:11.636705Z",
     "iopub.status.busy": "2024-04-20T15:38:11.636410Z",
     "iopub.status.idle": "2024-04-20T15:38:11.641655Z",
     "shell.execute_reply": "2024-04-20T15:38:11.640931Z",
     "shell.execute_reply.started": "2024-04-20T15:38:11.636683Z"
    }
   },
   "outputs": [
    {
     "data": {
      "text/plain": [
       "3481"
      ]
     },
     "execution_count": 44,
     "metadata": {},
     "output_type": "execute_result"
    }
   ],
   "source": [
    "sum(p.nelement() for p in parameters)  # Number of parameters in total"
   ]
  },
  {
   "cell_type": "code",
   "execution_count": 45,
   "id": "94ad61e0-ba85-4b6e-a135-e3067b4cf904",
   "metadata": {
    "execution": {
     "iopub.execute_input": "2024-04-20T15:38:11.860624Z",
     "iopub.status.busy": "2024-04-20T15:38:11.860342Z",
     "iopub.status.idle": "2024-04-20T15:38:11.863959Z",
     "shell.execute_reply": "2024-04-20T15:38:11.863053Z",
     "shell.execute_reply.started": "2024-04-20T15:38:11.860601Z"
    }
   },
   "outputs": [],
   "source": [
    "for p in parameters:\n",
    "    p.requires_grad = True"
   ]
  },
  {
   "cell_type": "markdown",
   "id": "f2a3ff08-3e44-4899-9a81-989007fd0179",
   "metadata": {
    "jp-MarkdownHeadingCollapsed": true
   },
   "source": [
    "### Normal"
   ]
  },
  {
   "cell_type": "code",
   "execution_count": 45,
   "id": "4bb616b1-48f9-47bf-8822-b057f65485eb",
   "metadata": {
    "execution": {
     "iopub.execute_input": "2024-04-20T14:16:49.215263Z",
     "iopub.status.busy": "2024-04-20T14:16:49.214965Z",
     "iopub.status.idle": "2024-04-20T14:17:11.018161Z",
     "shell.execute_reply": "2024-04-20T14:17:11.017432Z",
     "shell.execute_reply.started": "2024-04-20T14:16:49.215241Z"
    }
   },
   "outputs": [
    {
     "name": "stdout",
     "output_type": "stream",
     "text": [
      "[+] Epoc: 0   | Loss: 19.5052\n",
      "[+] Epoc: 10  | Loss: 10.7096\n",
      "[+] Epoc: 20  | Loss: 8.3292\n",
      "[+] Epoc: 30  | Loss: 6.795\n",
      "[+] Epoc: 40  | Loss: 5.8031\n",
      "[+] Epoc: 50  | Loss: 5.1055\n",
      "[+] Epoc: 60  | Loss: 4.5874\n",
      "[+] Epoc: 70  | Loss: 4.2026\n",
      "[+] Epoc: 80  | Loss: 3.9281\n",
      "[+] Epoc: 90  | Loss: 3.7287\n",
      "[+] Epoc: 100 | Loss: 3.5755\n"
     ]
    }
   ],
   "source": [
    "no_of_epoc = 101\n",
    "\n",
    "for epoc in range(no_of_epoc):\n",
    "\n",
    "    # FORWARD PASS\n",
    "    \n",
    "    embedding = C[X]  # [32, 3, 2]\n",
    "    h = embedding.reshape(-1, input_layer_nodes)  # [32, 6]\n",
    "    h = torch.tanh(h @ W1 + b1)  # [32, 100]\n",
    "    logits = h @ W2 + b2  # [32, 27]\n",
    "    \n",
    "    # counts = logits.exp()  # fake count  # [32, 27]\n",
    "    # probs = counts / counts.sum(1, keepdim=True)  # [32, 27]\n",
    "    # loss = -probs[torch.arange(number_of_training_samples), Y].log().mean()\n",
    "    \n",
    "    # All the above 3 lines can be replaced with below single line, which basically does the same thing.\n",
    "    # Because we are usign cross entropy, we get below benifits:\n",
    "    #    - the forward pass is much efficient \n",
    "    #    - the backwoard pass is also much efficient\n",
    "    #    - numerically stable process\n",
    "    loss = F.cross_entropy(logits, Y)\n",
    "    \n",
    "    \n",
    "    # BACKWARD PASS\n",
    "    \n",
    "    for p in parameters:\n",
    "        p.grad = None\n",
    "    \n",
    "    loss.backward()\n",
    "    \n",
    "    for p in parameters:\n",
    "        p.data += -0.1 * p.grad\n",
    "    \n",
    "    if epoc%10==0:\n",
    "        print(f'[+] Epoc: {epoc:<5} | Loss: {round(loss.item(), 4)}')\n"
   ]
  },
  {
   "cell_type": "markdown",
   "id": "8b3480e9-191e-4433-9fb4-bb2afc998236",
   "metadata": {
    "jp-MarkdownHeadingCollapsed": true
   },
   "source": [
    "### Mini batch version"
   ]
  },
  {
   "cell_type": "code",
   "execution_count": 46,
   "id": "8fb2f615-0345-4079-aa00-e883ea94bc83",
   "metadata": {
    "execution": {
     "iopub.execute_input": "2024-04-20T14:18:31.728602Z",
     "iopub.status.busy": "2024-04-20T14:18:31.728058Z",
     "iopub.status.idle": "2024-04-20T14:18:31.784673Z",
     "shell.execute_reply": "2024-04-20T14:18:31.783936Z",
     "shell.execute_reply.started": "2024-04-20T14:18:31.728584Z"
    }
   },
   "outputs": [
    {
     "name": "stdout",
     "output_type": "stream",
     "text": [
      "[+] Epoc: 0   | Loss: 3.1368\n",
      "[+] Epoc: 10  | Loss: 3.1352\n",
      "[+] Epoc: 20  | Loss: 3.5291\n",
      "[+] Epoc: 30  | Loss: 2.3907\n",
      "[+] Epoc: 40  | Loss: 3.0332\n",
      "[+] Epoc: 50  | Loss: 3.3525\n",
      "[+] Epoc: 60  | Loss: 3.6675\n",
      "[+] Epoc: 70  | Loss: 2.3661\n",
      "[+] Epoc: 80  | Loss: 3.6176\n",
      "[+] Epoc: 90  | Loss: 3.1297\n",
      "[+] Epoc: 100 | Loss: 3.2255\n"
     ]
    }
   ],
   "source": [
    "no_of_epoc = 101\n",
    "\n",
    "for epoc in range(no_of_epoc):\n",
    "\n",
    "    # MINI-BATCH CONSTRUCT\n",
    "    ix = torch.randint(0, X.shape[0], (32,))\n",
    "\n",
    "    # FORWARD PASS\n",
    "    embedding = C[X[ix]]\n",
    "    h = embedding.reshape(-1, input_layer_nodes)\n",
    "    h = torch.tanh(h @ W1 + b1)\n",
    "    logits = h @ W2 + b2\n",
    "    loss = F.cross_entropy(logits, Y[ix])\n",
    "    \n",
    "    \n",
    "    # BACKWARD PASS\n",
    "    for p in parameters:\n",
    "        p.grad = None\n",
    "    \n",
    "    loss.backward()\n",
    "    \n",
    "    for p in parameters:\n",
    "        p.data += -0.1 * p.grad\n",
    "    \n",
    "    if epoc%10==0:\n",
    "        print(f'[+] Epoc: {epoc:<3} | Loss: {round(loss.item(), 4)}')"
   ]
  },
  {
   "cell_type": "markdown",
   "id": "b7b575f5-85ae-4d30-8cbc-f9d92d474354",
   "metadata": {
    "jp-MarkdownHeadingCollapsed": true
   },
   "source": [
    "### Find good Learning rate"
   ]
  },
  {
   "cell_type": "code",
   "execution_count": 64,
   "id": "b1bdb7b8-29be-44fd-b977-f901624448f3",
   "metadata": {
    "execution": {
     "iopub.execute_input": "2024-04-20T16:20:56.898595Z",
     "iopub.status.busy": "2024-04-20T16:20:56.898323Z",
     "iopub.status.idle": "2024-04-20T16:20:56.901657Z",
     "shell.execute_reply": "2024-04-20T16:20:56.901028Z",
     "shell.execute_reply.started": "2024-04-20T16:20:56.898573Z"
    }
   },
   "outputs": [],
   "source": [
    "no_of_epoc = 5001\n",
    "\n",
    "count_of_learning_rate = no_of_epoc"
   ]
  },
  {
   "cell_type": "code",
   "execution_count": 65,
   "id": "8c0e9e52-c7ef-4d31-99de-1de32a1d109c",
   "metadata": {
    "execution": {
     "iopub.execute_input": "2024-04-20T16:20:57.245547Z",
     "iopub.status.busy": "2024-04-20T16:20:57.245073Z",
     "iopub.status.idle": "2024-04-20T16:20:57.249014Z",
     "shell.execute_reply": "2024-04-20T16:20:57.248413Z",
     "shell.execute_reply.started": "2024-04-20T16:20:57.245525Z"
    }
   },
   "outputs": [],
   "source": [
    "lre = torch.linspace(-3, 0, count_of_learning_rate)\n",
    "lrs = 10**lre"
   ]
  },
  {
   "cell_type": "code",
   "execution_count": 66,
   "id": "5ca3a785-2b71-43d9-b3c7-c6db8cb3c488",
   "metadata": {
    "execution": {
     "iopub.execute_input": "2024-04-20T16:20:57.760412Z",
     "iopub.status.busy": "2024-04-20T16:20:57.760153Z",
     "iopub.status.idle": "2024-04-20T16:20:57.767798Z",
     "shell.execute_reply": "2024-04-20T16:20:57.767090Z",
     "shell.execute_reply.started": "2024-04-20T16:20:57.760395Z"
    }
   },
   "outputs": [
    {
     "data": {
      "text/plain": [
       "tensor([-3.0000, -2.9994, -2.9988, -2.9982, -2.9976, -2.9970, -2.9964, -2.9958,\n",
       "        -2.9952, -2.9946])"
      ]
     },
     "execution_count": 66,
     "metadata": {},
     "output_type": "execute_result"
    }
   ],
   "source": [
    "lre[:10]"
   ]
  },
  {
   "cell_type": "code",
   "execution_count": 67,
   "id": "0efdac4f-88b7-47de-aa4f-edf1726c5680",
   "metadata": {
    "execution": {
     "iopub.execute_input": "2024-04-20T16:20:58.634894Z",
     "iopub.status.busy": "2024-04-20T16:20:58.634628Z",
     "iopub.status.idle": "2024-04-20T16:20:58.639789Z",
     "shell.execute_reply": "2024-04-20T16:20:58.639160Z",
     "shell.execute_reply.started": "2024-04-20T16:20:58.634874Z"
    },
    "scrolled": true
   },
   "outputs": [
    {
     "data": {
      "text/plain": [
       "tensor([0.0010, 0.0010, 0.0010, 0.0010, 0.0010, 0.0010, 0.0010, 0.0010, 0.0010,\n",
       "        0.0010])"
      ]
     },
     "execution_count": 67,
     "metadata": {},
     "output_type": "execute_result"
    }
   ],
   "source": [
    "lrs[:10]"
   ]
  },
  {
   "cell_type": "code",
   "execution_count": 68,
   "id": "066571ea-1950-4942-99e8-c29b9decf6c1",
   "metadata": {
    "execution": {
     "iopub.execute_input": "2024-04-20T16:21:00.177403Z",
     "iopub.status.busy": "2024-04-20T16:21:00.177131Z",
     "iopub.status.idle": "2024-04-20T16:21:00.180632Z",
     "shell.execute_reply": "2024-04-20T16:21:00.179766Z",
     "shell.execute_reply.started": "2024-04-20T16:21:00.177384Z"
    }
   },
   "outputs": [],
   "source": [
    "for p in parameters:\n",
    "    p.requires_grad = True"
   ]
  },
  {
   "cell_type": "code",
   "execution_count": 69,
   "id": "0d7b9759-1a41-4dfd-8bce-c7c2920514b2",
   "metadata": {
    "execution": {
     "iopub.execute_input": "2024-04-20T16:21:12.050139Z",
     "iopub.status.busy": "2024-04-20T16:21:12.049836Z",
     "iopub.status.idle": "2024-04-20T16:21:13.953190Z",
     "shell.execute_reply": "2024-04-20T16:21:13.952508Z",
     "shell.execute_reply.started": "2024-04-20T16:21:12.050122Z"
    },
    "scrolled": true
   },
   "outputs": [
    {
     "name": "stdout",
     "output_type": "stream",
     "text": [
      "[+] Epoc: 0     | lr: 0.001   | Loss: 18.562\n",
      "[+] Epoc: 100   | lr: 0.0011  | Loss: 17.3289\n",
      "[+] Epoc: 200   | lr: 0.0013  | Loss: 12.9705\n",
      "[+] Epoc: 300   | lr: 0.0015  | Loss: 13.088\n",
      "[+] Epoc: 400   | lr: 0.0017  | Loss: 14.5135\n",
      "[+] Epoc: 500   | lr: 0.002   | Loss: 11.6533\n",
      "[+] Epoc: 600   | lr: 0.0023  | Loss: 13.9044\n",
      "[+] Epoc: 700   | lr: 0.0026  | Loss: 10.0326\n",
      "[+] Epoc: 800   | lr: 0.003   | Loss: 9.0476\n",
      "[+] Epoc: 900   | lr: 0.0035  | Loss: 9.7132\n",
      "[+] Epoc: 1000  | lr: 0.004   | Loss: 6.7655\n",
      "[+] Epoc: 1100  | lr: 0.0046  | Loss: 6.2737\n",
      "[+] Epoc: 1200  | lr: 0.0052  | Loss: 5.0726\n",
      "[+] Epoc: 1300  | lr: 0.006   | Loss: 6.5179\n",
      "[+] Epoc: 1400  | lr: 0.0069  | Loss: 5.5851\n",
      "[+] Epoc: 1500  | lr: 0.0079  | Loss: 5.6074\n",
      "[+] Epoc: 1600  | lr: 0.0091  | Loss: 3.6322\n",
      "[+] Epoc: 1700  | lr: 0.0105  | Loss: 3.8478\n",
      "[+] Epoc: 1800  | lr: 0.012   | Loss: 3.8883\n",
      "[+] Epoc: 1900  | lr: 0.0138  | Loss: 4.1709\n",
      "[+] Epoc: 2000  | lr: 0.0158  | Loss: 3.5801\n",
      "[+] Epoc: 2100  | lr: 0.0182  | Loss: 3.3829\n",
      "[+] Epoc: 2200  | lr: 0.0209  | Loss: 3.6516\n",
      "[+] Epoc: 2300  | lr: 0.024   | Loss: 2.991\n",
      "[+] Epoc: 2400  | lr: 0.0275  | Loss: 2.4375\n",
      "[+] Epoc: 2500  | lr: 0.0316  | Loss: 2.7779\n",
      "[+] Epoc: 2600  | lr: 0.0363  | Loss: 2.9639\n",
      "[+] Epoc: 2700  | lr: 0.0417  | Loss: 2.9556\n",
      "[+] Epoc: 2800  | lr: 0.0479  | Loss: 2.6358\n",
      "[+] Epoc: 2900  | lr: 0.055   | Loss: 2.5028\n",
      "[+] Epoc: 3000  | lr: 0.0631  | Loss: 2.7731\n",
      "[+] Epoc: 3100  | lr: 0.0724  | Loss: 2.7761\n",
      "[+] Epoc: 3200  | lr: 0.0832  | Loss: 2.7813\n",
      "[+] Epoc: 3300  | lr: 0.0955  | Loss: 3.4324\n",
      "[+] Epoc: 3400  | lr: 0.1096  | Loss: 3.0909\n",
      "[+] Epoc: 3500  | lr: 0.1259  | Loss: 2.7465\n",
      "[+] Epoc: 3600  | lr: 0.1445  | Loss: 2.7215\n",
      "[+] Epoc: 3700  | lr: 0.166   | Loss: 2.8061\n",
      "[+] Epoc: 3800  | lr: 0.1905  | Loss: 2.9036\n",
      "[+] Epoc: 3900  | lr: 0.2188  | Loss: 2.9636\n",
      "[+] Epoc: 4000  | lr: 0.2512  | Loss: 3.5591\n",
      "[+] Epoc: 4100  | lr: 0.2884  | Loss: 2.9414\n",
      "[+] Epoc: 4200  | lr: 0.3311  | Loss: 2.8496\n",
      "[+] Epoc: 4300  | lr: 0.3802  | Loss: 3.3282\n",
      "[+] Epoc: 4400  | lr: 0.4365  | Loss: 4.5341\n",
      "[+] Epoc: 4500  | lr: 0.5012  | Loss: 3.9988\n",
      "[+] Epoc: 4600  | lr: 0.5754  | Loss: 3.1827\n",
      "[+] Epoc: 4700  | lr: 0.6607  | Loss: 3.57\n",
      "[+] Epoc: 4800  | lr: 0.7586  | Loss: 3.3852\n",
      "[+] Epoc: 4900  | lr: 0.871   | Loss: 5.8167\n",
      "[+] Epoc: 5000  | lr: 1.0     | Loss: 6.3798\n"
     ]
    }
   ],
   "source": [
    "track_lr   = []\n",
    "track_loss = []\n",
    "track_lre  = []\n",
    "\n",
    "for epoc in range(no_of_epoc):\n",
    "\n",
    "    # MINI-BATCH CONSTRUCT\n",
    "    ix = torch.randint(0, X.shape[0], (32,))\n",
    "\n",
    "    # FORWARD PASS\n",
    "    embedding = C[X[ix]]\n",
    "    h = embedding.reshape(-1, input_layer_nodes)\n",
    "    h = torch.tanh(h @ W1 + b1)\n",
    "    logits = h @ W2 + b2\n",
    "    loss = F.cross_entropy(logits, Y[ix])\n",
    "    \n",
    "    # BACKWARD PASS\n",
    "    for p in parameters:\n",
    "        p.grad = None\n",
    "    \n",
    "    loss.backward()\n",
    "\n",
    "    # UPDATE\n",
    "    learning_rate = epoc\n",
    "    learning_rate = lrs[learning_rate]\n",
    "    \n",
    "    for p in parameters:\n",
    "        p.data += -learning_rate * p.grad\n",
    "\n",
    "    # TRACKING\n",
    "    track_lr.append(learning_rate)\n",
    "    track_loss.append(loss.item())\n",
    "    track_lre.append(lre[epoc])\n",
    "    \n",
    "    if epoc%100==0:\n",
    "        print(f'[+] Epoc: {epoc:<5} | lr: {round(learning_rate.item(), 4):<7} | Loss: {round(loss.item(), 4)}')"
   ]
  },
  {
   "cell_type": "code",
   "execution_count": 71,
   "id": "d296a380-c2e1-4c62-8ad6-ea13caf0a5d3",
   "metadata": {
    "execution": {
     "iopub.execute_input": "2024-04-20T16:21:38.632985Z",
     "iopub.status.busy": "2024-04-20T16:21:38.632706Z",
     "iopub.status.idle": "2024-04-20T16:21:38.861498Z",
     "shell.execute_reply": "2024-04-20T16:21:38.860715Z",
     "shell.execute_reply.started": "2024-04-20T16:21:38.632963Z"
    },
    "scrolled": true
   },
   "outputs": [
    {
     "data": {
      "text/plain": [
       "[<matplotlib.lines.Line2D at 0x12d5c1f50>]"
      ]
     },
     "execution_count": 71,
     "metadata": {},
     "output_type": "execute_result"
    },
    {
     "data": {
      "image/png": "[encoded data removed]",
      "text/plain": [
       "<Figure size 640x480 with 1 Axes>"
      ]
     },
     "metadata": {},
     "output_type": "display_data"
    }
   ],
   "source": [
    "plt.plot(track_lre, track_loss)"
   ]
  },
  {
   "cell_type": "code",
   "execution_count": 70,
   "id": "04a51220-76ef-465d-b518-d624d8811d2a",
   "metadata": {
    "execution": {
     "iopub.execute_input": "2024-04-20T16:21:26.972450Z",
     "iopub.status.busy": "2024-04-20T16:21:26.972210Z",
     "iopub.status.idle": "2024-04-20T16:21:27.149177Z",
     "shell.execute_reply": "2024-04-20T16:21:27.148391Z",
     "shell.execute_reply.started": "2024-04-20T16:21:26.972433Z"
    },
    "scrolled": true
   },
   "outputs": [
    {
     "data": {
      "text/plain": [
       "[<matplotlib.lines.Line2D at 0x12d559950>]"
      ]
     },
     "execution_count": 70,
     "metadata": {},
     "output_type": "execute_result"
    },
    {
     "data": {
      "image/png": "[encoded data removed]",
      "text/plain": [
       "<Figure size 640x480 with 1 Axes>"
      ]
     },
     "metadata": {},
     "output_type": "display_data"
    }
   ],
   "source": [
    "plt.plot(track_lr, track_loss)"
   ]
  },
  {
   "cell_type": "markdown",
   "id": "666fc3c4-3112-4d2b-9fec-614276e51f60",
   "metadata": {},
   "source": [
    "From the above chart we can see that a good learning rate lies between 0.1 to 0.2"
   ]
  },
  {
   "cell_type": "markdown",
   "id": "8fb58bbc-6ed3-442b-ab6e-2df54ee5589e",
   "metadata": {
    "jp-MarkdownHeadingCollapsed": true
   },
   "source": [
    "### Final run post we find a good learning rate"
   ]
  },
  {
   "cell_type": "code",
   "execution_count": 56,
   "id": "d2601191-7a6c-44f2-959c-4cce3ae478b0",
   "metadata": {
    "execution": {
     "iopub.execute_input": "2024-04-20T14:20:18.006127Z",
     "iopub.status.busy": "2024-04-20T14:20:18.005833Z",
     "iopub.status.idle": "2024-04-20T14:20:19.943738Z",
     "shell.execute_reply": "2024-04-20T14:20:19.943133Z",
     "shell.execute_reply.started": "2024-04-20T14:20:18.006104Z"
    },
    "scrolled": true
   },
   "outputs": [
    {
     "name": "stdout",
     "output_type": "stream",
     "text": [
      "[+] Epoc: 0     | Loss: 3.2478\n",
      "[+] Epoc: 100   | Loss: 2.5292\n",
      "[+] Epoc: 200   | Loss: 2.3528\n",
      "[+] Epoc: 300   | Loss: 2.4895\n",
      "[+] Epoc: 400   | Loss: 2.702\n",
      "[+] Epoc: 500   | Loss: 2.5506\n",
      "[+] Epoc: 600   | Loss: 2.7935\n",
      "[+] Epoc: 700   | Loss: 2.3759\n",
      "[+] Epoc: 800   | Loss: 2.7065\n",
      "[+] Epoc: 900   | Loss: 2.386\n",
      "[+] Epoc: 1000  | Loss: 2.4793\n",
      "[+] Epoc: 1100  | Loss: 2.4899\n",
      "[+] Epoc: 1200  | Loss: 2.6834\n",
      "[+] Epoc: 1300  | Loss: 2.2638\n",
      "[+] Epoc: 1400  | Loss: 2.6412\n",
      "[+] Epoc: 1500  | Loss: 2.8678\n",
      "[+] Epoc: 1600  | Loss: 2.4635\n",
      "[+] Epoc: 1700  | Loss: 2.5211\n",
      "[+] Epoc: 1800  | Loss: 2.5001\n",
      "[+] Epoc: 1900  | Loss: 2.6987\n",
      "[+] Epoc: 2000  | Loss: 2.6926\n",
      "[+] Epoc: 2100  | Loss: 2.3703\n",
      "[+] Epoc: 2200  | Loss: 2.4619\n",
      "[+] Epoc: 2300  | Loss: 2.3193\n",
      "[+] Epoc: 2400  | Loss: 2.6391\n",
      "[+] Epoc: 2500  | Loss: 2.3305\n",
      "[+] Epoc: 2600  | Loss: 2.2513\n",
      "[+] Epoc: 2700  | Loss: 2.3265\n",
      "[+] Epoc: 2800  | Loss: 2.3703\n",
      "[+] Epoc: 2900  | Loss: 2.5903\n",
      "[+] Epoc: 3000  | Loss: 2.402\n",
      "[+] Epoc: 3100  | Loss: 2.2536\n",
      "[+] Epoc: 3200  | Loss: 2.5544\n",
      "[+] Epoc: 3300  | Loss: 2.3214\n",
      "[+] Epoc: 3400  | Loss: 2.7821\n",
      "[+] Epoc: 3500  | Loss: 2.5397\n",
      "[+] Epoc: 3600  | Loss: 2.4552\n",
      "[+] Epoc: 3700  | Loss: 2.3779\n",
      "[+] Epoc: 3800  | Loss: 2.5679\n",
      "[+] Epoc: 3900  | Loss: 2.3347\n",
      "[+] Epoc: 4000  | Loss: 2.4127\n",
      "[+] Epoc: 4100  | Loss: 2.1191\n",
      "[+] Epoc: 4200  | Loss: 2.4265\n",
      "[+] Epoc: 4300  | Loss: 2.5935\n",
      "[+] Epoc: 4400  | Loss: 2.7888\n",
      "[+] Epoc: 4500  | Loss: 2.8244\n",
      "[+] Epoc: 4600  | Loss: 2.5764\n",
      "[+] Epoc: 4700  | Loss: 2.4558\n",
      "[+] Epoc: 4800  | Loss: 2.2292\n",
      "[+] Epoc: 4900  | Loss: 2.5427\n",
      "[+] Epoc: 5000  | Loss: 2.3273\n"
     ]
    }
   ],
   "source": [
    "no_of_epoc = 5001\n",
    "\n",
    "for epoc in range(no_of_epoc):\n",
    "\n",
    "    # MINI-BATCH CONSTRUCT\n",
    "    ix = torch.randint(0, X.shape[0], (32,))\n",
    "\n",
    "    # FORWARD PASS\n",
    "    embedding = C[X[ix]]\n",
    "    h = embedding.reshape(-1, input_layer_nodes)\n",
    "    h = torch.tanh(h @ W1 + b1)\n",
    "    logits = h @ W2 + b2\n",
    "    loss = F.cross_entropy(logits, Y[ix])\n",
    "    \n",
    "    # BACKWARD PASS\n",
    "    for p in parameters:\n",
    "        p.grad = None\n",
    "    \n",
    "    loss.backward()\n",
    "\n",
    "    # UPDATE with decay\n",
    "    for p in parameters:\n",
    "        # p.data += -0.1 * p.grad\n",
    "        # p.data += -0.01 * p.grad\n",
    "        p.data += -0.005 * p.grad\n",
    "    \n",
    "    if epoc%100==0:\n",
    "        print(f'[+] Epoc: {epoc:<5} | Loss: {round(loss.item(), 4)}')"
   ]
  },
  {
   "cell_type": "code",
   "execution_count": 73,
   "id": "68305343-fc16-4fbd-98df-6fc01068a4a9",
   "metadata": {
    "execution": {
     "iopub.execute_input": "2024-04-22T18:09:04.034248Z",
     "iopub.status.busy": "2024-04-22T18:09:04.033970Z",
     "iopub.status.idle": "2024-04-22T18:09:04.234398Z",
     "shell.execute_reply": "2024-04-22T18:09:04.233726Z",
     "shell.execute_reply.started": "2024-04-22T18:09:04.034230Z"
    }
   },
   "outputs": [
    {
     "data": {
      "text/plain": [
       "5.575146675109863"
      ]
     },
     "execution_count": 73,
     "metadata": {},
     "output_type": "execute_result"
    }
   ],
   "source": [
    "# Loss on full data\n",
    "\n",
    "embedding = C[X]\n",
    "h = embedding.reshape(-1, input_layer_nodes)\n",
    "h = torch.tanh(h @ W1 + b1)\n",
    "logits = h @ W2 + b2\n",
    "loss = F.cross_entropy(logits, Y)\n",
    "loss.item()"
   ]
  },
  {
   "cell_type": "markdown",
   "id": "af20b492-d735-46a4-a2dc-ca8e8445a6aa",
   "metadata": {},
   "source": [
    "## Train split, Dev/Validation split, Test split\n",
    "80%, 10%, 10%"
   ]
  },
  {
   "cell_type": "code",
   "execution_count": 1,
   "id": "bb1bb1de-4b02-4af2-8822-2289c91954da",
   "metadata": {
    "execution": {
     "iopub.execute_input": "2024-04-20T14:21:31.267816Z",
     "iopub.status.busy": "2024-04-20T14:21:31.267501Z",
     "iopub.status.idle": "2024-04-20T14:21:31.272387Z",
     "shell.execute_reply": "2024-04-20T14:21:31.271511Z",
     "shell.execute_reply.started": "2024-04-20T14:21:31.267785Z"
    }
   },
   "outputs": [],
   "source": [
    "def create_train_val_test_split(lst):\n",
    "    total_len = len(lst)\n",
    "    first_end = int(total_len * 0.8)\n",
    "    second_end = int(total_len * 0.9)\n",
    "    \n",
    "    train_set = lst[:first_end]\n",
    "    val_set = lst[first_end:second_end]\n",
    "    test_set = lst[second_end:]\n",
    "    \n",
    "    return train_set, val_set, test_set"
   ]
  },
  {
   "cell_type": "code",
   "execution_count": 13,
   "id": "05faa088-4048-4664-8bfd-5541e0b5b35a",
   "metadata": {
    "execution": {
     "iopub.execute_input": "2024-04-20T14:22:38.501881Z",
     "iopub.status.busy": "2024-04-20T14:22:38.501582Z",
     "iopub.status.idle": "2024-04-20T14:22:38.519635Z",
     "shell.execute_reply": "2024-04-20T14:22:38.518836Z",
     "shell.execute_reply.started": "2024-04-20T14:22:38.501856Z"
    }
   },
   "outputs": [],
   "source": [
    "# SPLITTING THE DATA IN TRAINING, VALIDATION AND TEST SETS\n",
    "\n",
    "random.seed(42)\n",
    "random.shuffle(words)\n",
    "\n",
    "train_set, val_set, test_set = create_train_val_test_split(lst=words)"
   ]
  },
  {
   "cell_type": "code",
   "execution_count": 14,
   "id": "aa70ede5-4ee8-4fb1-8c2b-db8551710580",
   "metadata": {
    "execution": {
     "iopub.execute_input": "2024-04-20T14:22:39.585225Z",
     "iopub.status.busy": "2024-04-20T14:22:39.584931Z",
     "iopub.status.idle": "2024-04-20T14:22:39.590150Z",
     "shell.execute_reply": "2024-04-20T14:22:39.589246Z",
     "shell.execute_reply.started": "2024-04-20T14:22:39.585204Z"
    }
   },
   "outputs": [
    {
     "data": {
      "text/plain": [
       "(32033, 32033)"
      ]
     },
     "execution_count": 14,
     "metadata": {},
     "output_type": "execute_result"
    }
   ],
   "source": [
    "len(words), len(train_set) + len(val_set) + len(test_set)"
   ]
  },
  {
   "cell_type": "code",
   "execution_count": 19,
   "id": "75e8028d-6246-4608-a993-53fcc8e547e3",
   "metadata": {
    "execution": {
     "iopub.execute_input": "2024-04-20T14:23:58.926212Z",
     "iopub.status.busy": "2024-04-20T14:23:58.925606Z",
     "iopub.status.idle": "2024-04-20T14:23:58.932353Z",
     "shell.execute_reply": "2024-04-20T14:23:58.931251Z",
     "shell.execute_reply.started": "2024-04-20T14:23:58.926188Z"
    }
   },
   "outputs": [],
   "source": [
    "def build_dataset(words, block_size=3):\n",
    "    # Context length: How many characters do we take to predict the next one?\n",
    "    \n",
    "    X, Y = [], []\n",
    "    \n",
    "    verbose = False\n",
    "    for word in words:\n",
    "    \n",
    "        context = [0] * block_size\n",
    "    \n",
    "        for char in word + '.':\n",
    "            ix = char_to_index[char]\n",
    "            X.append(context)\n",
    "            Y.append(ix)\n",
    "            context = context[1:] + [ix]  # crop and append\n",
    "    \n",
    "    X = torch.tensor(X)\n",
    "    Y = torch.tensor(Y)\n",
    "\n",
    "    s1, s2 = X.shape\n",
    "    s = Y.shape[0]\n",
    "    \n",
    "    print(f'X({s1}, {s2}) | Y({s})')\n",
    "    \n",
    "    return X, Y"
   ]
  },
  {
   "cell_type": "code",
   "execution_count": 21,
   "id": "52217749-d89a-4cd3-a030-a45c339e9273",
   "metadata": {
    "execution": {
     "iopub.execute_input": "2024-04-20T14:25:01.169937Z",
     "iopub.status.busy": "2024-04-20T14:25:01.169635Z",
     "iopub.status.idle": "2024-04-20T14:25:01.991051Z",
     "shell.execute_reply": "2024-04-20T14:25:01.990178Z",
     "shell.execute_reply.started": "2024-04-20T14:25:01.169913Z"
    }
   },
   "outputs": [
    {
     "name": "stdout",
     "output_type": "stream",
     "text": [
      "*** FULL DATA ***     | X(182625, 3) | Y(182625)\n",
      "*** TRAIN ***         | X(182625, 3) | Y(182625)\n",
      "*** VALIDATION ***    | X(22655, 3) | Y(22655)\n",
      "*** TEST ***          | X(22866, 3) | Y(22866)\n"
     ]
    }
   ],
   "source": [
    "print('*** FULL DATA ***    ', end=' | ')\n",
    "X, Y = build_dataset(train_set)\n",
    "\n",
    "print('*** TRAIN ***        ', end=' | ')\n",
    "X_train, Y_train           = build_dataset(train_set)\n",
    "\n",
    "print('*** VALIDATION ***   ', end=' | ')\n",
    "X_validation, Y_validation = build_dataset(val_set)\n",
    "\n",
    "print('*** TEST ***         ', end=' | ')\n",
    "X_test, Y_test             = build_dataset(test_set)"
   ]
  },
  {
   "cell_type": "code",
   "execution_count": 22,
   "id": "4bd4b23c-367c-48c2-b13f-a3b698c6f64c",
   "metadata": {
    "execution": {
     "iopub.execute_input": "2024-04-20T14:25:27.545647Z",
     "iopub.status.busy": "2024-04-20T14:25:27.545385Z",
     "iopub.status.idle": "2024-04-20T14:25:27.548875Z",
     "shell.execute_reply": "2024-04-20T14:25:27.548149Z",
     "shell.execute_reply.started": "2024-04-20T14:25:27.545628Z"
    }
   },
   "outputs": [],
   "source": [
    "block_size            = 3\n",
    "input_characters      = 3\n",
    "W1_neuron_count       = 100\n",
    "dim_of_each_character = 2\n",
    "input_layer_nodes     = input_characters * dim_of_each_character\n",
    "b1_count              = W1_neuron_count"
   ]
  },
  {
   "cell_type": "code",
   "execution_count": 23,
   "id": "dd043374-99f8-48bf-a379-bcf62ada776b",
   "metadata": {
    "execution": {
     "iopub.execute_input": "2024-04-20T14:25:28.777617Z",
     "iopub.status.busy": "2024-04-20T14:25:28.777216Z",
     "iopub.status.idle": "2024-04-20T14:25:28.782843Z",
     "shell.execute_reply": "2024-04-20T14:25:28.782005Z",
     "shell.execute_reply.started": "2024-04-20T14:25:28.777595Z"
    }
   },
   "outputs": [],
   "source": [
    "g = torch.Generator().manual_seed(2147483647)  # For reproducibility\n",
    "\n",
    "C =  torch.randn((dim, dim_of_each_character), generator=g)\n",
    "\n",
    "W1 = torch.randn((input_layer_nodes, W1_neuron_count), generator=g)\n",
    "b1 = torch.randn(b1_count, generator=g)\n",
    "\n",
    "W2 = torch.randn((W1_neuron_count, dim), generator=g)\n",
    "b2 = torch.randn(dim, generator=g)\n",
    "\n",
    "parameters = [C, W1, b1, W2, b2]"
   ]
  },
  {
   "cell_type": "code",
   "execution_count": 24,
   "id": "c9220247-d2b0-4d90-9cce-036e922e4a44",
   "metadata": {
    "execution": {
     "iopub.execute_input": "2024-04-20T14:25:30.777126Z",
     "iopub.status.busy": "2024-04-20T14:25:30.776816Z",
     "iopub.status.idle": "2024-04-20T14:25:30.781973Z",
     "shell.execute_reply": "2024-04-20T14:25:30.781156Z",
     "shell.execute_reply.started": "2024-04-20T14:25:30.777101Z"
    }
   },
   "outputs": [
    {
     "data": {
      "text/plain": [
       "(torch.Size([27, 2]),\n",
       " torch.Size([6, 100]),\n",
       " torch.Size([100]),\n",
       " torch.Size([100, 27]),\n",
       " torch.Size([27]))"
      ]
     },
     "execution_count": 24,
     "metadata": {},
     "output_type": "execute_result"
    }
   ],
   "source": [
    "C.shape, W1.shape, b1.shape, W2.shape, b2.shape"
   ]
  },
  {
   "cell_type": "code",
   "execution_count": 25,
   "id": "6382f4a8-7648-45e5-bef7-b95821c33d4f",
   "metadata": {
    "execution": {
     "iopub.execute_input": "2024-04-20T14:25:36.205840Z",
     "iopub.status.busy": "2024-04-20T14:25:36.205541Z",
     "iopub.status.idle": "2024-04-20T14:25:36.500581Z",
     "shell.execute_reply": "2024-04-20T14:25:36.499589Z",
     "shell.execute_reply.started": "2024-04-20T14:25:36.205817Z"
    }
   },
   "outputs": [
    {
     "data": {
      "image/png": "[encoded data removed]",
      "text/plain": [
       "<Figure size 800x800 with 1 Axes>"
      ]
     },
     "metadata": {},
     "output_type": "display_data"
    }
   ],
   "source": [
    "plt.figure(figsize=(8, 8))\n",
    "plt.scatter(C[:, 0].data, C[:, 1].data, s=200)\n",
    "for i in range(C.shape[0]):\n",
    "    plt.text(\n",
    "        C[i, 0].item(),\n",
    "        C[i, 1].item(),\n",
    "        index_to_char[i],\n",
    "        ha='center',\n",
    "        va='center',\n",
    "        color='white'\n",
    "    )\n",
    "plt.grid('minor')"
   ]
  },
  {
   "cell_type": "code",
   "execution_count": 26,
   "id": "cbc35d89-600d-4264-ade7-023da6c76698",
   "metadata": {
    "execution": {
     "iopub.execute_input": "2024-04-20T14:25:44.115695Z",
     "iopub.status.busy": "2024-04-20T14:25:44.115408Z",
     "iopub.status.idle": "2024-04-20T14:25:44.120149Z",
     "shell.execute_reply": "2024-04-20T14:25:44.119406Z",
     "shell.execute_reply.started": "2024-04-20T14:25:44.115672Z"
    }
   },
   "outputs": [
    {
     "data": {
      "text/plain": [
       "3481"
      ]
     },
     "execution_count": 26,
     "metadata": {},
     "output_type": "execute_result"
    }
   ],
   "source": [
    "sum(p.nelement() for p in parameters)  # Number of parameters in total"
   ]
  },
  {
   "cell_type": "code",
   "execution_count": 27,
   "id": "a32f98f0-a5b1-4718-bb47-a67ed1d5a6ef",
   "metadata": {
    "execution": {
     "iopub.execute_input": "2024-04-20T14:25:45.136407Z",
     "iopub.status.busy": "2024-04-20T14:25:45.136148Z",
     "iopub.status.idle": "2024-04-20T14:25:45.139536Z",
     "shell.execute_reply": "2024-04-20T14:25:45.138730Z",
     "shell.execute_reply.started": "2024-04-20T14:25:45.136386Z"
    }
   },
   "outputs": [],
   "source": [
    "for p in parameters:\n",
    "    p.requires_grad = True"
   ]
  },
  {
   "cell_type": "code",
   "execution_count": 28,
   "id": "f12d1ca3-1367-49fc-b61a-81edcc2b72d7",
   "metadata": {
    "execution": {
     "iopub.execute_input": "2024-04-20T14:26:15.154773Z",
     "iopub.status.busy": "2024-04-20T14:26:15.154489Z",
     "iopub.status.idle": "2024-04-20T14:26:31.495705Z",
     "shell.execute_reply": "2024-04-20T14:26:31.495053Z",
     "shell.execute_reply.started": "2024-04-20T14:26:15.154752Z"
    },
    "scrolled": true
   },
   "outputs": [
    {
     "name": "stdout",
     "output_type": "stream",
     "text": [
      "[+] Epoc: 0     | lr: 0.05    | Loss: 17.5298\n",
      "[+] Epoc: 5000  | lr: 0.05    | Loss: 2.2917\n",
      "[+] Epoc: 10000 | lr: 0.025   | Loss: 2.4893\n",
      "[+] Epoc: 15000 | lr: 0.025   | Loss: 2.2118\n",
      "[+] Epoc: 20000 | lr: 0.0125  | Loss: 2.4747\n",
      "[+] Epoc: 25000 | lr: 0.0125  | Loss: 2.4668\n",
      "[+] Epoc: 30000 | lr: 0.0063  | Loss: 2.6344\n",
      "[+] Epoc: 35000 | lr: 0.0063  | Loss: 2.3544\n",
      "[+] Epoc: 40000 | lr: 0.0031  | Loss: 2.4029\n",
      "[+] Epoc: 45000 | lr: 0.0031  | Loss: 2.2599\n",
      "[+] Epoc: 50000 | lr: 0.0016  | Loss: 2.7309\n"
     ]
    }
   ],
   "source": [
    "no_of_epoc = 50_001\n",
    "lr         = 0.1\n",
    "\n",
    "track_loss, track_steps = [], []\n",
    "\n",
    "for epoc in range(no_of_epoc):\n",
    "\n",
    "    # MINI-BATCH CONSTRUCT\n",
    "    ix = torch.randint(0, X_train.shape[0], (32,))\n",
    "\n",
    "    # FORWARD PASS\n",
    "    embedding = C[X_train[ix]]\n",
    "    h = embedding.reshape(-1, input_layer_nodes)\n",
    "    h = torch.tanh(h @ W1 + b1)\n",
    "    logits = h @ W2 + b2\n",
    "    loss = F.cross_entropy(logits, Y_train[ix])\n",
    "    \n",
    "    \n",
    "    # BACKWARD PASS\n",
    "    for p in parameters: p.grad = None\n",
    "    \n",
    "    loss.backward()\n",
    "\n",
    "    if epoc%10_000==0: lr /= 2\n",
    "        \n",
    "    for p in parameters: p.data += -lr * p.grad\n",
    "\n",
    "    # TRACKING\n",
    "    track_loss.append(loss.log10().item())\n",
    "    track_steps.append(epoc)\n",
    "    \n",
    "    if epoc%5000==0:\n",
    "        print(f'[+] Epoc: {epoc:<5} | lr: {round(lr, 4):<7} | Loss: {round(loss.item(), 4)}')\n",
    "\n",
    "# print(f'\\n[+] LOSS: {loss.item()}')"
   ]
  },
  {
   "cell_type": "code",
   "execution_count": 29,
   "id": "0e62d361-8b1e-4882-a18f-b0c0848cba98",
   "metadata": {
    "execution": {
     "iopub.execute_input": "2024-04-20T14:26:44.392551Z",
     "iopub.status.busy": "2024-04-20T14:26:44.392255Z",
     "iopub.status.idle": "2024-04-20T14:26:44.668620Z",
     "shell.execute_reply": "2024-04-20T14:26:44.668018Z",
     "shell.execute_reply.started": "2024-04-20T14:26:44.392529Z"
    }
   },
   "outputs": [
    {
     "data": {
      "text/plain": [
       "[<matplotlib.lines.Line2D at 0x12413c950>]"
      ]
     },
     "execution_count": 29,
     "metadata": {},
     "output_type": "execute_result"
    },
    {
     "data": {
      "image/png": "[encoded data removed]",
      "text/plain": [
       "<Figure size 640x480 with 1 Axes>"
      ]
     },
     "metadata": {},
     "output_type": "display_data"
    }
   ],
   "source": [
    "plt.plot(track_steps, track_loss)"
   ]
  },
  {
   "cell_type": "code",
   "execution_count": 30,
   "id": "1f83a074-b4d1-40aa-8095-82185ba14c6f",
   "metadata": {
    "execution": {
     "iopub.execute_input": "2024-04-20T14:26:58.069343Z",
     "iopub.status.busy": "2024-04-20T14:26:58.069042Z",
     "iopub.status.idle": "2024-04-20T14:26:58.092045Z",
     "shell.execute_reply": "2024-04-20T14:26:58.091133Z",
     "shell.execute_reply.started": "2024-04-20T14:26:58.069319Z"
    }
   },
   "outputs": [
    {
     "data": {
      "text/plain": [
       "2.4086523056030273"
      ]
     },
     "execution_count": 30,
     "metadata": {},
     "output_type": "execute_result"
    }
   ],
   "source": [
    "# Loss on Validation set\n",
    "\n",
    "embedding = C[X_validation]\n",
    "h = embedding.reshape(-1, input_layer_nodes)\n",
    "h = torch.tanh(h @ W1 + b1)\n",
    "logits = h @ W2 + b2\n",
    "loss = F.cross_entropy(logits, Y_validation)\n",
    "loss.item()"
   ]
  },
  {
   "cell_type": "code",
   "execution_count": 31,
   "id": "9b9cfe5d-78d1-4200-9c45-56b758ce5f4c",
   "metadata": {
    "execution": {
     "iopub.execute_input": "2024-04-20T14:26:59.285620Z",
     "iopub.status.busy": "2024-04-20T14:26:59.285312Z",
     "iopub.status.idle": "2024-04-20T14:26:59.425607Z",
     "shell.execute_reply": "2024-04-20T14:26:59.424938Z",
     "shell.execute_reply.started": "2024-04-20T14:26:59.285596Z"
    }
   },
   "outputs": [
    {
     "data": {
      "text/plain": [
       "2.411569356918335"
      ]
     },
     "execution_count": 31,
     "metadata": {},
     "output_type": "execute_result"
    }
   ],
   "source": [
    "# Loss on Train set\n",
    "\n",
    "embedding = C[X_train]\n",
    "h = embedding.reshape(-1, input_layer_nodes)\n",
    "h = torch.tanh(h @ W1 + b1)\n",
    "logits = h @ W2 + b2\n",
    "loss = F.cross_entropy(logits, Y_train)\n",
    "loss.item()"
   ]
  },
  {
   "cell_type": "code",
   "execution_count": 32,
   "id": "d6205a26-2374-4744-b9d7-af20c8f5b8ba",
   "metadata": {
    "execution": {
     "iopub.execute_input": "2024-04-20T14:27:00.738987Z",
     "iopub.status.busy": "2024-04-20T14:27:00.738720Z",
     "iopub.status.idle": "2024-04-20T14:27:00.777582Z",
     "shell.execute_reply": "2024-04-20T14:27:00.776758Z",
     "shell.execute_reply.started": "2024-04-20T14:27:00.738967Z"
    }
   },
   "outputs": [
    {
     "data": {
      "text/plain": [
       "2.414377450942993"
      ]
     },
     "execution_count": 32,
     "metadata": {},
     "output_type": "execute_result"
    }
   ],
   "source": [
    "# Loss on Test set\n",
    "\n",
    "embedding = C[X_test]\n",
    "h = embedding.reshape(-1, input_layer_nodes)\n",
    "h = torch.tanh(h @ W1 + b1)\n",
    "logits = h @ W2 + b2\n",
    "loss = F.cross_entropy(logits, Y_test)\n",
    "loss.item()"
   ]
  },
  {
   "cell_type": "markdown",
   "id": "9359c96a-dbd9-4e72-ab14-12d2a5159f65",
   "metadata": {},
   "source": [
    "### Visualising character embedding "
   ]
  },
  {
   "cell_type": "code",
   "execution_count": 33,
   "id": "af32fb98-6fc5-4ca2-89e5-b905b054bc75",
   "metadata": {
    "execution": {
     "iopub.execute_input": "2024-04-20T14:27:05.690417Z",
     "iopub.status.busy": "2024-04-20T14:27:05.690117Z",
     "iopub.status.idle": "2024-04-20T14:27:05.912172Z",
     "shell.execute_reply": "2024-04-20T14:27:05.911665Z",
     "shell.execute_reply.started": "2024-04-20T14:27:05.690394Z"
    }
   },
   "outputs": [
    {
     "data": {
      "image/png": "[encoded data removed]",
      "text/plain": [
       "<Figure size 800x800 with 1 Axes>"
      ]
     },
     "metadata": {},
     "output_type": "display_data"
    }
   ],
   "source": [
    "plt.figure(figsize=(8, 8))\n",
    "plt.scatter(C[:, 0].data, C[:, 1].data, s=300)\n",
    "for i in range(C.shape[0]):\n",
    "    plt.text(\n",
    "        C[i, 0].item(),\n",
    "        C[i, 1].item(),\n",
    "        index_to_char[i],\n",
    "        ha='center',\n",
    "        va='center',\n",
    "        color='white'\n",
    "    )\n",
    "plt.grid('minor')"
   ]
  },
  {
   "cell_type": "markdown",
   "id": "7bfe05f9-8c13-49b2-ba40-5ff11076cb2c",
   "metadata": {},
   "source": [
    "## Sample from the model"
   ]
  },
  {
   "cell_type": "code",
   "execution_count": 34,
   "id": "c9cb5359-e6f1-4b68-8604-cd10ee078b61",
   "metadata": {
    "execution": {
     "iopub.execute_input": "2024-04-20T14:27:22.330903Z",
     "iopub.status.busy": "2024-04-20T14:27:22.330565Z",
     "iopub.status.idle": "2024-04-20T14:27:22.394466Z",
     "shell.execute_reply": "2024-04-20T14:27:22.393515Z",
     "shell.execute_reply.started": "2024-04-20T14:27:22.330877Z"
    }
   },
   "outputs": [
    {
     "name": "stdout",
     "output_type": "stream",
     "text": [
      "[+] mria.\n",
      "[+] mayan.\n",
      "[+] seelend.\n",
      "[+] ryalorenmastendrleg.\n",
      "[+] azehedieliih.\n",
      "[+] mioren.\n",
      "[+] ede.\n",
      "[+] suso.\n",
      "[+] nar.\n",
      "[+] kay.\n",
      "[+] kohlyegin.\n",
      "[+] shdenrishiries.\n",
      "[+] kin.\n",
      "[+] renlynnan.\n",
      "[+] pucoyu.\n",
      "[+] zen.\n",
      "[+] dar.\n",
      "[+] yarue.\n",
      "[+] ehg.\n",
      "[+] kay.\n"
     ]
    }
   ],
   "source": [
    "g = torch.Generator().manual_seed(2147483647 + 10)  # For reproducibility\n",
    "\n",
    "for _ in range(20):\n",
    "    out = []\n",
    "    context = [0]*block_size  # initialize with \"...\"\n",
    "    \n",
    "    while True:\n",
    "        emb = C[torch.tensor([context])]  # (1, block_size, d)\n",
    "        h = torch.tanh(emb.reshape(1, -1) @ W1 + b1)\n",
    "        logits = h @ W2 + b2\n",
    "        probs = F.softmax(logits, dim=1)\n",
    "        ix = torch.multinomial(probs, num_samples=1, generator=g).item()\n",
    "        context = context[1:] + [ix]\n",
    "        out.append(ix)\n",
    "\n",
    "        if ix == 0:\n",
    "            break\n",
    "\n",
    "    print(f'[+] {\"\".join(index_to_char[i] for i in out)}')"
   ]
  },
  {
   "cell_type": "code",
   "execution_count": null,
   "id": "6e7c35d4-0cad-4dec-ba44-d339c2d7e3a7",
   "metadata": {},
   "outputs": [],
   "source": []
  },
  {
   "cell_type": "code",
   "execution_count": null,
   "id": "df08aa83-bd07-4c66-a3b9-d425822bbda9",
   "metadata": {},
   "outputs": [],
   "source": []
  },
  {
   "cell_type": "code",
   "execution_count": null,
   "id": "598ae544-716f-4abe-8e94-9873142ed4fa",
   "metadata": {},
   "outputs": [],
   "source": []
  }
 ],
 "metadata": {
  "kernelspec": {
   "display_name": "gpt_dev",
   "language": "python",
   "name": "gpt_dev"
  },
  "language_info": {
   "codemirror_mode": {
    "name": "ipython",
    "version": 3
   },
   "file_extension": ".py",
   "mimetype": "text/x-python",
   "name": "python",
   "nbconvert_exporter": "python",
   "pygments_lexer": "ipython3",
   "version": "3.11.8"
  }
 },
 "nbformat": 4,
 "nbformat_minor": 5
}
